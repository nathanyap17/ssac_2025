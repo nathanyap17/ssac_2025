{
  "cells": [
    {
      "cell_type": "markdown",
      "metadata": {
        "id": "view-in-github",
        "colab_type": "text"
      },
      "source": [
        "<a href=\"https://colab.research.google.com/github/nathanyap17/ssac_2025/blob/master/toi_analysis.ipynb\" target=\"_parent\"><img src=\"https://colab.research.google.com/assets/colab-badge.svg\" alt=\"Open In Colab\"/></a>"
      ]
    },
    {
      "cell_type": "markdown",
      "id": "c4c36697",
      "metadata": {
        "vscode": {
          "languageId": "plaintext"
        },
        "id": "c4c36697"
      },
      "source": [
        "<p style=\"text-align:center\">\n",
        "    <a href=\"https://www.spaceappschallenge.org/2025/find-a-team/borneo-data-pioneers/\" target=\"_blank\">\n",
        "    <img src=\"https://github.com/nathanyap17/ssac_2025/blob/master/assets/BDP_Profile.png?raw=1\" width=\"200\" alt=\"Borneo Data Pioneers\"  />\n",
        "    </a>\n",
        "</p>\n",
        "\n",
        "<h1 align=center><font size = 5>Data Analysis & Engineering on TOI</font></h1>"
      ]
    },
    {
      "cell_type": "markdown",
      "id": "760ae01e",
      "metadata": {
        "id": "760ae01e"
      },
      "source": [
        "# TESS Object of Interest\n"
      ]
    },
    {
      "cell_type": "markdown",
      "id": "7cea60aa",
      "metadata": {
        "vscode": {
          "languageId": "plaintext"
        },
        "id": "7cea60aa"
      },
      "source": [
        "##### This dataset is a comprehensive list of all confirmed exoplanets, planetary candidates (PC), false positives (FP), ambiguous planetary candidates (APC), and known planets (KP, previously identified) identified by the TESS mission so far. See column “TFOWPG Disposition” for classification."
      ]
    },
    {
      "cell_type": "markdown",
      "id": "4b306a7c",
      "metadata": {
        "id": "4b306a7c"
      },
      "source": [
        "toi: The TOI identifier. This is critical for fetching the actual TESS light curve data. \\\n",
        "tid: TESS Input Catalog (TIC) ID. Another identifier that can be used to fetch light curves. \\\n",
        "tfopwg_disp: THIS IS YOUR DEPENDENT VARIABLE (LABEL)! \\\n",
        "FP: False Positive \\\n",
        "PC: Planetary Candidate \\\n",
        "KP: Confirmed Planet (Kepler Planet - likely confirmed by Kepler data or follow-up) \\\n",
        "APC: Awaiting Planetary Candidate (Essentially a PC, but awaiting further vetting) \\\n",
        "You'll map these to numerical labels (e.g., 0, 1, 2 or consolidate as needed). \\\n",
        "pl_orbper: Orbital Period (days). Essential for phase-folding light curves. \\\n",
        "pl_tranmid: Transit Midpoint (BJD). Essential for phase-folding light curves. \\\n",
        "pl_trandurh: Transit Duration (hours). Important for characterizing the transit. \\\n",
        "pl_trandep: Transit Depth (parts per thousand, ppt). Another key transit characteristic. \\\n",
        "st_teff: Stellar Effective Temperature (Kelvin).\n",
        "Crucial for identifying M-dwarfs and estimating habitability. \\\n",
        "st_rad: Stellar Radius (solar radii). Influences transit depth and planet radius calculation.\n",
        "pl_rade: Planetary Radius (Earth radii).\n",
        "A key derived parameter; useful for determining HZ potential.\n",
        "pl_insol: Incident Stellar Flux (Earth flux units). Direct measure for Habitability Zone (HZ) assessment.\n",
        "pl_eqt: Equilibrium Temperature (Kelvin). Another direct measure for HZ."
      ]
    },
    {
      "cell_type": "markdown",
      "id": "ad5819f1",
      "metadata": {
        "vscode": {
          "languageId": "plaintext"
        },
        "id": "ad5819f1"
      },
      "source": [
        "### Import Dependencies & Libraries"
      ]
    },
    {
      "cell_type": "code",
      "execution_count": null,
      "id": "a7aed595",
      "metadata": {
        "id": "a7aed595",
        "outputId": "6fa54527-0cc2-437a-eace-dd6412c5592d",
        "colab": {
          "base_uri": "https://localhost:8080/"
        }
      },
      "outputs": [
        {
          "output_type": "stream",
          "name": "stdout",
          "text": [
            "Requirement already satisfied: pandas in /usr/local/lib/python3.12/dist-packages (2.2.2)\n",
            "Requirement already satisfied: numpy>=1.26.0 in /usr/local/lib/python3.12/dist-packages (from pandas) (2.0.2)\n",
            "Requirement already satisfied: python-dateutil>=2.8.2 in /usr/local/lib/python3.12/dist-packages (from pandas) (2.9.0.post0)\n",
            "Requirement already satisfied: pytz>=2020.1 in /usr/local/lib/python3.12/dist-packages (from pandas) (2025.2)\n",
            "Requirement already satisfied: tzdata>=2022.7 in /usr/local/lib/python3.12/dist-packages (from pandas) (2025.2)\n",
            "Requirement already satisfied: six>=1.5 in /usr/local/lib/python3.12/dist-packages (from python-dateutil>=2.8.2->pandas) (1.17.0)\n",
            "Requirement already satisfied: pandas in /usr/local/lib/python3.12/dist-packages (2.2.2)\n",
            "Requirement already satisfied: numpy>=1.26.0 in /usr/local/lib/python3.12/dist-packages (from pandas) (2.0.2)\n",
            "Requirement already satisfied: python-dateutil>=2.8.2 in /usr/local/lib/python3.12/dist-packages (from pandas) (2.9.0.post0)\n",
            "Requirement already satisfied: pytz>=2020.1 in /usr/local/lib/python3.12/dist-packages (from pandas) (2025.2)\n",
            "Requirement already satisfied: tzdata>=2022.7 in /usr/local/lib/python3.12/dist-packages (from pandas) (2025.2)\n",
            "Requirement already satisfied: six>=1.5 in /usr/local/lib/python3.12/dist-packages (from python-dateutil>=2.8.2->pandas) (1.17.0)\n"
          ]
        }
      ],
      "source": [
        "# Install nessary packages\n",
        "%pip install pandas\n",
        "%pip install matplotlib\n",
        "%pip install numpy\n",
        "%pip install seaborn\n",
        "%pip install scikit-learn"
      ]
    },
    {
      "cell_type": "code",
      "execution_count": null,
      "id": "ab580212",
      "metadata": {
        "id": "ab580212"
      },
      "outputs": [],
      "source": [
        "import pandas as pd\n",
        "import matplotlib.pyplot as plt\n",
        "import numpy as np\n",
        "import seaborn as sns\n",
        "from sklearn.linear_model import LinearRegression\n",
        "from sklearn.preprocessing import StandardScaler, PolynomialFeatures\n",
        "from sklearn.pipeline import Pipeline\n",
        "from sklearn.model_selection import train_test_split\n",
        "from sklearn.metrics import mean_squared_error, r2_score\n",
        "%matplotlib inline"
      ]
    },
    {
      "cell_type": "markdown",
      "id": "372ed7b6",
      "metadata": {
        "id": "372ed7b6"
      },
      "source": [
        "### 1. Importing Data Sets"
      ]
    },
    {
      "cell_type": "markdown",
      "id": "bafce2fd",
      "metadata": {
        "id": "bafce2fd"
      },
      "source": [
        "#### Load the csv file:"
      ]
    },
    {
      "cell_type": "code",
      "execution_count": null,
      "id": "a75d1d7d",
      "metadata": {
        "id": "a75d1d7d"
      },
      "outputs": [],
      "source": [
        "file_name = \"TOI_2025_org.csv\"\n",
        "df = pd.read_csv(file_name, header=0)"
      ]
    },
    {
      "cell_type": "code",
      "execution_count": null,
      "id": "685d5324",
      "metadata": {
        "id": "685d5324",
        "outputId": "6ba0df12-535c-4c71-f189-5c3bf0ed7ac5"
      },
      "outputs": [
        {
          "data": {
            "text/html": [
              "<div>\n",
              "<style scoped>\n",
              "    .dataframe tbody tr th:only-of-type {\n",
              "        vertical-align: middle;\n",
              "    }\n",
              "\n",
              "    .dataframe tbody tr th {\n",
              "        vertical-align: top;\n",
              "    }\n",
              "\n",
              "    .dataframe thead th {\n",
              "        text-align: right;\n",
              "    }\n",
              "</style>\n",
              "<table border=\"1\" class=\"dataframe\">\n",
              "  <thead>\n",
              "    <tr style=\"text-align: right;\">\n",
              "      <th></th>\n",
              "      <th>rowid</th>\n",
              "      <th>toi</th>\n",
              "      <th>toipfx</th>\n",
              "      <th>tid</th>\n",
              "      <th>ctoi_alias</th>\n",
              "      <th>pl_pnum</th>\n",
              "      <th>tfopwg_disp</th>\n",
              "      <th>rastr</th>\n",
              "      <th>ra</th>\n",
              "      <th>raerr1</th>\n",
              "      <th>...</th>\n",
              "      <th>st_loggerr2</th>\n",
              "      <th>st_logglim</th>\n",
              "      <th>st_loggsymerr</th>\n",
              "      <th>st_rad</th>\n",
              "      <th>st_raderr1</th>\n",
              "      <th>st_raderr2</th>\n",
              "      <th>st_radlim</th>\n",
              "      <th>st_radsymerr</th>\n",
              "      <th>toi_created</th>\n",
              "      <th>rowupdate</th>\n",
              "    </tr>\n",
              "  </thead>\n",
              "  <tbody>\n",
              "    <tr>\n",
              "      <th>0</th>\n",
              "      <td>1</td>\n",
              "      <td>1000.01</td>\n",
              "      <td>1000</td>\n",
              "      <td>50365310</td>\n",
              "      <td>5.036531e+07</td>\n",
              "      <td>1</td>\n",
              "      <td>FP</td>\n",
              "      <td>07h29m25.85s</td>\n",
              "      <td>112.357708</td>\n",
              "      <td>NaN</td>\n",
              "      <td>...</td>\n",
              "      <td>-0.07</td>\n",
              "      <td>0</td>\n",
              "      <td>1</td>\n",
              "      <td>2.16986</td>\n",
              "      <td>0.072573</td>\n",
              "      <td>-0.072573</td>\n",
              "      <td>0</td>\n",
              "      <td>1</td>\n",
              "      <td>2019-07-24 15:58:33</td>\n",
              "      <td>2024-09-09 10:08:01</td>\n",
              "    </tr>\n",
              "    <tr>\n",
              "      <th>1</th>\n",
              "      <td>2</td>\n",
              "      <td>1001.01</td>\n",
              "      <td>1001</td>\n",
              "      <td>88863718</td>\n",
              "      <td>8.886372e+07</td>\n",
              "      <td>1</td>\n",
              "      <td>PC</td>\n",
              "      <td>08h10m19.31s</td>\n",
              "      <td>122.580465</td>\n",
              "      <td>NaN</td>\n",
              "      <td>...</td>\n",
              "      <td>-0.09</td>\n",
              "      <td>0</td>\n",
              "      <td>1</td>\n",
              "      <td>2.01000</td>\n",
              "      <td>0.090000</td>\n",
              "      <td>-0.090000</td>\n",
              "      <td>0</td>\n",
              "      <td>1</td>\n",
              "      <td>2019-07-24 15:58:33</td>\n",
              "      <td>2023-04-03 14:31:04</td>\n",
              "    </tr>\n",
              "    <tr>\n",
              "      <th>2</th>\n",
              "      <td>3</td>\n",
              "      <td>1002.01</td>\n",
              "      <td>1002</td>\n",
              "      <td>124709665</td>\n",
              "      <td>1.247097e+08</td>\n",
              "      <td>1</td>\n",
              "      <td>FP</td>\n",
              "      <td>06h58m54.47s</td>\n",
              "      <td>104.726966</td>\n",
              "      <td>NaN</td>\n",
              "      <td>...</td>\n",
              "      <td>NaN</td>\n",
              "      <td>0</td>\n",
              "      <td>1</td>\n",
              "      <td>5.73000</td>\n",
              "      <td>NaN</td>\n",
              "      <td>NaN</td>\n",
              "      <td>0</td>\n",
              "      <td>1</td>\n",
              "      <td>2019-07-24 15:58:33</td>\n",
              "      <td>2022-07-11 16:02:02</td>\n",
              "    </tr>\n",
              "    <tr>\n",
              "      <th>3</th>\n",
              "      <td>4</td>\n",
              "      <td>1003.01</td>\n",
              "      <td>1003</td>\n",
              "      <td>106997505</td>\n",
              "      <td>1.069975e+08</td>\n",
              "      <td>1</td>\n",
              "      <td>FP</td>\n",
              "      <td>07h22m14.39s</td>\n",
              "      <td>110.559945</td>\n",
              "      <td>NaN</td>\n",
              "      <td>...</td>\n",
              "      <td>-1.64</td>\n",
              "      <td>0</td>\n",
              "      <td>1</td>\n",
              "      <td>NaN</td>\n",
              "      <td>NaN</td>\n",
              "      <td>NaN</td>\n",
              "      <td>0</td>\n",
              "      <td>1</td>\n",
              "      <td>2019-07-24 15:58:33</td>\n",
              "      <td>2022-02-23 10:10:02</td>\n",
              "    </tr>\n",
              "    <tr>\n",
              "      <th>4</th>\n",
              "      <td>5</td>\n",
              "      <td>1004.01</td>\n",
              "      <td>1004</td>\n",
              "      <td>238597883</td>\n",
              "      <td>2.385979e+08</td>\n",
              "      <td>1</td>\n",
              "      <td>FP</td>\n",
              "      <td>08h08m42.77s</td>\n",
              "      <td>122.178195</td>\n",
              "      <td>NaN</td>\n",
              "      <td>...</td>\n",
              "      <td>-0.07</td>\n",
              "      <td>0</td>\n",
              "      <td>1</td>\n",
              "      <td>2.15000</td>\n",
              "      <td>0.060000</td>\n",
              "      <td>-0.060000</td>\n",
              "      <td>0</td>\n",
              "      <td>1</td>\n",
              "      <td>2019-07-24 15:58:33</td>\n",
              "      <td>2024-09-09 10:08:01</td>\n",
              "    </tr>\n",
              "  </tbody>\n",
              "</table>\n",
              "<p>5 rows × 87 columns</p>\n",
              "</div>"
            ],
            "text/plain": [
              "   rowid      toi  toipfx        tid    ctoi_alias  pl_pnum tfopwg_disp  \\\n",
              "0      1  1000.01    1000   50365310  5.036531e+07        1          FP   \n",
              "1      2  1001.01    1001   88863718  8.886372e+07        1          PC   \n",
              "2      3  1002.01    1002  124709665  1.247097e+08        1          FP   \n",
              "3      4  1003.01    1003  106997505  1.069975e+08        1          FP   \n",
              "4      5  1004.01    1004  238597883  2.385979e+08        1          FP   \n",
              "\n",
              "          rastr          ra  raerr1  ...  st_loggerr2 st_logglim  \\\n",
              "0  07h29m25.85s  112.357708     NaN  ...        -0.07          0   \n",
              "1  08h10m19.31s  122.580465     NaN  ...        -0.09          0   \n",
              "2  06h58m54.47s  104.726966     NaN  ...          NaN          0   \n",
              "3  07h22m14.39s  110.559945     NaN  ...        -1.64          0   \n",
              "4  08h08m42.77s  122.178195     NaN  ...        -0.07          0   \n",
              "\n",
              "   st_loggsymerr   st_rad  st_raderr1  st_raderr2  st_radlim  st_radsymerr  \\\n",
              "0              1  2.16986    0.072573   -0.072573          0             1   \n",
              "1              1  2.01000    0.090000   -0.090000          0             1   \n",
              "2              1  5.73000         NaN         NaN          0             1   \n",
              "3              1      NaN         NaN         NaN          0             1   \n",
              "4              1  2.15000    0.060000   -0.060000          0             1   \n",
              "\n",
              "           toi_created            rowupdate  \n",
              "0  2019-07-24 15:58:33  2024-09-09 10:08:01  \n",
              "1  2019-07-24 15:58:33  2023-04-03 14:31:04  \n",
              "2  2019-07-24 15:58:33  2022-07-11 16:02:02  \n",
              "3  2019-07-24 15:58:33  2022-02-23 10:10:02  \n",
              "4  2019-07-24 15:58:33  2024-09-09 10:08:01  \n",
              "\n",
              "[5 rows x 87 columns]"
            ]
          },
          "execution_count": 16,
          "metadata": {},
          "output_type": "execute_result"
        }
      ],
      "source": [
        "df.head()"
      ]
    },
    {
      "cell_type": "code",
      "execution_count": null,
      "id": "58786b08",
      "metadata": {
        "id": "58786b08",
        "outputId": "905b9f0c-5f6d-4013-d1ad-422336b46e54"
      },
      "outputs": [
        {
          "name": "stdout",
          "output_type": "stream",
          "text": [
            "<class 'pandas.core.frame.DataFrame'>\n",
            "RangeIndex: 7668 entries, 0 to 7667\n",
            "Data columns (total 75 columns):\n",
            " #   Column             Non-Null Count  Dtype  \n",
            "---  ------             --------------  -----  \n",
            " 0   rowid              7668 non-null   int64  \n",
            " 1   toi                7668 non-null   float64\n",
            " 2   toipfx             7668 non-null   int64  \n",
            " 3   tid                7668 non-null   int64  \n",
            " 4   ctoi_alias         7668 non-null   float64\n",
            " 5   pl_pnum            7668 non-null   int64  \n",
            " 6   tfopwg_disp        7668 non-null   object \n",
            " 7   rastr              7668 non-null   object \n",
            " 8   ra                 7668 non-null   float64\n",
            " 9   decstr             7668 non-null   object \n",
            " 10  dec                7668 non-null   float64\n",
            " 11  st_pmra            7534 non-null   float64\n",
            " 12  st_pmraerr1        7534 non-null   float64\n",
            " 13  st_pmraerr2        7534 non-null   float64\n",
            " 14  st_pmralim         7534 non-null   float64\n",
            " 15  st_pmrasymerr      7534 non-null   float64\n",
            " 16  st_pmdec           7534 non-null   float64\n",
            " 17  st_pmdecerr1       7534 non-null   float64\n",
            " 18  st_pmdecerr2       7534 non-null   float64\n",
            " 19  st_pmdeclim        7534 non-null   float64\n",
            " 20  st_pmdecsymerr     7534 non-null   float64\n",
            " 21  pl_tranmid         7668 non-null   float64\n",
            " 22  pl_tranmiderr1     7657 non-null   float64\n",
            " 23  pl_tranmiderr2     7657 non-null   float64\n",
            " 24  pl_tranmidlim      7668 non-null   int64  \n",
            " 25  pl_tranmidsymerr   7668 non-null   int64  \n",
            " 26  pl_orbper          7562 non-null   float64\n",
            " 27  pl_orbpererr1      7538 non-null   float64\n",
            " 28  pl_orbpererr2      7538 non-null   float64\n",
            " 29  pl_orbperlim       7668 non-null   int64  \n",
            " 30  pl_orbpersymerr    7668 non-null   int64  \n",
            " 31  pl_trandurh        7668 non-null   float64\n",
            " 32  pl_trandurherr1    7655 non-null   float64\n",
            " 33  pl_trandurherr2    7655 non-null   float64\n",
            " 34  pl_trandurhlim     7668 non-null   int64  \n",
            " 35  pl_trandurhsymerr  7668 non-null   int64  \n",
            " 36  pl_trandep         7668 non-null   float64\n",
            " 37  pl_trandeperr1     7662 non-null   float64\n",
            " 38  pl_trandeperr2     7662 non-null   float64\n",
            " 39  pl_trandeplim      7668 non-null   int64  \n",
            " 40  pl_trandepsymerr   7668 non-null   int64  \n",
            " 41  pl_rade            7164 non-null   float64\n",
            " 42  pl_radeerr1        6047 non-null   float64\n",
            " 43  pl_radeerr2        6047 non-null   float64\n",
            " 44  pl_radelim         7668 non-null   int64  \n",
            " 45  pl_radesymerr      7668 non-null   int64  \n",
            " 46  pl_insol           7492 non-null   float64\n",
            " 47  pl_eqt             7357 non-null   float64\n",
            " 48  st_tmag            7668 non-null   float64\n",
            " 49  st_tmagerr1        7668 non-null   float64\n",
            " 50  st_tmagerr2        7668 non-null   float64\n",
            " 51  st_tmaglim         7668 non-null   int64  \n",
            " 52  st_tmagsymerr      7668 non-null   int64  \n",
            " 53  st_dist            7453 non-null   float64\n",
            " 54  st_disterr1        6962 non-null   float64\n",
            " 55  st_disterr2        6962 non-null   float64\n",
            " 56  st_distlim         7668 non-null   int64  \n",
            " 57  st_distsymerr      7668 non-null   int64  \n",
            " 58  st_teff            7507 non-null   float64\n",
            " 59  st_tefferr1        7195 non-null   float64\n",
            " 60  st_tefferr2        7195 non-null   float64\n",
            " 61  st_tefflim         7668 non-null   int64  \n",
            " 62  st_teffsymerr      7668 non-null   int64  \n",
            " 63  st_logg            6812 non-null   float64\n",
            " 64  st_loggerr1        5411 non-null   float64\n",
            " 65  st_loggerr2        5411 non-null   float64\n",
            " 66  st_logglim         7668 non-null   int64  \n",
            " 67  st_loggsymerr      7668 non-null   int64  \n",
            " 68  st_rad             7163 non-null   float64\n",
            " 69  st_raderr1         5718 non-null   float64\n",
            " 70  st_raderr2         5718 non-null   float64\n",
            " 71  st_radlim          7668 non-null   int64  \n",
            " 72  st_radsymerr       7668 non-null   int64  \n",
            " 73  toi_created        7668 non-null   object \n",
            " 74  rowupdate          7668 non-null   object \n",
            "dtypes: float64(46), int64(24), object(5)\n",
            "memory usage: 4.4+ MB\n"
          ]
        }
      ],
      "source": [
        "df.info()"
      ]
    },
    {
      "cell_type": "code",
      "execution_count": null,
      "id": "ba03baa6",
      "metadata": {
        "id": "ba03baa6"
      },
      "outputs": [],
      "source": [
        "# Extracting sample data\n",
        "df.head(30).to_csv('TOI_sample.csv', index=False)"
      ]
    },
    {
      "cell_type": "markdown",
      "id": "9b970a3d",
      "metadata": {
        "id": "9b970a3d"
      },
      "source": [
        "### 2. Data Wrangling"
      ]
    },
    {
      "cell_type": "markdown",
      "id": "468cb7d3",
      "metadata": {
        "id": "468cb7d3"
      },
      "source": [
        "##### Dealing with missing values and data cleaning"
      ]
    },
    {
      "cell_type": "code",
      "execution_count": null,
      "id": "ba6786c4",
      "metadata": {
        "id": "ba6786c4",
        "outputId": "1c14facb-43dd-408c-87a4-e8f893f2ac5a"
      },
      "outputs": [
        {
          "name": "stdout",
          "output_type": "stream",
          "text": [
            "rowid\n",
            "rowid\n",
            "False    7668\n",
            "Name: count, dtype: int64\n",
            "\n",
            "\n",
            "toi\n",
            "toi\n",
            "False    7668\n",
            "Name: count, dtype: int64\n",
            "\n",
            "\n",
            "toipfx\n",
            "toipfx\n",
            "False    7668\n",
            "Name: count, dtype: int64\n",
            "\n",
            "\n",
            "tid\n",
            "tid\n",
            "False    7668\n",
            "Name: count, dtype: int64\n",
            "\n",
            "\n",
            "ctoi_alias\n",
            "ctoi_alias\n",
            "False    7668\n",
            "Name: count, dtype: int64\n",
            "\n",
            "\n",
            "pl_pnum\n",
            "pl_pnum\n",
            "False    7668\n",
            "Name: count, dtype: int64\n",
            "\n",
            "\n",
            "tfopwg_disp\n",
            "tfopwg_disp\n",
            "False    7668\n",
            "Name: count, dtype: int64\n",
            "\n",
            "\n",
            "rastr\n",
            "rastr\n",
            "False    7668\n",
            "Name: count, dtype: int64\n",
            "\n",
            "\n",
            "ra\n",
            "ra\n",
            "False    7668\n",
            "Name: count, dtype: int64\n",
            "\n",
            "\n",
            "decstr\n",
            "decstr\n",
            "False    7668\n",
            "Name: count, dtype: int64\n",
            "\n",
            "\n",
            "dec\n",
            "dec\n",
            "False    7668\n",
            "Name: count, dtype: int64\n",
            "\n",
            "\n",
            "st_pmra\n",
            "st_pmra\n",
            "False    7534\n",
            "True      134\n",
            "Name: count, dtype: int64\n",
            "\n",
            "\n",
            "st_pmraerr1\n",
            "st_pmraerr1\n",
            "False    7534\n",
            "True      134\n",
            "Name: count, dtype: int64\n",
            "\n",
            "\n",
            "st_pmraerr2\n",
            "st_pmraerr2\n",
            "False    7534\n",
            "True      134\n",
            "Name: count, dtype: int64\n",
            "\n",
            "\n",
            "st_pmralim\n",
            "st_pmralim\n",
            "False    7534\n",
            "True      134\n",
            "Name: count, dtype: int64\n",
            "\n",
            "\n",
            "st_pmrasymerr\n",
            "st_pmrasymerr\n",
            "False    7534\n",
            "True      134\n",
            "Name: count, dtype: int64\n",
            "\n",
            "\n",
            "st_pmdec\n",
            "st_pmdec\n",
            "False    7534\n",
            "True      134\n",
            "Name: count, dtype: int64\n",
            "\n",
            "\n",
            "st_pmdecerr1\n",
            "st_pmdecerr1\n",
            "False    7534\n",
            "True      134\n",
            "Name: count, dtype: int64\n",
            "\n",
            "\n",
            "st_pmdecerr2\n",
            "st_pmdecerr2\n",
            "False    7534\n",
            "True      134\n",
            "Name: count, dtype: int64\n",
            "\n",
            "\n",
            "st_pmdeclim\n",
            "st_pmdeclim\n",
            "False    7668\n",
            "Name: count, dtype: int64\n",
            "\n",
            "\n",
            "st_pmdecsymerr\n",
            "st_pmdecsymerr\n",
            "False    7534\n",
            "True      134\n",
            "Name: count, dtype: int64\n",
            "\n",
            "\n",
            "pl_tranmid\n",
            "pl_tranmid\n",
            "False    7668\n",
            "Name: count, dtype: int64\n",
            "\n",
            "\n",
            "pl_tranmiderr1\n",
            "pl_tranmiderr1\n",
            "False    7657\n",
            "True       11\n",
            "Name: count, dtype: int64\n",
            "\n",
            "\n",
            "pl_tranmiderr2\n",
            "pl_tranmiderr2\n",
            "False    7657\n",
            "True       11\n",
            "Name: count, dtype: int64\n",
            "\n",
            "\n",
            "pl_tranmidlim\n",
            "pl_tranmidlim\n",
            "False    7668\n",
            "Name: count, dtype: int64\n",
            "\n",
            "\n",
            "pl_tranmidsymerr\n",
            "pl_tranmidsymerr\n",
            "False    7668\n",
            "Name: count, dtype: int64\n",
            "\n",
            "\n",
            "pl_orbper\n",
            "pl_orbper\n",
            "False    7562\n",
            "True      106\n",
            "Name: count, dtype: int64\n",
            "\n",
            "\n",
            "pl_orbpererr1\n",
            "pl_orbpererr1\n",
            "False    7538\n",
            "True      130\n",
            "Name: count, dtype: int64\n",
            "\n",
            "\n",
            "pl_orbpererr2\n",
            "pl_orbpererr2\n",
            "False    7538\n",
            "True      130\n",
            "Name: count, dtype: int64\n",
            "\n",
            "\n",
            "pl_orbperlim\n",
            "pl_orbperlim\n",
            "False    7668\n",
            "Name: count, dtype: int64\n",
            "\n",
            "\n",
            "pl_orbpersymerr\n",
            "pl_orbpersymerr\n",
            "False    7668\n",
            "Name: count, dtype: int64\n",
            "\n",
            "\n",
            "pl_trandurh\n",
            "pl_trandurh\n",
            "False    7668\n",
            "Name: count, dtype: int64\n",
            "\n",
            "\n",
            "pl_trandurherr1\n",
            "pl_trandurherr1\n",
            "False    7655\n",
            "True       13\n",
            "Name: count, dtype: int64\n",
            "\n",
            "\n",
            "pl_trandurherr2\n",
            "pl_trandurherr2\n",
            "False    7655\n",
            "True       13\n",
            "Name: count, dtype: int64\n",
            "\n",
            "\n",
            "pl_trandurhlim\n",
            "pl_trandurhlim\n",
            "False    7668\n",
            "Name: count, dtype: int64\n",
            "\n",
            "\n",
            "pl_trandurhsymerr\n",
            "pl_trandurhsymerr\n",
            "False    7668\n",
            "Name: count, dtype: int64\n",
            "\n",
            "\n",
            "pl_trandep\n",
            "pl_trandep\n",
            "False    7668\n",
            "Name: count, dtype: int64\n",
            "\n",
            "\n",
            "pl_trandeperr1\n",
            "pl_trandeperr1\n",
            "False    7662\n",
            "True        6\n",
            "Name: count, dtype: int64\n",
            "\n",
            "\n",
            "pl_trandeperr2\n",
            "pl_trandeperr2\n",
            "False    7662\n",
            "True        6\n",
            "Name: count, dtype: int64\n",
            "\n",
            "\n",
            "pl_trandeplim\n",
            "pl_trandeplim\n",
            "False    7668\n",
            "Name: count, dtype: int64\n",
            "\n",
            "\n",
            "pl_trandepsymerr\n",
            "pl_trandepsymerr\n",
            "False    7668\n",
            "Name: count, dtype: int64\n",
            "\n",
            "\n",
            "pl_rade\n",
            "pl_rade\n",
            "False    7164\n",
            "True      504\n",
            "Name: count, dtype: int64\n",
            "\n",
            "\n",
            "pl_radeerr1\n",
            "pl_radeerr1\n",
            "False    6047\n",
            "True     1621\n",
            "Name: count, dtype: int64\n",
            "\n",
            "\n",
            "pl_radeerr2\n",
            "pl_radeerr2\n",
            "False    6047\n",
            "True     1621\n",
            "Name: count, dtype: int64\n",
            "\n",
            "\n",
            "pl_radelim\n",
            "pl_radelim\n",
            "False    7668\n",
            "Name: count, dtype: int64\n",
            "\n",
            "\n",
            "pl_radesymerr\n",
            "pl_radesymerr\n",
            "False    7668\n",
            "Name: count, dtype: int64\n",
            "\n",
            "\n",
            "pl_insol\n",
            "pl_insol\n",
            "False    7492\n",
            "True      176\n",
            "Name: count, dtype: int64\n",
            "\n",
            "\n",
            "pl_eqt\n",
            "pl_eqt\n",
            "False    7357\n",
            "True      311\n",
            "Name: count, dtype: int64\n",
            "\n",
            "\n",
            "st_tmag\n",
            "st_tmag\n",
            "False    7668\n",
            "Name: count, dtype: int64\n",
            "\n",
            "\n",
            "st_tmagerr1\n",
            "st_tmagerr1\n",
            "False    7668\n",
            "Name: count, dtype: int64\n",
            "\n",
            "\n",
            "st_tmagerr2\n",
            "st_tmagerr2\n",
            "False    7668\n",
            "Name: count, dtype: int64\n",
            "\n",
            "\n",
            "st_tmaglim\n",
            "st_tmaglim\n",
            "False    7668\n",
            "Name: count, dtype: int64\n",
            "\n",
            "\n",
            "st_tmagsymerr\n",
            "st_tmagsymerr\n",
            "False    7668\n",
            "Name: count, dtype: int64\n",
            "\n",
            "\n",
            "st_dist\n",
            "st_dist\n",
            "False    7453\n",
            "True      215\n",
            "Name: count, dtype: int64\n",
            "\n",
            "\n",
            "st_disterr1\n",
            "st_disterr1\n",
            "False    6962\n",
            "True      706\n",
            "Name: count, dtype: int64\n",
            "\n",
            "\n",
            "st_disterr2\n",
            "st_disterr2\n",
            "False    6962\n",
            "True      706\n",
            "Name: count, dtype: int64\n",
            "\n",
            "\n",
            "st_distlim\n",
            "st_distlim\n",
            "False    7668\n",
            "Name: count, dtype: int64\n",
            "\n",
            "\n",
            "st_distsymerr\n",
            "st_distsymerr\n",
            "False    7668\n",
            "Name: count, dtype: int64\n",
            "\n",
            "\n",
            "st_teff\n",
            "st_teff\n",
            "False    7507\n",
            "True      161\n",
            "Name: count, dtype: int64\n",
            "\n",
            "\n",
            "st_tefferr1\n",
            "st_tefferr1\n",
            "False    7195\n",
            "True      473\n",
            "Name: count, dtype: int64\n",
            "\n",
            "\n",
            "st_tefferr2\n",
            "st_tefferr2\n",
            "False    7195\n",
            "True      473\n",
            "Name: count, dtype: int64\n",
            "\n",
            "\n",
            "st_tefflim\n",
            "st_tefflim\n",
            "False    7668\n",
            "Name: count, dtype: int64\n",
            "\n",
            "\n",
            "st_teffsymerr\n",
            "st_teffsymerr\n",
            "False    7668\n",
            "Name: count, dtype: int64\n",
            "\n",
            "\n",
            "st_logg\n",
            "st_logg\n",
            "False    6812\n",
            "True      856\n",
            "Name: count, dtype: int64\n",
            "\n",
            "\n",
            "st_loggerr1\n",
            "st_loggerr1\n",
            "False    5411\n",
            "True     2257\n",
            "Name: count, dtype: int64\n",
            "\n",
            "\n",
            "st_loggerr2\n",
            "st_loggerr2\n",
            "False    5411\n",
            "True     2257\n",
            "Name: count, dtype: int64\n",
            "\n",
            "\n",
            "st_logglim\n",
            "st_logglim\n",
            "False    7668\n",
            "Name: count, dtype: int64\n",
            "\n",
            "\n",
            "st_loggsymerr\n",
            "st_loggsymerr\n",
            "False    7668\n",
            "Name: count, dtype: int64\n",
            "\n",
            "\n",
            "st_rad\n",
            "st_rad\n",
            "False    7163\n",
            "True      505\n",
            "Name: count, dtype: int64\n",
            "\n",
            "\n",
            "st_raderr1\n",
            "st_raderr1\n",
            "False    5718\n",
            "True     1950\n",
            "Name: count, dtype: int64\n",
            "\n",
            "\n",
            "st_raderr2\n",
            "st_raderr2\n",
            "False    5718\n",
            "True     1950\n",
            "Name: count, dtype: int64\n",
            "\n",
            "\n",
            "st_radlim\n",
            "st_radlim\n",
            "False    7668\n",
            "Name: count, dtype: int64\n",
            "\n",
            "\n",
            "st_radsymerr\n",
            "st_radsymerr\n",
            "False    7668\n",
            "Name: count, dtype: int64\n",
            "\n",
            "\n",
            "toi_created\n",
            "toi_created\n",
            "False    7668\n",
            "Name: count, dtype: int64\n",
            "\n",
            "\n",
            "rowupdate\n",
            "rowupdate\n",
            "False    7668\n",
            "Name: count, dtype: int64\n",
            "\n",
            "\n"
          ]
        }
      ],
      "source": [
        "# Identify missing values in columns\n",
        "missing_values = df.isnull()\n",
        "for column in missing_values.columns.values.tolist():\n",
        "    print(column)\n",
        "    print(missing_values[column].value_counts())\n",
        "    print(\"\\n\")"
      ]
    },
    {
      "cell_type": "code",
      "execution_count": null,
      "id": "1a244828",
      "metadata": {
        "id": "1a244828",
        "outputId": "b800c2db-b8a6-4657-eb4f-3b75bba755c1"
      },
      "outputs": [
        {
          "name": "stdout",
          "output_type": "stream",
          "text": [
            "<class 'pandas.core.frame.DataFrame'>\n",
            "Index: 7562 entries, 0 to 7667\n",
            "Empty DataFrame\n"
          ]
        }
      ],
      "source": [
        "# Listing out columns with NaN values\n",
        "mv_col = df.columns[df.isnull().any()].tolist()\n",
        "df[mv_col].info()"
      ]
    },
    {
      "cell_type": "code",
      "execution_count": null,
      "id": "f97a6090",
      "metadata": {
        "id": "f97a6090"
      },
      "outputs": [],
      "source": [
        "# Removing columns with entirely NaN values\n",
        "df.dropna(axis=1, how='all', inplace=True)"
      ]
    },
    {
      "cell_type": "code",
      "execution_count": null,
      "id": "eca67113",
      "metadata": {
        "id": "eca67113",
        "outputId": "72e3d87d-3d67-4d96-e376-7b8d545733d3"
      },
      "outputs": [
        {
          "name": "stderr",
          "output_type": "stream",
          "text": [
            "C:\\Users\\USER\\AppData\\Local\\Temp\\ipykernel_20836\\1395275276.py:6: FutureWarning: A value is trying to be set on a copy of a DataFrame or Series through chained assignment using an inplace method.\n",
            "The behavior will change in pandas 3.0. This inplace method will never work because the intermediate object on which we are setting values always behaves as a copy.\n",
            "\n",
            "For example, when doing 'df[col].method(value, inplace=True)', try using 'df.method({col: value}, inplace=True)' or df[col] = df[col].method(value) instead, to perform the operation inplace on the original object.\n",
            "\n",
            "\n",
            "  df['st_pmra'].fillna(df['st_pmra'].mean(), inplace=True)\n"
          ]
        },
        {
          "data": {
            "text/plain": [
              "np.int64(0)"
            ]
          },
          "execution_count": 55,
          "metadata": {},
          "output_type": "execute_result"
        }
      ],
      "source": [
        "# Astrometry columns - Check if 10% of the rows are missing\n",
        "df['st_pmra'].isnull().sum()\n",
        "per = df['st_pmra'].isnull().sum() / len(df['st_pmra']) # OUTPUT: 1.74% of the rows are missing\n",
        "\n",
        "# Impute with means\n",
        "df['st_pmra'].fillna(df['st_pmra'].mean(), inplace=True)\n",
        "df['st_pmra'].isnull().sum()"
      ]
    },
    {
      "cell_type": "code",
      "execution_count": null,
      "id": "c78bbc3a",
      "metadata": {
        "id": "c78bbc3a",
        "outputId": "38a9c1c7-083f-4d31-8cf9-84917905540e"
      },
      "outputs": [
        {
          "name": "stderr",
          "output_type": "stream",
          "text": [
            "C:\\Users\\USER\\AppData\\Local\\Temp\\ipykernel_20836\\234793054.py:6: FutureWarning: A value is trying to be set on a copy of a DataFrame or Series through chained assignment using an inplace method.\n",
            "The behavior will change in pandas 3.0. This inplace method will never work because the intermediate object on which we are setting values always behaves as a copy.\n",
            "\n",
            "For example, when doing 'df[col].method(value, inplace=True)', try using 'df.method({col: value}, inplace=True)' or df[col] = df[col].method(value) instead, to perform the operation inplace on the original object.\n",
            "\n",
            "\n",
            "  df['st_pmdec'].fillna(df['st_pmdec'].mean(), inplace=True)\n"
          ]
        },
        {
          "data": {
            "text/plain": [
              "np.int64(0)"
            ]
          },
          "execution_count": 60,
          "metadata": {},
          "output_type": "execute_result"
        }
      ],
      "source": [
        "# Proper motion in Dec - Check if 10% of the rows are missing\n",
        "df['st_pmdec'].isnull().sum()\n",
        "per = df['st_pmdec'].isnull().sum() / len(df['st_pmdec']) * 100 # OUTPUT: 1.74% of the rows are missing\n",
        "\n",
        "# Impute with means\n",
        "df['st_pmdec'].fillna(df['st_pmdec'].mean(), inplace=True)\n",
        "df['st_pmdec'].isnull().sum()"
      ]
    },
    {
      "cell_type": "code",
      "execution_count": null,
      "id": "ead8e178",
      "metadata": {
        "id": "ead8e178",
        "outputId": "c7ab4015-14eb-4d42-da16-471943a73679"
      },
      "outputs": [
        {
          "name": "stderr",
          "output_type": "stream",
          "text": [
            "C:\\Users\\USER\\AppData\\Local\\Temp\\ipykernel_20836\\1053118530.py:5: FutureWarning: A value is trying to be set on a copy of a DataFrame or Series through chained assignment using an inplace method.\n",
            "The behavior will change in pandas 3.0. This inplace method will never work because the intermediate object on which we are setting values always behaves as a copy.\n",
            "\n",
            "For example, when doing 'df[col].method(value, inplace=True)', try using 'df.method({col: value}, inplace=True)' or df[col] = df[col].method(value) instead, to perform the operation inplace on the original object.\n",
            "\n",
            "\n",
            "  df[col].fillna(df[col].mean(), inplace=True)\n"
          ]
        },
        {
          "name": "stdout",
          "output_type": "stream",
          "text": [
            "0\n",
            "st_pmraerr1\n",
            "0.042    188\n",
            "0.038    172\n",
            "0.045    167\n",
            "0.040    164\n",
            "0.039    159\n",
            "        ... \n",
            "2.010      1\n",
            "2.170      1\n",
            "0.817      1\n",
            "1.699      1\n",
            "2.119      1\n",
            "Name: count, Length: 598, dtype: int64\n",
            "\n",
            "\n",
            "0\n",
            "st_pmraerr2\n",
            "-0.042    188\n",
            "-0.038    172\n",
            "-0.045    167\n",
            "-0.040    164\n",
            "-0.039    159\n",
            "         ... \n",
            "-2.010      1\n",
            "-2.170      1\n",
            "-0.817      1\n",
            "-1.699      1\n",
            "-2.119      1\n",
            "Name: count, Length: 598, dtype: int64\n",
            "\n",
            "\n",
            "0\n",
            "st_pmralim\n",
            "0.0    7668\n",
            "Name: count, dtype: int64\n",
            "\n",
            "\n",
            "0\n",
            "st_pmrasymerr\n",
            "1.0    7668\n",
            "Name: count, dtype: int64\n",
            "\n",
            "\n",
            "0\n",
            "st_pmdecerr1\n",
            "0.044    199\n",
            "0.042    193\n",
            "0.047    185\n",
            "0.041    184\n",
            "0.046    183\n",
            "        ... \n",
            "3.082      1\n",
            "1.194      1\n",
            "2.709      1\n",
            "0.397      1\n",
            "0.206      1\n",
            "Name: count, Length: 595, dtype: int64\n",
            "\n",
            "\n",
            "0\n",
            "st_pmdecerr2\n",
            "-0.044    199\n",
            "-0.042    193\n",
            "-0.047    185\n",
            "-0.041    184\n",
            "-0.046    183\n",
            "         ... \n",
            "-3.082      1\n",
            "-1.194      1\n",
            "-2.709      1\n",
            "-0.397      1\n",
            "-0.206      1\n",
            "Name: count, Length: 595, dtype: int64\n",
            "\n",
            "\n",
            "0\n",
            "st_pmdeclim\n",
            "0.0    7668\n",
            "Name: count, dtype: int64\n",
            "\n",
            "\n"
          ]
        }
      ],
      "source": [
        "# For all columns of relative errors - replace with mean/median\n",
        "relErr = ['st_pmraerr1', 'st_pmraerr2', 'st_pmralim', 'st_pmrasymerr', 'st_pmdecerr1', 'st_pmdecerr2', 'st_pmdeclim']\n",
        "\n",
        "for col in relErr:\n",
        "    df[col].fillna(df[col].mean(), inplace=True)\n",
        "    print(df[col].isnull().sum())\n",
        "    print(df[col].value_counts())\n",
        "    print('\\n')"
      ]
    },
    {
      "cell_type": "code",
      "execution_count": null,
      "id": "f3a53d50",
      "metadata": {
        "id": "f3a53d50",
        "outputId": "7b604bc9-77b5-40b1-a659-3f603bb7fde6"
      },
      "outputs": [
        {
          "name": "stderr",
          "output_type": "stream",
          "text": [
            "C:\\Users\\USER\\AppData\\Local\\Temp\\ipykernel_20836\\2086508548.py:2: FutureWarning: A value is trying to be set on a copy of a DataFrame or Series through chained assignment using an inplace method.\n",
            "The behavior will change in pandas 3.0. This inplace method will never work because the intermediate object on which we are setting values always behaves as a copy.\n",
            "\n",
            "For example, when doing 'df[col].method(value, inplace=True)', try using 'df.method({col: value}, inplace=True)' or df[col] = df[col].method(value) instead, to perform the operation inplace on the original object.\n",
            "\n",
            "\n",
            "  df['st_pmdeclim'].fillna(0, inplace=True)\n"
          ]
        },
        {
          "data": {
            "text/plain": [
              "st_pmdeclim\n",
              "0.0    7668\n",
              "Name: count, dtype: int64"
            ]
          },
          "execution_count": 36,
          "metadata": {},
          "output_type": "execute_result"
        }
      ],
      "source": [
        "# Replacing NaN values in columns\n",
        "df['st_pmdeclim'].fillna(0, inplace=True)\n",
        "df['st_pmdeclim'].value_counts()"
      ]
    },
    {
      "cell_type": "code",
      "execution_count": null,
      "id": "df311c52",
      "metadata": {
        "id": "df311c52",
        "outputId": "15069143-cd56-4a6e-b194-492a384b109a"
      },
      "outputs": [
        {
          "name": "stderr",
          "output_type": "stream",
          "text": [
            "C:\\Users\\USER\\AppData\\Local\\Temp\\ipykernel_20836\\2479021500.py:3: FutureWarning: A value is trying to be set on a copy of a DataFrame or Series through chained assignment using an inplace method.\n",
            "The behavior will change in pandas 3.0. This inplace method will never work because the intermediate object on which we are setting values always behaves as a copy.\n",
            "\n",
            "For example, when doing 'df[col].method(value, inplace=True)', try using 'df.method({col: value}, inplace=True)' or df[col] = df[col].method(value) instead, to perform the operation inplace on the original object.\n",
            "\n",
            "\n",
            "  df['st_pmdecsymerr'].fillna(0, inplace=True)  # zero-fill\n",
            "C:\\Users\\USER\\AppData\\Local\\Temp\\ipykernel_20836\\2479021500.py:6: FutureWarning: A value is trying to be set on a copy of a DataFrame or Series through chained assignment using an inplace method.\n",
            "The behavior will change in pandas 3.0. This inplace method will never work because the intermediate object on which we are setting values always behaves as a copy.\n",
            "\n",
            "For example, when doing 'df[col].method(value, inplace=True)', try using 'df.method({col: value}, inplace=True)' or df[col] = df[col].method(value) instead, to perform the operation inplace on the original object.\n",
            "\n",
            "\n",
            "  df['pl_tranmiderr1'].fillna(0, inplace=True)  # zero-fill\n",
            "C:\\Users\\USER\\AppData\\Local\\Temp\\ipykernel_20836\\2479021500.py:7: FutureWarning: A value is trying to be set on a copy of a DataFrame or Series through chained assignment using an inplace method.\n",
            "The behavior will change in pandas 3.0. This inplace method will never work because the intermediate object on which we are setting values always behaves as a copy.\n",
            "\n",
            "For example, when doing 'df[col].method(value, inplace=True)', try using 'df.method({col: value}, inplace=True)' or df[col] = df[col].method(value) instead, to perform the operation inplace on the original object.\n",
            "\n",
            "\n",
            "  df['pl_tranmiderr2'].fillna(0, inplace=True)  # zero-fill\n",
            "C:\\Users\\USER\\AppData\\Local\\Temp\\ipykernel_20836\\2479021500.py:13: FutureWarning: A value is trying to be set on a copy of a DataFrame or Series through chained assignment using an inplace method.\n",
            "The behavior will change in pandas 3.0. This inplace method will never work because the intermediate object on which we are setting values always behaves as a copy.\n",
            "\n",
            "For example, when doing 'df[col].method(value, inplace=True)', try using 'df.method({col: value}, inplace=True)' or df[col] = df[col].method(value) instead, to perform the operation inplace on the original object.\n",
            "\n",
            "\n",
            "  df['pl_orbpererr1'].fillna(df['pl_orbpererr1'].median(), inplace=True)  # median\n",
            "C:\\Users\\USER\\AppData\\Local\\Temp\\ipykernel_20836\\2479021500.py:14: FutureWarning: A value is trying to be set on a copy of a DataFrame or Series through chained assignment using an inplace method.\n",
            "The behavior will change in pandas 3.0. This inplace method will never work because the intermediate object on which we are setting values always behaves as a copy.\n",
            "\n",
            "For example, when doing 'df[col].method(value, inplace=True)', try using 'df.method({col: value}, inplace=True)' or df[col] = df[col].method(value) instead, to perform the operation inplace on the original object.\n",
            "\n",
            "\n",
            "  df['pl_orbpererr2'].fillna(df['pl_orbpererr2'].median(), inplace=True)  # median\n",
            "C:\\Users\\USER\\AppData\\Local\\Temp\\ipykernel_20836\\2479021500.py:17: FutureWarning: A value is trying to be set on a copy of a DataFrame or Series through chained assignment using an inplace method.\n",
            "The behavior will change in pandas 3.0. This inplace method will never work because the intermediate object on which we are setting values always behaves as a copy.\n",
            "\n",
            "For example, when doing 'df[col].method(value, inplace=True)', try using 'df.method({col: value}, inplace=True)' or df[col] = df[col].method(value) instead, to perform the operation inplace on the original object.\n",
            "\n",
            "\n",
            "  df['pl_trandurherr1'].fillna(df['pl_trandurherr1'].median(), inplace=True)  # median\n",
            "C:\\Users\\USER\\AppData\\Local\\Temp\\ipykernel_20836\\2479021500.py:18: FutureWarning: A value is trying to be set on a copy of a DataFrame or Series through chained assignment using an inplace method.\n",
            "The behavior will change in pandas 3.0. This inplace method will never work because the intermediate object on which we are setting values always behaves as a copy.\n",
            "\n",
            "For example, when doing 'df[col].method(value, inplace=True)', try using 'df.method({col: value}, inplace=True)' or df[col] = df[col].method(value) instead, to perform the operation inplace on the original object.\n",
            "\n",
            "\n",
            "  df['pl_trandurherr2'].fillna(df['pl_trandurherr2'].median(), inplace=True)  # median\n",
            "C:\\Users\\USER\\AppData\\Local\\Temp\\ipykernel_20836\\2479021500.py:21: FutureWarning: A value is trying to be set on a copy of a DataFrame or Series through chained assignment using an inplace method.\n",
            "The behavior will change in pandas 3.0. This inplace method will never work because the intermediate object on which we are setting values always behaves as a copy.\n",
            "\n",
            "For example, when doing 'df[col].method(value, inplace=True)', try using 'df.method({col: value}, inplace=True)' or df[col] = df[col].method(value) instead, to perform the operation inplace on the original object.\n",
            "\n",
            "\n",
            "  df['pl_trandeperr1'].fillna(df['pl_trandeperr1'].median(), inplace=True)  # median\n",
            "C:\\Users\\USER\\AppData\\Local\\Temp\\ipykernel_20836\\2479021500.py:22: FutureWarning: A value is trying to be set on a copy of a DataFrame or Series through chained assignment using an inplace method.\n",
            "The behavior will change in pandas 3.0. This inplace method will never work because the intermediate object on which we are setting values always behaves as a copy.\n",
            "\n",
            "For example, when doing 'df[col].method(value, inplace=True)', try using 'df.method({col: value}, inplace=True)' or df[col] = df[col].method(value) instead, to perform the operation inplace on the original object.\n",
            "\n",
            "\n",
            "  df['pl_trandeperr2'].fillna(df['pl_trandeperr2'].median(), inplace=True)  # median\n",
            "C:\\Users\\USER\\AppData\\Local\\Temp\\ipykernel_20836\\2479021500.py:25: FutureWarning: A value is trying to be set on a copy of a DataFrame or Series through chained assignment using an inplace method.\n",
            "The behavior will change in pandas 3.0. This inplace method will never work because the intermediate object on which we are setting values always behaves as a copy.\n",
            "\n",
            "For example, when doing 'df[col].method(value, inplace=True)', try using 'df.method({col: value}, inplace=True)' or df[col] = df[col].method(value) instead, to perform the operation inplace on the original object.\n",
            "\n",
            "\n",
            "  df['pl_rade'].fillna(df['pl_rade'].median(), inplace=True)  # median\n",
            "C:\\Users\\USER\\AppData\\Local\\Temp\\ipykernel_20836\\2479021500.py:28: FutureWarning: A value is trying to be set on a copy of a DataFrame or Series through chained assignment using an inplace method.\n",
            "The behavior will change in pandas 3.0. This inplace method will never work because the intermediate object on which we are setting values always behaves as a copy.\n",
            "\n",
            "For example, when doing 'df[col].method(value, inplace=True)', try using 'df.method({col: value}, inplace=True)' or df[col] = df[col].method(value) instead, to perform the operation inplace on the original object.\n",
            "\n",
            "\n",
            "  df['pl_radeerr1'].fillna(df['pl_radeerr1'].median(), inplace=True)  # median\n",
            "C:\\Users\\USER\\AppData\\Local\\Temp\\ipykernel_20836\\2479021500.py:29: FutureWarning: A value is trying to be set on a copy of a DataFrame or Series through chained assignment using an inplace method.\n",
            "The behavior will change in pandas 3.0. This inplace method will never work because the intermediate object on which we are setting values always behaves as a copy.\n",
            "\n",
            "For example, when doing 'df[col].method(value, inplace=True)', try using 'df.method({col: value}, inplace=True)' or df[col] = df[col].method(value) instead, to perform the operation inplace on the original object.\n",
            "\n",
            "\n",
            "  df['pl_radeerr2'].fillna(df['pl_radeerr2'].median(), inplace=True)  # median\n",
            "C:\\Users\\USER\\AppData\\Local\\Temp\\ipykernel_20836\\2479021500.py:32: FutureWarning: A value is trying to be set on a copy of a DataFrame or Series through chained assignment using an inplace method.\n",
            "The behavior will change in pandas 3.0. This inplace method will never work because the intermediate object on which we are setting values always behaves as a copy.\n",
            "\n",
            "For example, when doing 'df[col].method(value, inplace=True)', try using 'df.method({col: value}, inplace=True)' or df[col] = df[col].method(value) instead, to perform the operation inplace on the original object.\n",
            "\n",
            "\n",
            "  df['pl_insol'].fillna(df['pl_insol'].median(), inplace=True)  # median\n",
            "C:\\Users\\USER\\AppData\\Local\\Temp\\ipykernel_20836\\2479021500.py:35: FutureWarning: A value is trying to be set on a copy of a DataFrame or Series through chained assignment using an inplace method.\n",
            "The behavior will change in pandas 3.0. This inplace method will never work because the intermediate object on which we are setting values always behaves as a copy.\n",
            "\n",
            "For example, when doing 'df[col].method(value, inplace=True)', try using 'df.method({col: value}, inplace=True)' or df[col] = df[col].method(value) instead, to perform the operation inplace on the original object.\n",
            "\n",
            "\n",
            "  df['pl_eqt'].fillna(df['pl_eqt'].median(), inplace=True)  # median\n",
            "C:\\Users\\USER\\AppData\\Local\\Temp\\ipykernel_20836\\2479021500.py:38: FutureWarning: A value is trying to be set on a copy of a DataFrame or Series through chained assignment using an inplace method.\n",
            "The behavior will change in pandas 3.0. This inplace method will never work because the intermediate object on which we are setting values always behaves as a copy.\n",
            "\n",
            "For example, when doing 'df[col].method(value, inplace=True)', try using 'df.method({col: value}, inplace=True)' or df[col] = df[col].method(value) instead, to perform the operation inplace on the original object.\n",
            "\n",
            "\n",
            "  df['st_dist'].fillna(df['st_dist'].mean(), inplace=True)  # mean\n",
            "C:\\Users\\USER\\AppData\\Local\\Temp\\ipykernel_20836\\2479021500.py:41: FutureWarning: A value is trying to be set on a copy of a DataFrame or Series through chained assignment using an inplace method.\n",
            "The behavior will change in pandas 3.0. This inplace method will never work because the intermediate object on which we are setting values always behaves as a copy.\n",
            "\n",
            "For example, when doing 'df[col].method(value, inplace=True)', try using 'df.method({col: value}, inplace=True)' or df[col] = df[col].method(value) instead, to perform the operation inplace on the original object.\n",
            "\n",
            "\n",
            "  df['st_disterr1'].fillna(df['st_disterr1'].median(), inplace=True)  # median\n",
            "C:\\Users\\USER\\AppData\\Local\\Temp\\ipykernel_20836\\2479021500.py:42: FutureWarning: A value is trying to be set on a copy of a DataFrame or Series through chained assignment using an inplace method.\n",
            "The behavior will change in pandas 3.0. This inplace method will never work because the intermediate object on which we are setting values always behaves as a copy.\n",
            "\n",
            "For example, when doing 'df[col].method(value, inplace=True)', try using 'df.method({col: value}, inplace=True)' or df[col] = df[col].method(value) instead, to perform the operation inplace on the original object.\n",
            "\n",
            "\n",
            "  df['st_disterr2'].fillna(df['st_disterr2'].median(), inplace=True)  # median\n",
            "C:\\Users\\USER\\AppData\\Local\\Temp\\ipykernel_20836\\2479021500.py:45: FutureWarning: A value is trying to be set on a copy of a DataFrame or Series through chained assignment using an inplace method.\n",
            "The behavior will change in pandas 3.0. This inplace method will never work because the intermediate object on which we are setting values always behaves as a copy.\n",
            "\n",
            "For example, when doing 'df[col].method(value, inplace=True)', try using 'df.method({col: value}, inplace=True)' or df[col] = df[col].method(value) instead, to perform the operation inplace on the original object.\n",
            "\n",
            "\n",
            "  df['st_teff'].fillna(df['st_teff'].median(), inplace=True)  # median\n",
            "C:\\Users\\USER\\AppData\\Local\\Temp\\ipykernel_20836\\2479021500.py:48: FutureWarning: A value is trying to be set on a copy of a DataFrame or Series through chained assignment using an inplace method.\n",
            "The behavior will change in pandas 3.0. This inplace method will never work because the intermediate object on which we are setting values always behaves as a copy.\n",
            "\n",
            "For example, when doing 'df[col].method(value, inplace=True)', try using 'df.method({col: value}, inplace=True)' or df[col] = df[col].method(value) instead, to perform the operation inplace on the original object.\n",
            "\n",
            "\n",
            "  df['st_tefferr1'].fillna(df['st_tefferr1'].median(), inplace=True)  # median\n",
            "C:\\Users\\USER\\AppData\\Local\\Temp\\ipykernel_20836\\2479021500.py:49: FutureWarning: A value is trying to be set on a copy of a DataFrame or Series through chained assignment using an inplace method.\n",
            "The behavior will change in pandas 3.0. This inplace method will never work because the intermediate object on which we are setting values always behaves as a copy.\n",
            "\n",
            "For example, when doing 'df[col].method(value, inplace=True)', try using 'df.method({col: value}, inplace=True)' or df[col] = df[col].method(value) instead, to perform the operation inplace on the original object.\n",
            "\n",
            "\n",
            "  df['st_tefferr2'].fillna(df['st_tefferr2'].median(), inplace=True)  # median\n",
            "C:\\Users\\USER\\AppData\\Local\\Temp\\ipykernel_20836\\2479021500.py:52: FutureWarning: A value is trying to be set on a copy of a DataFrame or Series through chained assignment using an inplace method.\n",
            "The behavior will change in pandas 3.0. This inplace method will never work because the intermediate object on which we are setting values always behaves as a copy.\n",
            "\n",
            "For example, when doing 'df[col].method(value, inplace=True)', try using 'df.method({col: value}, inplace=True)' or df[col] = df[col].method(value) instead, to perform the operation inplace on the original object.\n",
            "\n",
            "\n",
            "  df['st_logg'].fillna(df['st_logg'].mean(), inplace=True)  # mean\n",
            "C:\\Users\\USER\\AppData\\Local\\Temp\\ipykernel_20836\\2479021500.py:55: FutureWarning: A value is trying to be set on a copy of a DataFrame or Series through chained assignment using an inplace method.\n",
            "The behavior will change in pandas 3.0. This inplace method will never work because the intermediate object on which we are setting values always behaves as a copy.\n",
            "\n",
            "For example, when doing 'df[col].method(value, inplace=True)', try using 'df.method({col: value}, inplace=True)' or df[col] = df[col].method(value) instead, to perform the operation inplace on the original object.\n",
            "\n",
            "\n",
            "  df['st_loggerr1'].fillna(df['st_loggerr1'].median(), inplace=True)  # median\n",
            "C:\\Users\\USER\\AppData\\Local\\Temp\\ipykernel_20836\\2479021500.py:56: FutureWarning: A value is trying to be set on a copy of a DataFrame or Series through chained assignment using an inplace method.\n",
            "The behavior will change in pandas 3.0. This inplace method will never work because the intermediate object on which we are setting values always behaves as a copy.\n",
            "\n",
            "For example, when doing 'df[col].method(value, inplace=True)', try using 'df.method({col: value}, inplace=True)' or df[col] = df[col].method(value) instead, to perform the operation inplace on the original object.\n",
            "\n",
            "\n",
            "  df['st_loggerr2'].fillna(df['st_loggerr2'].median(), inplace=True)  # median\n",
            "C:\\Users\\USER\\AppData\\Local\\Temp\\ipykernel_20836\\2479021500.py:59: FutureWarning: A value is trying to be set on a copy of a DataFrame or Series through chained assignment using an inplace method.\n",
            "The behavior will change in pandas 3.0. This inplace method will never work because the intermediate object on which we are setting values always behaves as a copy.\n",
            "\n",
            "For example, when doing 'df[col].method(value, inplace=True)', try using 'df.method({col: value}, inplace=True)' or df[col] = df[col].method(value) instead, to perform the operation inplace on the original object.\n",
            "\n",
            "\n",
            "  df['st_rad'].fillna(df['st_rad'].median(), inplace=True)  # median\n",
            "C:\\Users\\USER\\AppData\\Local\\Temp\\ipykernel_20836\\2479021500.py:62: FutureWarning: A value is trying to be set on a copy of a DataFrame or Series through chained assignment using an inplace method.\n",
            "The behavior will change in pandas 3.0. This inplace method will never work because the intermediate object on which we are setting values always behaves as a copy.\n",
            "\n",
            "For example, when doing 'df[col].method(value, inplace=True)', try using 'df.method({col: value}, inplace=True)' or df[col] = df[col].method(value) instead, to perform the operation inplace on the original object.\n",
            "\n",
            "\n",
            "  df['st_raderr1'].fillna(df['st_raderr1'].median(), inplace=True)  # median\n",
            "C:\\Users\\USER\\AppData\\Local\\Temp\\ipykernel_20836\\2479021500.py:63: FutureWarning: A value is trying to be set on a copy of a DataFrame or Series through chained assignment using an inplace method.\n",
            "The behavior will change in pandas 3.0. This inplace method will never work because the intermediate object on which we are setting values always behaves as a copy.\n",
            "\n",
            "For example, when doing 'df[col].method(value, inplace=True)', try using 'df.method({col: value}, inplace=True)' or df[col] = df[col].method(value) instead, to perform the operation inplace on the original object.\n",
            "\n",
            "\n",
            "  df['st_raderr2'].fillna(df['st_raderr2'].median(), inplace=True)  # median\n"
          ]
        }
      ],
      "source": [
        "# Dealing with the rest of the data columns with missing values\n",
        "# Proper Motion Symmetry\n",
        "df['st_pmdecsymerr'].fillna(0, inplace=True)  # zero-fill\n",
        "\n",
        "# Transit Timing Errors\n",
        "df['pl_tranmiderr1'].fillna(0, inplace=True)  # zero-fill\n",
        "df['pl_tranmiderr2'].fillna(0, inplace=True)  # zero-fill\n",
        "\n",
        "# Orbital Period\n",
        "df.dropna(subset=['pl_orbper'], inplace=True)  # drop rows with NaN\n",
        "\n",
        "# Orbital Period Errors\n",
        "df['pl_orbpererr1'].fillna(df['pl_orbpererr1'].median(), inplace=True)  # median\n",
        "df['pl_orbpererr2'].fillna(df['pl_orbpererr2'].median(), inplace=True)  # median\n",
        "\n",
        "# Transit Duration Errors\n",
        "df['pl_trandurherr1'].fillna(df['pl_trandurherr1'].median(), inplace=True)  # median\n",
        "df['pl_trandurherr2'].fillna(df['pl_trandurherr2'].median(), inplace=True)  # median\n",
        "\n",
        "# Transit Depth Errors\n",
        "df['pl_trandeperr1'].fillna(df['pl_trandeperr1'].median(), inplace=True)  # median\n",
        "df['pl_trandeperr2'].fillna(df['pl_trandeperr2'].median(), inplace=True)  # median\n",
        "\n",
        "# Planet Radius\n",
        "df['pl_rade'].fillna(df['pl_rade'].median(), inplace=True)  # median\n",
        "\n",
        "# Planet Radius Errors\n",
        "df['pl_radeerr1'].fillna(df['pl_radeerr1'].median(), inplace=True)  # median\n",
        "df['pl_radeerr2'].fillna(df['pl_radeerr2'].median(), inplace=True)  # median\n",
        "\n",
        "# Insolation Flux\n",
        "df['pl_insol'].fillna(df['pl_insol'].median(), inplace=True)  # median\n",
        "\n",
        "# Equilibrium Temperature\n",
        "df['pl_eqt'].fillna(df['pl_eqt'].median(), inplace=True)  # median\n",
        "\n",
        "# Stellar Distance\n",
        "df['st_dist'].fillna(df['st_dist'].mean(), inplace=True)  # mean\n",
        "\n",
        "# Stellar Distance Errors\n",
        "df['st_disterr1'].fillna(df['st_disterr1'].median(), inplace=True)  # median\n",
        "df['st_disterr2'].fillna(df['st_disterr2'].median(), inplace=True)  # median\n",
        "\n",
        "# Stellar Temperature\n",
        "df['st_teff'].fillna(df['st_teff'].median(), inplace=True)  # median\n",
        "\n",
        "# Stellar Temperature Errors\n",
        "df['st_tefferr1'].fillna(df['st_tefferr1'].median(), inplace=True)  # median\n",
        "df['st_tefferr2'].fillna(df['st_tefferr2'].median(), inplace=True)  # median\n",
        "\n",
        "# Stellar Gravity\n",
        "df['st_logg'].fillna(df['st_logg'].mean(), inplace=True)  # mean\n",
        "\n",
        "# Stellar Gravity Errors\n",
        "df['st_loggerr1'].fillna(df['st_loggerr1'].median(), inplace=True)  # median\n",
        "df['st_loggerr2'].fillna(df['st_loggerr2'].median(), inplace=True)  # median\n",
        "\n",
        "# Stellar Radius\n",
        "df['st_rad'].fillna(df['st_rad'].median(), inplace=True)  # median\n",
        "\n",
        "# Stellar Radius Errors\n",
        "df['st_raderr1'].fillna(df['st_raderr1'].median(), inplace=True)  # median\n",
        "df['st_raderr2'].fillna(df['st_raderr2'].median(), inplace=True)  # median"
      ]
    },
    {
      "cell_type": "markdown",
      "id": "fd62787d",
      "metadata": {
        "id": "fd62787d"
      },
      "source": [
        "##### Data Formatting"
      ]
    },
    {
      "cell_type": "code",
      "execution_count": null,
      "id": "dc9a53bd",
      "metadata": {
        "id": "dc9a53bd",
        "outputId": "cea0ee52-7f16-4c5a-dc15-e3b6f862de51"
      },
      "outputs": [
        {
          "name": "stdout",
          "output_type": "stream",
          "text": [
            "<class 'pandas.core.frame.DataFrame'>\n",
            "RangeIndex: 7562 entries, 0 to 7561\n",
            "Data columns (total 75 columns):\n",
            " #   Column             Non-Null Count  Dtype  \n",
            "---  ------             --------------  -----  \n",
            " 0   rowid              7562 non-null   int64  \n",
            " 1   toi                7562 non-null   float64\n",
            " 2   toipfx             7562 non-null   int64  \n",
            " 3   tid                7562 non-null   int64  \n",
            " 4   ctoi_alias         7562 non-null   float64\n",
            " 5   pl_pnum            7562 non-null   int64  \n",
            " 6   tfopwg_disp        7562 non-null   object \n",
            " 7   rastr              7562 non-null   object \n",
            " 8   ra                 7562 non-null   float64\n",
            " 9   decstr             7562 non-null   object \n",
            " 10  dec                7562 non-null   float64\n",
            " 11  st_pmra            7562 non-null   float64\n",
            " 12  st_pmraerr1        7562 non-null   float64\n",
            " 13  st_pmraerr2        7562 non-null   float64\n",
            " 14  st_pmralim         7562 non-null   float64\n",
            " 15  st_pmrasymerr      7562 non-null   float64\n",
            " 16  st_pmdec           7562 non-null   float64\n",
            " 17  st_pmdecerr1       7562 non-null   float64\n",
            " 18  st_pmdecerr2       7562 non-null   float64\n",
            " 19  st_pmdeclim        7562 non-null   float64\n",
            " 20  st_pmdecsymerr     7562 non-null   float64\n",
            " 21  pl_tranmid         7562 non-null   float64\n",
            " 22  pl_tranmiderr1     7562 non-null   float64\n",
            " 23  pl_tranmiderr2     7562 non-null   float64\n",
            " 24  pl_tranmidlim      7562 non-null   int64  \n",
            " 25  pl_tranmidsymerr   7562 non-null   int64  \n",
            " 26  pl_orbper          7562 non-null   float64\n",
            " 27  pl_orbpererr1      7562 non-null   float64\n",
            " 28  pl_orbpererr2      7562 non-null   float64\n",
            " 29  pl_orbperlim       7562 non-null   int64  \n",
            " 30  pl_orbpersymerr    7562 non-null   int64  \n",
            " 31  pl_trandurh        7562 non-null   float64\n",
            " 32  pl_trandurherr1    7562 non-null   float64\n",
            " 33  pl_trandurherr2    7562 non-null   float64\n",
            " 34  pl_trandurhlim     7562 non-null   int64  \n",
            " 35  pl_trandurhsymerr  7562 non-null   int64  \n",
            " 36  pl_trandep         7562 non-null   float64\n",
            " 37  pl_trandeperr1     7562 non-null   float64\n",
            " 38  pl_trandeperr2     7562 non-null   float64\n",
            " 39  pl_trandeplim      7562 non-null   int64  \n",
            " 40  pl_trandepsymerr   7562 non-null   int64  \n",
            " 41  pl_rade            7562 non-null   float64\n",
            " 42  pl_radeerr1        7562 non-null   float64\n",
            " 43  pl_radeerr2        7562 non-null   float64\n",
            " 44  pl_radelim         7562 non-null   int64  \n",
            " 45  pl_radesymerr      7562 non-null   int64  \n",
            " 46  pl_insol           7562 non-null   float64\n",
            " 47  pl_eqt             7562 non-null   float64\n",
            " 48  st_tmag            7562 non-null   float64\n",
            " 49  st_tmagerr1        7562 non-null   float64\n",
            " 50  st_tmagerr2        7562 non-null   float64\n",
            " 51  st_tmaglim         7562 non-null   int64  \n",
            " 52  st_tmagsymerr      7562 non-null   int64  \n",
            " 53  st_dist            7562 non-null   float64\n",
            " 54  st_disterr1        7562 non-null   float64\n",
            " 55  st_disterr2        7562 non-null   float64\n",
            " 56  st_distlim         7562 non-null   int64  \n",
            " 57  st_distsymerr      7562 non-null   int64  \n",
            " 58  st_teff            7562 non-null   float64\n",
            " 59  st_tefferr1        7562 non-null   float64\n",
            " 60  st_tefferr2        7562 non-null   float64\n",
            " 61  st_tefflim         7562 non-null   int64  \n",
            " 62  st_teffsymerr      7562 non-null   int64  \n",
            " 63  st_logg            7562 non-null   float64\n",
            " 64  st_loggerr1        7562 non-null   float64\n",
            " 65  st_loggerr2        7562 non-null   float64\n",
            " 66  st_logglim         7562 non-null   int64  \n",
            " 67  st_loggsymerr      7562 non-null   int64  \n",
            " 68  st_rad             7562 non-null   float64\n",
            " 69  st_raderr1         7562 non-null   float64\n",
            " 70  st_raderr2         7562 non-null   float64\n",
            " 71  st_radlim          7562 non-null   int64  \n",
            " 72  st_radsymerr       7562 non-null   int64  \n",
            " 73  toi_created        7562 non-null   object \n",
            " 74  rowupdate          7562 non-null   object \n",
            "dtypes: float64(46), int64(24), object(5)\n",
            "memory usage: 4.3+ MB\n"
          ]
        }
      ],
      "source": [
        "df.info()"
      ]
    },
    {
      "cell_type": "markdown",
      "id": "e763b46b",
      "metadata": {
        "id": "e763b46b"
      },
      "source": [
        "### We can now conclude that...\n",
        "\n",
        "This table describes columns from the TESS Objects of Interest (TOI) catalog (`TOI_sample.csv`) that directly relate to exoplanet detection, formatted for use in Jupyter Notebook (`ipynb`). These columns support the **Borneo ExoHunter** project, which uses a CNN to classify TESS light curves, reducing false positives (>80%) and boosting HZ planet detection, with a Sarawak-themed app for outreach.\n",
        "\n",
        "| Name                  | Description                                                                 | Role in Exoplanet Detection                                                                 |\n",
        "|-----------------------|-----------------------------------------------------------------------------|---------------------------------------------------------------------------------------------|\n",
        "| toi                   | TOI identifier (e.g., 1000.01), integer for star, decimal for signal        | Tracks specific exoplanet candidate for labeling and cross-referencing with light curves.    |\n",
        "| toipfx                | Integer prefix of TOI (e.g., 1000), identifies target star                  | Links candidate to host star for fetching light curves via TIC ID.                          |\n",
        "| tid                   | TESS Input Catalog ID (e.g., 50365310) of host star                        | Key to query MAST for raw light curves (time, flux) for CNN training.                       |\n",
        "| ctoi_alias            | Community TOI alias (e.g., 50365310.01), TIC-based ID for object           | Alternative identifier for cross-referencing detections across databases.                   |\n",
        "| pl_pnum               | Number of planet candidates in system (e.g., 1)                             | Indicates multi-planet systems, aiding context for signal validation.                       |\n",
        "| tfopwg_disp           | Disposition (e.g., FP=false positive, PC=planetary candidate, KP=known planet, APC=ambiguous, FA=false alarm) | Primary label for supervised CNN classification (e.g., FP vs. PC/KP) to reduce inaccuracies. |\n",
        "| ra                    | Right ascension (degrees, e.g., 112.357708) of system                      | Locates star for light curve retrieval and M-dwarf filtering.                               |\n",
        "| dec                   | Declination (degrees, e.g., -12.69596) of system                           | Complements RA for precise star targeting in MAST queries.                                  |\n",
        "| st_pmra               | Proper motion in RA (mas/yr, e.g., -5.964)                                 | Contextualizes stellar motion; minor role in validating transit signals.                    |\n",
        "| st_pmraerr1/st_pmraerr2 | Errors on proper motion in RA (e.g., ±0.085)                             | Quantifies uncertainty for astrometric validation.                                          |\n",
        "| st_pmralim            | Limit flag on RA proper motion (0=measured, 1=limit)                       | Indicates reliability of st_pmra for signal context.                                        |\n",
        "| st_pmrasymerr         | Symmetric error flag for RA proper motion (1=symmetric)                    | Simplifies error handling in validation.                                                   |\n",
        "| st_pmdec              | Proper motion in Dec (mas/yr, e.g., -0.076)                                | Similar to st_pmra, supports system context for detection.                                  |\n",
        "| st_pmdecerr1/st_pmdecerr2 | Errors on proper motion in Dec (e.g., ±0.072)                          | Quantifies uncertainty for astrometric validation.                                          |\n",
        "| st_pmdeclim           | Limit flag on Dec proper motion (0=measured, 1=limit)                      | Indicates reliability of st_pmdec.                                                          |\n",
        "| st_pmdecsymerr        | Symmetric error flag for Dec proper motion (1=symmetric)                   | Simplifies error handling in validation.                                                   |\n",
        "| pl_tranmid            | Mid-transit time (BJD, e.g., 2459229.630046)                              | Pinpoints transit event timing; used to fold light curves for CNN input.                    |\n",
        "| pl_tranmiderr1/pl_tranmiderr2 | Errors on mid-transit time (e.g., ±0.001657 days)                 | Ensures timing precision for signal validation.                                             |\n",
        "| pl_tranmidlim         | Limit flag on mid-transit time (0=measured)                                | Confirms reliability of transit timing.                                                     |\n",
        "| pl_tranmidsymerr      | Symmetric error flag for mid-transit time (1=symmetric)                    | Simplifies error handling for timing.                                                       |\n",
        "| pl_orbper             | Orbital period (days, e.g., 2.1713484)                                     | Critical for folding light curves to align transits; validates periodicity in CNN.          |\n",
        "| pl_orbpererr1/pl_orbpererr2 | Errors on orbital period (e.g., ±0.0002637)                         | Ensures period accuracy for light curve preprocessing.                                      |\n",
        "| pl_orbperlim          | Limit flag on orbital period (0=measured)                                  | Confirms period reliability for detection.                                                  |\n",
        "| pl_orbpersymerr       | Symmetric error flag for orbital period (1=symmetric)                      | Simplifies error handling for period.                                                       |\n",
        "| pl_trandurh           | Transit duration (hours, e.g., 2.0172196)                                 | Defines transit length; used in CNN to distinguish real signals from noise.                 |\n",
        "| pl_trandurherr1/pl_trandurherr2 | Errors on transit duration (e.g., ±0.3195879)                    | Ensures duration precision for signal validation.                                           |\n",
        "| pl_trandurhlim        | Limit flag on transit duration (0=measured)                                | Confirms duration reliability.                                                              |\n",
        "| pl_trandurhsymerr     | Symmetric error flag for transit duration (1=symmetric)                    | Simplifies error handling for duration.                                                     |\n",
        "| pl_trandep            | Transit depth (ppm, e.g., 656.886)                                        | Measures signal strength; key CNN feature to detect faint HZ signals (<0.01%).              |\n",
        "| pl_trandeperr1/pl_trandeperr2 | Errors on transit depth (e.g., ±37.77821)                         | Ensures depth precision for classification accuracy.                                        |\n",
        "| pl_trandeplim         | Limit flag on transit depth (0=measured)                                   | Confirms depth reliability for detection.                                                   |\n",
        "| pl_trandepsymerr      | Symmetric error flag for transit depth (1=symmetric)                       | Simplifies error handling for depth.                                                        |\n",
        "| pl_rade               | Planet radius (Earth radii, e.g., 5.8181633)                               | Derived from depth/stellar radius; filters Earth-like planets for HZ focus.                |\n",
        "| pl_radeerr1/pl_radeerr2 | Errors on planet radius (e.g., ±1.9105465)                             | Quantifies radius uncertainty for validation.                                               |\n",
        "| pl_radelim            | Limit flag on planet radius (0=measured)                                   | Confirms radius reliability.                                                                |\n",
        "| pl_radesymerr         | Symmetric error flag for planet radius (1=symmetric)                       | Simplifies error handling for radius.                                                       |\n",
        "| pl_insol              | Insolation flux (Earth units, e.g., 22601.9485814)                        | Assesses habitability; <~1.5 Earth flux for HZ planets, critical for filtering.             |\n",
        "| pl_insolerr1/pl_insolerr2 | Errors on insolation flux (often null if not measured)                 | Quantifies habitability uncertainty (less critical for hackathon).                          |\n",
        "| pl_insollim           | Limit flag on insolation flux (0=measured)                                 | Confirms insolation reliability for HZ classification.                                      |\n",
        "| pl_insolsymerr        | Symmetric error flag for insolation flux                                   | Simplifies error handling for insolation.                                                   |\n",
        "| pl_eqt                | Equilibrium temperature (K, e.g., 3127.2040524)                            | Estimates planet temperature; ~255-373 K for HZ, aids in candidate prioritization.          |\n",
        "| pl_eqterr1/pl_eqterr2 | Errors on equilibrium temperature (often null)                           | Quantifies temperature uncertainty for HZ validation.                                       |\n",
        "| pl_eqtlim             | Limit flag on equilibrium temperature (0=measured)                         | Confirms temperature reliability.                                                           |\n",
        "| pl_eqtsymerr          | Symmetric error flag for equilibrium temperature                           | Simplifies error handling for temperature.                                                  |\n",
        "| st_tmag               | TESS magnitude (e.g., 9.604), star brightness in TESS band                | Indicates data quality (brighter = better signal); aids in selecting reliable targets.       |\n",
        "| st_tmagerr1/st_tmagerr2 | Errors on TESS magnitude (e.g., ±0.013)                                 | Quantifies brightness uncertainty for signal quality.                                       |\n",
        "| st_tmaglim            | Limit flag on TESS magnitude (0=measured)                                  | Confirms magnitude reliability.                                                             |\n",
        "| st_tmagsymerr         | Symmetric error flag for TESS magnitude (1=symmetric)                      | Simplifies error handling for magnitude.                                                    |\n",
        "| st_dist               | Distance to star (pc, e.g., 485.735)                                       | Contextualizes system; minor role in detection but aids validation.                         |\n",
        "| st_disterr1/st_disterr2 | Errors on distance (e.g., ±11.9515)                                     | Quantifies distance uncertainty for context.                                                |\n",
        "| st_distlim            | Limit flag on distance (0=measured)                                        | Confirms distance reliability.                                                              |\n",
        "| st_distsymerr         | Symmetric error flag for distance (1=symmetric)                            | Simplifies error handling for distance.                                                     |\n",
        "| st_teff               | Stellar effective temperature (K, e.g., 10249.0)                           | Identifies M-dwarfs (~3000-4000 K) for HZ focus; impacts transit signal interpretation.     |\n",
        "| st_tefferr1/st_tefferr2 | Errors on stellar temperature (e.g., ±264.7)                           | Quantifies temperature uncertainty for M-dwarf filtering.                                   |\n",
        "| st_tefflim            | Limit flag on stellar temperature (0=measured)                             | Confirms temperature reliability.                                                           |\n",
        "| st_teffsymerr         | Symmetric error flag for stellar temperature (1=symmetric)                 | Simplifies error handling for temperature.                                                  |\n",
        "| st_logg               | Stellar surface gravity (log10 cm/s², e.g., 4.19)                          | Indicates star type/density; supports radius calculations for planet size.                  |\n",
        "| st_loggerr1/st_loggerr2 | Errors on surface gravity (e.g., ±0.07)                                 | Quantifies gravity uncertainty for stellar context.                                         |\n",
        "| st_logglim            | Limit flag on surface gravity (0=measured)                                 | Confirms gravity reliability.                                                               |\n",
        "| st_loggsymerr         | Symmetric error flag for surface gravity (1=symmetric)                     | Simplifies error handling for gravity.                                                      |\n",
        "| st_rad                | Stellar radius (solar radii, e.g., 2.16986)                                | Critical for deriving planet radius from transit depth; impacts HZ calculations.            |\n",
        "| st_raderr1/st_raderr2 | Errors on stellar radius (e.g., ±0.0725729)                             | Quantifies radius uncertainty for planet size/HZ estimates.                                 |\n",
        "| st_radlim             | Limit flag on stellar radius (0=measured)                                  | Confirms radius reliability.                                                                |\n",
        "| st_radsymerr          | Symmetric error flag for stellar radius (1=symmetric)                      | Simplifies error handling for radius.                                                       |\n",
        "\n",
        "### Next procedure:\n",
        "- **Primary Use**: Use `tid` to fetch light curves from MAST (e.g., `import lightkurve as lk; lc = lk.search_lightcurve('TIC 50365310', mission='TESS').download()`). Train CNN on `tfopwg_disp` labels, using `pl_trandep`, `pl_orbper`, `pl_trandurh` to validate signals.\n",
        "- **HZ Focus**: Filter for M-dwarfs (`st_teff` ~3000-4000 K) and HZ candidates (`pl_insol` <1.5, `pl_eqt` ~255-373 K).\n",
        "- **Error Handling**: Handle nulls (e.g., `pl_insolerr1`) by imputing means or excluding; use symmetric errors for simplicity.\n",
        "- **App Integration**: Display `pl_trandep`, `pl_rade`, `tfopwg_disp` in Streamlit app with hornbill visuals for Sarawak outreach.\n"
      ]
    },
    {
      "cell_type": "code",
      "execution_count": null,
      "id": "cf8be83e",
      "metadata": {
        "id": "cf8be83e"
      },
      "outputs": [],
      "source": [
        "# Export Pre-processed data\n",
        "df.to_csv('TOI_cleaned.csv', index=False)"
      ]
    },
    {
      "cell_type": "code",
      "execution_count": null,
      "id": "7e7aad43",
      "metadata": {
        "id": "7e7aad43"
      },
      "outputs": [],
      "source": [
        "# Export sample data\n",
        "df.head(20).to_csv('TOI_sample.csv', index=False)\n"
      ]
    },
    {
      "cell_type": "code",
      "execution_count": null,
      "id": "e1d9e0af",
      "metadata": {
        "id": "e1d9e0af"
      },
      "outputs": [],
      "source": [
        "# Reconnect to the data\n",
        "df = pd.read_csv(\"TOI_cleaned.csv\")"
      ]
    },
    {
      "cell_type": "markdown",
      "id": "ce720f79",
      "metadata": {
        "id": "ce720f79"
      },
      "source": [
        "##### Data Formatting and Standardisation"
      ]
    },
    {
      "cell_type": "code",
      "execution_count": null,
      "id": "5501c40e",
      "metadata": {
        "id": "5501c40e",
        "outputId": "04d5d0cf-863c-4a2c-d3ab-08fe6852df95"
      },
      "outputs": [
        {
          "data": {
            "text/plain": [
              "rowid             int64\n",
              "toi             float64\n",
              "toipfx            int64\n",
              "tid               int64\n",
              "ctoi_alias      float64\n",
              "                 ...   \n",
              "st_raderr2      float64\n",
              "st_radlim         int64\n",
              "st_radsymerr      int64\n",
              "toi_created      object\n",
              "rowupdate        object\n",
              "Length: 75, dtype: object"
            ]
          },
          "execution_count": 18,
          "metadata": {},
          "output_type": "execute_result"
        }
      ],
      "source": [
        "# Study the dtypes of each column\n",
        "df.dtypes"
      ]
    },
    {
      "cell_type": "code",
      "execution_count": null,
      "id": "b0f84e75",
      "metadata": {
        "id": "b0f84e75",
        "outputId": "c7668589-e4f1-4895-bac0-a358a7b1e280"
      },
      "outputs": [
        {
          "data": {
            "text/plain": [
              "rowid            object\n",
              "toi              object\n",
              "toipfx           object\n",
              "tid              object\n",
              "ctoi_alias       object\n",
              "                 ...   \n",
              "st_raderr2      float64\n",
              "st_radlim         int64\n",
              "st_radsymerr      int64\n",
              "toi_created      object\n",
              "rowupdate        object\n",
              "Length: 75, dtype: object"
            ]
          },
          "execution_count": 19,
          "metadata": {},
          "output_type": "execute_result"
        }
      ],
      "source": [
        "# Correcting the format of identifiers\n",
        "id_cols = ['rowid', 'toi', 'toipfx', 'tid', 'ctoi_alias']\n",
        "\n",
        "# Converting from int64 or float64 to str\n",
        "for col in id_cols:\n",
        "    if col in df.columns:\n",
        "        df[col] = df[col].astype(str).str.strip().str.upper()\n",
        "\n",
        "df.dtypes"
      ]
    },
    {
      "cell_type": "code",
      "execution_count": null,
      "id": "789eafa1",
      "metadata": {
        "id": "789eafa1",
        "outputId": "f63fcc65-8ca0-492a-8012-d2680f77bc77"
      },
      "outputs": [
        {
          "data": {
            "text/plain": [
              "rowid                   object\n",
              "toi                     object\n",
              "toipfx                  object\n",
              "tid                     object\n",
              "ctoi_alias              object\n",
              "                     ...      \n",
              "st_raderr2             float64\n",
              "st_radlim                int64\n",
              "st_radsymerr             int64\n",
              "toi_created     datetime64[ns]\n",
              "rowupdate       datetime64[ns]\n",
              "Length: 75, dtype: object"
            ]
          },
          "execution_count": 30,
          "metadata": {},
          "output_type": "execute_result"
        }
      ],
      "source": [
        "# Parsing the dates columns into timestamp\n",
        "time_cols = [\"toi_created\", \"rowupdate\"]\n",
        "for col in time_cols:\n",
        "    if col in df.columns:\n",
        "        df[col] = pd.to_datetime(df[col], errors=\"coerce\")\n",
        "df.dtypes # OUTPUT: Timestamp dtype"
      ]
    },
    {
      "cell_type": "code",
      "execution_count": null,
      "id": "43676548",
      "metadata": {
        "id": "43676548",
        "outputId": "ca7e71b3-b44d-48d8-cf9e-07c128f84dfa"
      },
      "outputs": [
        {
          "data": {
            "text/plain": [
              "rowid                   object\n",
              "toi                     object\n",
              "toipfx                  object\n",
              "tid                     object\n",
              "ctoi_alias              object\n",
              "                     ...      \n",
              "st_raderr2             float64\n",
              "st_radlim                int64\n",
              "st_radsymerr             int64\n",
              "toi_created     datetime64[ns]\n",
              "rowupdate       datetime64[ns]\n",
              "Length: 75, dtype: object"
            ]
          },
          "execution_count": 31,
          "metadata": {},
          "output_type": "execute_result"
        }
      ],
      "source": [
        "df.dtypes"
      ]
    },
    {
      "cell_type": "code",
      "execution_count": null,
      "id": "0fa9987d",
      "metadata": {
        "id": "0fa9987d",
        "outputId": "bb713f77-c42a-4a31-ebe9-2d8bd8dd5eb7"
      },
      "outputs": [
        {
          "data": {
            "text/plain": [
              "rowid                   object\n",
              "toi                     object\n",
              "toipfx                  object\n",
              "tid                     object\n",
              "ctoi_alias              object\n",
              "                     ...      \n",
              "st_raderr2             float64\n",
              "st_radlim                int64\n",
              "st_radsymerr             int64\n",
              "toi_created     datetime64[ns]\n",
              "rowupdate       datetime64[ns]\n",
              "Length: 75, dtype: object"
            ]
          },
          "execution_count": 40,
          "metadata": {},
          "output_type": "execute_result"
        }
      ],
      "source": [
        "# Converting coordinates columns into data types of float64 from str\n",
        "coord_cols = ['ra', 'dec']\n",
        "for col in coord_cols:\n",
        "    if col in df.columns:\n",
        "        df[col] = pd.to_numeric(df[col], errors=\"coerce\")\n",
        "df.dtypes # OUTPUT: float64"
      ]
    },
    {
      "cell_type": "code",
      "execution_count": null,
      "id": "49cf9110",
      "metadata": {
        "id": "49cf9110",
        "outputId": "a8c3b243-3b01-493d-fe5d-7ab37e7212ed"
      },
      "outputs": [
        {
          "name": "stdout",
          "output_type": "stream",
          "text": [
            "<class 'pandas.core.frame.DataFrame'>\n",
            "RangeIndex: 7562 entries, 0 to 7561\n",
            "Data columns (total 63 columns):\n",
            " #   Column             Non-Null Count  Dtype  \n",
            "---  ------             --------------  -----  \n",
            " 0   pl_pnum            7562 non-null   int64  \n",
            " 1   st_pmra            7562 non-null   float64\n",
            " 2   st_pmraerr1        7562 non-null   float64\n",
            " 3   st_pmraerr2        7562 non-null   float64\n",
            " 4   st_pmralim         7562 non-null   float64\n",
            " 5   st_pmrasymerr      7562 non-null   float64\n",
            " 6   st_pmdec           7562 non-null   float64\n",
            " 7   st_pmdecerr1       7562 non-null   float64\n",
            " 8   st_pmdecerr2       7562 non-null   float64\n",
            " 9   st_pmdeclim        7562 non-null   float64\n",
            " 10  st_pmdecsymerr     7562 non-null   float64\n",
            " 11  pl_tranmid         7562 non-null   float64\n",
            " 12  pl_tranmiderr1     7562 non-null   float64\n",
            " 13  pl_tranmiderr2     7562 non-null   float64\n",
            " 14  pl_tranmidlim      7562 non-null   int64  \n",
            " 15  pl_tranmidsymerr   7562 non-null   int64  \n",
            " 16  pl_orbper          7562 non-null   float64\n",
            " 17  pl_orbpererr1      7562 non-null   float64\n",
            " 18  pl_orbpererr2      7562 non-null   float64\n",
            " 19  pl_orbperlim       7562 non-null   int64  \n",
            " 20  pl_orbpersymerr    7562 non-null   int64  \n",
            " 21  pl_trandurh        7562 non-null   float64\n",
            " 22  pl_trandurherr1    7562 non-null   float64\n",
            " 23  pl_trandurherr2    7562 non-null   float64\n",
            " 24  pl_trandurhlim     7562 non-null   int64  \n",
            " 25  pl_trandurhsymerr  7562 non-null   int64  \n",
            " 26  pl_trandep         7562 non-null   float64\n",
            " 27  pl_trandeperr1     7562 non-null   float64\n",
            " 28  pl_trandeperr2     7562 non-null   float64\n",
            " 29  pl_trandeplim      7562 non-null   int64  \n",
            " 30  pl_trandepsymerr   7562 non-null   int64  \n",
            " 31  pl_rade            7562 non-null   float64\n",
            " 32  pl_radeerr1        7562 non-null   float64\n",
            " 33  pl_radeerr2        7562 non-null   float64\n",
            " 34  pl_radelim         7562 non-null   int64  \n",
            " 35  pl_radesymerr      7562 non-null   int64  \n",
            " 36  pl_insol           7562 non-null   float64\n",
            " 37  pl_eqt             7562 non-null   float64\n",
            " 38  st_tmag            7562 non-null   float64\n",
            " 39  st_tmagerr1        7562 non-null   float64\n",
            " 40  st_tmagerr2        7562 non-null   float64\n",
            " 41  st_tmaglim         7562 non-null   int64  \n",
            " 42  st_tmagsymerr      7562 non-null   int64  \n",
            " 43  st_dist            7562 non-null   float64\n",
            " 44  st_disterr1        7562 non-null   float64\n",
            " 45  st_disterr2        7562 non-null   float64\n",
            " 46  st_distlim         7562 non-null   int64  \n",
            " 47  st_distsymerr      7562 non-null   int64  \n",
            " 48  st_teff            7562 non-null   float64\n",
            " 49  st_tefferr1        7562 non-null   float64\n",
            " 50  st_tefferr2        7562 non-null   float64\n",
            " 51  st_tefflim         7562 non-null   int64  \n",
            " 52  st_teffsymerr      7562 non-null   int64  \n",
            " 53  st_logg            7562 non-null   float64\n",
            " 54  st_loggerr1        7562 non-null   float64\n",
            " 55  st_loggerr2        7562 non-null   float64\n",
            " 56  st_logglim         7562 non-null   int64  \n",
            " 57  st_loggsymerr      7562 non-null   int64  \n",
            " 58  st_rad             7562 non-null   float64\n",
            " 59  st_raderr1         7562 non-null   float64\n",
            " 60  st_raderr2         7562 non-null   float64\n",
            " 61  st_radlim          7562 non-null   int64  \n",
            " 62  st_radsymerr       7562 non-null   int64  \n",
            "dtypes: float64(42), int64(21)\n",
            "memory usage: 3.6 MB\n"
          ]
        }
      ],
      "source": [
        "# Numeric conversion for stellar & planetary parameters\n",
        "st_pl_cols = [col for col in df.columns if col.startswith(('st_', 'pl_'))] # Double parentheses as set\n",
        "for col in st_pl_cols:\n",
        "    df[col] = pd.to_numeric(df[col], errors='coerce') # Ending up in either float64 or int64\n",
        "df[[col for col in df.columns if col.startswith(('st_', 'pl_'))]].info()"
      ]
    },
    {
      "cell_type": "code",
      "execution_count": null,
      "id": "e6121e6d",
      "metadata": {
        "id": "e6121e6d"
      },
      "outputs": [],
      "source": [
        "# Helper function: collapse error columns\n",
        "def collapse_error(df, base_col):\n",
        "    \"\"\"Collapse symmetric errors (err1, err2) or symerr into single ± error column\"\"\"\n",
        "    err1, err2 = f\"{base_col}err1\", f\"{base_col}err2\"\n",
        "    sym = f\"{base_col}symerr\"\n",
        "    new = f\"{base_col}err\"\n",
        "\n",
        "    if err1 in df.columns and err2 in df.columns:\n",
        "        df[new] = df[[err1, err2]].abs().mean(axis=1)\n",
        "        df.drop(columns=[err1, err2], inplace=True)\n",
        "\n",
        "    elif sym in df.columns:\n",
        "        df[new] = df[sym]\n",
        "        df.drop(columns=[sym], inplace=True)\n",
        "\n",
        "    return df"
      ]
    },
    {
      "cell_type": "code",
      "execution_count": null,
      "id": "873d6c64",
      "metadata": {
        "id": "873d6c64"
      },
      "outputs": [],
      "source": [
        "# Apply collapse error function to the df\n",
        "error_bases = [\n",
        "    \"st_pmra\", \"st_pmdec\", \"pl_tranmid\", \"pl_orbper\", \"pl_trandurh\",\n",
        "    \"pl_trandep\", \"pl_rade\", \"st_tmag\", \"st_dist\", \"st_teff\",\n",
        "    \"st_logg\", \"st_rad\"\n",
        "]\n",
        "for base in error_bases:\n",
        "    df = collapse_error(df, base)"
      ]
    },
    {
      "cell_type": "markdown",
      "id": "906afe9e",
      "metadata": {
        "id": "906afe9e"
      },
      "source": [
        "##### Data Normalisation & Feature Scaling"
      ]
    },
    {
      "cell_type": "code",
      "execution_count": null,
      "id": "e003c684",
      "metadata": {
        "id": "e003c684"
      },
      "outputs": [],
      "source": [
        "# Identify continuous columns (numeric only, excluding IDs & categoricals)\n",
        "# exclude_cols = [\"rowid\", \"toi\", \"toipfx\", \"tid\", \"ctoi_alias\"]\n",
        "# categorical_cols = [\"tfopwg_disp\", \"rastr\", \"decstr\", \"toi_created\", \"rowupdate\"]\n",
        "# cont_cols = [c for c in df.select_dtypes(include=[\"float64\", \"int64\"]).columns\n",
        "#             if c not in exclude_cols + categorical_cols]"
      ]
    },
    {
      "cell_type": "code",
      "execution_count": null,
      "id": "75aff3d7",
      "metadata": {
        "id": "75aff3d7",
        "outputId": "df5f2090-a883-4a0a-db7e-c6acf93799ab"
      },
      "outputs": [
        {
          "data": {
            "text/html": [
              "<div>\n",
              "<style scoped>\n",
              "    .dataframe tbody tr th:only-of-type {\n",
              "        vertical-align: middle;\n",
              "    }\n",
              "\n",
              "    .dataframe tbody tr th {\n",
              "        vertical-align: top;\n",
              "    }\n",
              "\n",
              "    .dataframe thead th {\n",
              "        text-align: right;\n",
              "    }\n",
              "</style>\n",
              "<table border=\"1\" class=\"dataframe\">\n",
              "  <thead>\n",
              "    <tr style=\"text-align: right;\">\n",
              "      <th></th>\n",
              "      <th>rowid</th>\n",
              "      <th>toi</th>\n",
              "      <th>toipfx</th>\n",
              "      <th>tid</th>\n",
              "      <th>ctoi_alias</th>\n",
              "      <th>pl_pnum</th>\n",
              "      <th>tfopwg_disp</th>\n",
              "      <th>rastr</th>\n",
              "      <th>ra</th>\n",
              "      <th>decstr</th>\n",
              "      <th>...</th>\n",
              "      <th>pl_tranmiderr</th>\n",
              "      <th>pl_orbpererr</th>\n",
              "      <th>pl_trandurherr</th>\n",
              "      <th>pl_trandeperr</th>\n",
              "      <th>pl_radeerr</th>\n",
              "      <th>st_tmagerr</th>\n",
              "      <th>st_disterr</th>\n",
              "      <th>st_tefferr</th>\n",
              "      <th>st_loggerr</th>\n",
              "      <th>st_raderr</th>\n",
              "    </tr>\n",
              "  </thead>\n",
              "  <tbody>\n",
              "    <tr>\n",
              "      <th>0</th>\n",
              "      <td>1</td>\n",
              "      <td>1000.01</td>\n",
              "      <td>1000</td>\n",
              "      <td>50365310</td>\n",
              "      <td>50365310.01</td>\n",
              "      <td>1</td>\n",
              "      <td>FP</td>\n",
              "      <td>07h29m25.85s</td>\n",
              "      <td>112.357708</td>\n",
              "      <td>-12d41m45.46s</td>\n",
              "      <td>...</td>\n",
              "      <td>0.001657</td>\n",
              "      <td>0.000264</td>\n",
              "      <td>0.319588</td>\n",
              "      <td>37.778210</td>\n",
              "      <td>1.910546</td>\n",
              "      <td>0.013</td>\n",
              "      <td>11.9515</td>\n",
              "      <td>264.7</td>\n",
              "      <td>0.07000</td>\n",
              "      <td>0.072573</td>\n",
              "    </tr>\n",
              "    <tr>\n",
              "      <th>1</th>\n",
              "      <td>2</td>\n",
              "      <td>1001.01</td>\n",
              "      <td>1001</td>\n",
              "      <td>88863718</td>\n",
              "      <td>88863718.01</td>\n",
              "      <td>1</td>\n",
              "      <td>PC</td>\n",
              "      <td>08h10m19.31s</td>\n",
              "      <td>122.580465</td>\n",
              "      <td>-05d30m49.87s</td>\n",
              "      <td>...</td>\n",
              "      <td>0.001916</td>\n",
              "      <td>0.000005</td>\n",
              "      <td>0.647000</td>\n",
              "      <td>1186.490000</td>\n",
              "      <td>2.624200</td>\n",
              "      <td>0.006</td>\n",
              "      <td>5.9100</td>\n",
              "      <td>126.4</td>\n",
              "      <td>0.09000</td>\n",
              "      <td>0.090000</td>\n",
              "    </tr>\n",
              "    <tr>\n",
              "      <th>2</th>\n",
              "      <td>3</td>\n",
              "      <td>1002.01</td>\n",
              "      <td>1002</td>\n",
              "      <td>124709665</td>\n",
              "      <td>124709665.01</td>\n",
              "      <td>1</td>\n",
              "      <td>FP</td>\n",
              "      <td>06h58m54.47s</td>\n",
              "      <td>104.726966</td>\n",
              "      <td>-10d34m49.64s</td>\n",
              "      <td>...</td>\n",
              "      <td>0.000625</td>\n",
              "      <td>0.000003</td>\n",
              "      <td>0.184000</td>\n",
              "      <td>1.758400</td>\n",
              "      <td>0.717909</td>\n",
              "      <td>0.058</td>\n",
              "      <td>106.3330</td>\n",
              "      <td>124.0</td>\n",
              "      <td>0.08504</td>\n",
              "      <td>0.060000</td>\n",
              "    </tr>\n",
              "    <tr>\n",
              "      <th>3</th>\n",
              "      <td>4</td>\n",
              "      <td>1003.01</td>\n",
              "      <td>1003</td>\n",
              "      <td>106997505</td>\n",
              "      <td>106997505.01</td>\n",
              "      <td>1</td>\n",
              "      <td>FP</td>\n",
              "      <td>07h22m14.39s</td>\n",
              "      <td>110.559945</td>\n",
              "      <td>-25d12m25.26s</td>\n",
              "      <td>...</td>\n",
              "      <td>0.005350</td>\n",
              "      <td>0.001080</td>\n",
              "      <td>0.642000</td>\n",
              "      <td>0.781988</td>\n",
              "      <td>0.717909</td>\n",
              "      <td>0.037</td>\n",
              "      <td>1899.5700</td>\n",
              "      <td>567.0</td>\n",
              "      <td>1.64000</td>\n",
              "      <td>0.060000</td>\n",
              "    </tr>\n",
              "    <tr>\n",
              "      <th>4</th>\n",
              "      <td>5</td>\n",
              "      <td>1004.01</td>\n",
              "      <td>1004</td>\n",
              "      <td>238597883</td>\n",
              "      <td>238597883.01</td>\n",
              "      <td>1</td>\n",
              "      <td>FP</td>\n",
              "      <td>08h08m42.77s</td>\n",
              "      <td>122.178195</td>\n",
              "      <td>-48d48m10.12s</td>\n",
              "      <td>...</td>\n",
              "      <td>0.003748</td>\n",
              "      <td>0.000013</td>\n",
              "      <td>1.029000</td>\n",
              "      <td>1306.550000</td>\n",
              "      <td>3.247140</td>\n",
              "      <td>0.006</td>\n",
              "      <td>4.6175</td>\n",
              "      <td>171.1</td>\n",
              "      <td>0.07000</td>\n",
              "      <td>0.060000</td>\n",
              "    </tr>\n",
              "  </tbody>\n",
              "</table>\n",
              "<p>5 rows × 63 columns</p>\n",
              "</div>"
            ],
            "text/plain": [
              "  rowid      toi toipfx        tid    ctoi_alias  pl_pnum tfopwg_disp  \\\n",
              "0     1  1000.01   1000   50365310   50365310.01        1          FP   \n",
              "1     2  1001.01   1001   88863718   88863718.01        1          PC   \n",
              "2     3  1002.01   1002  124709665  124709665.01        1          FP   \n",
              "3     4  1003.01   1003  106997505  106997505.01        1          FP   \n",
              "4     5  1004.01   1004  238597883  238597883.01        1          FP   \n",
              "\n",
              "          rastr          ra         decstr  ...  pl_tranmiderr  pl_orbpererr  \\\n",
              "0  07h29m25.85s  112.357708  -12d41m45.46s  ...       0.001657      0.000264   \n",
              "1  08h10m19.31s  122.580465  -05d30m49.87s  ...       0.001916      0.000005   \n",
              "2  06h58m54.47s  104.726966  -10d34m49.64s  ...       0.000625      0.000003   \n",
              "3  07h22m14.39s  110.559945  -25d12m25.26s  ...       0.005350      0.001080   \n",
              "4  08h08m42.77s  122.178195  -48d48m10.12s  ...       0.003748      0.000013   \n",
              "\n",
              "   pl_trandurherr  pl_trandeperr  pl_radeerr  st_tmagerr  st_disterr  \\\n",
              "0        0.319588      37.778210    1.910546       0.013     11.9515   \n",
              "1        0.647000    1186.490000    2.624200       0.006      5.9100   \n",
              "2        0.184000       1.758400    0.717909       0.058    106.3330   \n",
              "3        0.642000       0.781988    0.717909       0.037   1899.5700   \n",
              "4        1.029000    1306.550000    3.247140       0.006      4.6175   \n",
              "\n",
              "   st_tefferr  st_loggerr  st_raderr  \n",
              "0       264.7     0.07000   0.072573  \n",
              "1       126.4     0.09000   0.090000  \n",
              "2       124.0     0.08504   0.060000  \n",
              "3       567.0     1.64000   0.060000  \n",
              "4       171.1     0.07000   0.060000  \n",
              "\n",
              "[5 rows x 63 columns]"
            ]
          },
          "execution_count": 58,
          "metadata": {},
          "output_type": "execute_result"
        }
      ],
      "source": [
        "# Alternative: that curates manually the list of meaningful continuous vars\n",
        "cont_cols = [\n",
        "    \"st_pmra\", \"st_pmdec\", \"pl_orbper\", \"pl_trandurh\", \"pl_trandep\",\n",
        "    \"pl_rade\", \"pl_insol\", \"pl_eqt\", \"st_tmag\", \"st_dist\",\n",
        "    \"st_teff\", \"st_logg\", \"st_rad\"\n",
        "]\n",
        "\n",
        "# Important: Retain the original values of the continuous columns; use duplicates for scaling\n",
        "df_scaled = df.copy()\n",
        "scaler = StandardScaler()\n",
        "df_scaled[cont_cols] = scaler.fit_transform(df[cont_cols])\n",
        "df_scaled.head()"
      ]
    },
    {
      "cell_type": "markdown",
      "id": "00602074",
      "metadata": {
        "id": "00602074"
      },
      "source": [
        "##### Creating dummy variables - One-Hot Encoding"
      ]
    },
    {
      "cell_type": "code",
      "execution_count": null,
      "id": "1cb37468",
      "metadata": {
        "id": "1cb37468",
        "outputId": "2b4a900b-2ad8-440a-e653-1cca0ceae3b5"
      },
      "outputs": [
        {
          "name": "stdout",
          "output_type": "stream",
          "text": [
            "<class 'pandas.core.frame.DataFrame'>\n",
            "RangeIndex: 7562 entries, 0 to 7561\n",
            "Columns: 131 entries, rowid to disp_PC\n",
            "dtypes: datetime64[ns](4), float64(64), int64(48), object(15)\n",
            "memory usage: 7.6+ MB\n",
            "None\n"
          ]
        }
      ],
      "source": [
        "# Encoding bool to int in dummy variables\n",
        "dummy_variables_disp = pd.get_dummies(df, columns=['tfopwg_disp'], prefix='disp', dtype='int')\n",
        "df = pd.concat([df, dummy_variables_disp], axis=1)\n",
        "print(df.info())"
      ]
    },
    {
      "cell_type": "code",
      "execution_count": null,
      "id": "fe06e3c7",
      "metadata": {
        "id": "fe06e3c7",
        "outputId": "fd78b9c1-0754-40da-d950-3fcb9531ba91"
      },
      "outputs": [
        {
          "name": "stdout",
          "output_type": "stream",
          "text": [
            "<class 'pandas.core.frame.DataFrame'>\n",
            "RangeIndex: 7562 entries, 0 to 7561\n",
            "Data columns (total 131 columns):\n",
            " #    Column             Non-Null Count  Dtype         \n",
            "---   ------             --------------  -----         \n",
            " 0    rowid              7562 non-null   object        \n",
            " 1    toi                7562 non-null   object        \n",
            " 2    toipfx             7562 non-null   object        \n",
            " 3    tid                7562 non-null   object        \n",
            " 4    ctoi_alias         7562 non-null   object        \n",
            " 5    pl_pnum            7562 non-null   int64         \n",
            " 6    tfopwg_disp        7562 non-null   object        \n",
            " 7    rastr              7562 non-null   object        \n",
            " 8    ra                 7562 non-null   float64       \n",
            " 9    decstr             7562 non-null   object        \n",
            " 10   dec                7562 non-null   float64       \n",
            " 11   st_pmra            7562 non-null   float64       \n",
            " 12   st_pmralim         7562 non-null   float64       \n",
            " 13   st_pmrasymerr      7562 non-null   float64       \n",
            " 14   st_pmdec           7562 non-null   float64       \n",
            " 15   st_pmdeclim        7562 non-null   float64       \n",
            " 16   st_pmdecsymerr     7562 non-null   float64       \n",
            " 17   pl_tranmid         7562 non-null   float64       \n",
            " 18   pl_tranmidlim      7562 non-null   int64         \n",
            " 19   pl_tranmidsymerr   7562 non-null   int64         \n",
            " 20   pl_orbper          7562 non-null   float64       \n",
            " 21   pl_orbperlim       7562 non-null   int64         \n",
            " 22   pl_orbpersymerr    7562 non-null   int64         \n",
            " 23   pl_trandurh        7562 non-null   float64       \n",
            " 24   pl_trandurhlim     7562 non-null   int64         \n",
            " 25   pl_trandurhsymerr  7562 non-null   int64         \n",
            " 26   pl_trandep         7562 non-null   float64       \n",
            " 27   pl_trandeplim      7562 non-null   int64         \n",
            " 28   pl_trandepsymerr   7562 non-null   int64         \n",
            " 29   pl_rade            7562 non-null   float64       \n",
            " 30   pl_radelim         7562 non-null   int64         \n",
            " 31   pl_radesymerr      7562 non-null   int64         \n",
            " 32   pl_insol           7562 non-null   float64       \n",
            " 33   pl_eqt             7562 non-null   float64       \n",
            " 34   st_tmag            7562 non-null   float64       \n",
            " 35   st_tmaglim         7562 non-null   int64         \n",
            " 36   st_tmagsymerr      7562 non-null   int64         \n",
            " 37   st_dist            7562 non-null   float64       \n",
            " 38   st_distlim         7562 non-null   int64         \n",
            " 39   st_distsymerr      7562 non-null   int64         \n",
            " 40   st_teff            7562 non-null   float64       \n",
            " 41   st_tefflim         7562 non-null   int64         \n",
            " 42   st_teffsymerr      7562 non-null   int64         \n",
            " 43   st_logg            7562 non-null   float64       \n",
            " 44   st_logglim         7562 non-null   int64         \n",
            " 45   st_loggsymerr      7562 non-null   int64         \n",
            " 46   st_rad             7562 non-null   float64       \n",
            " 47   st_radlim          7562 non-null   int64         \n",
            " 48   st_radsymerr       7562 non-null   int64         \n",
            " 49   toi_created        7562 non-null   datetime64[ns]\n",
            " 50   rowupdate          7562 non-null   datetime64[ns]\n",
            " 51   st_pmraerr         7562 non-null   float64       \n",
            " 52   st_pmdecerr        7562 non-null   float64       \n",
            " 53   pl_tranmiderr      7562 non-null   float64       \n",
            " 54   pl_orbpererr       7562 non-null   float64       \n",
            " 55   pl_trandurherr     7562 non-null   float64       \n",
            " 56   pl_trandeperr      7562 non-null   float64       \n",
            " 57   pl_radeerr         7562 non-null   float64       \n",
            " 58   st_tmagerr         7562 non-null   float64       \n",
            " 59   st_disterr         7562 non-null   float64       \n",
            " 60   st_tefferr         7562 non-null   float64       \n",
            " 61   st_loggerr         7562 non-null   float64       \n",
            " 62   st_raderr          7562 non-null   float64       \n",
            " 63   rowid              7562 non-null   object        \n",
            " 64   toi                7562 non-null   object        \n",
            " 65   toipfx             7562 non-null   object        \n",
            " 66   tid                7562 non-null   object        \n",
            " 67   ctoi_alias         7562 non-null   object        \n",
            " 68   pl_pnum            7562 non-null   int64         \n",
            " 69   rastr              7562 non-null   object        \n",
            " 70   ra                 7562 non-null   float64       \n",
            " 71   decstr             7562 non-null   object        \n",
            " 72   dec                7562 non-null   float64       \n",
            " 73   st_pmra            7562 non-null   float64       \n",
            " 74   st_pmralim         7562 non-null   float64       \n",
            " 75   st_pmrasymerr      7562 non-null   float64       \n",
            " 76   st_pmdec           7562 non-null   float64       \n",
            " 77   st_pmdeclim        7562 non-null   float64       \n",
            " 78   st_pmdecsymerr     7562 non-null   float64       \n",
            " 79   pl_tranmid         7562 non-null   float64       \n",
            " 80   pl_tranmidlim      7562 non-null   int64         \n",
            " 81   pl_tranmidsymerr   7562 non-null   int64         \n",
            " 82   pl_orbper          7562 non-null   float64       \n",
            " 83   pl_orbperlim       7562 non-null   int64         \n",
            " 84   pl_orbpersymerr    7562 non-null   int64         \n",
            " 85   pl_trandurh        7562 non-null   float64       \n",
            " 86   pl_trandurhlim     7562 non-null   int64         \n",
            " 87   pl_trandurhsymerr  7562 non-null   int64         \n",
            " 88   pl_trandep         7562 non-null   float64       \n",
            " 89   pl_trandeplim      7562 non-null   int64         \n",
            " 90   pl_trandepsymerr   7562 non-null   int64         \n",
            " 91   pl_rade            7562 non-null   float64       \n",
            " 92   pl_radelim         7562 non-null   int64         \n",
            " 93   pl_radesymerr      7562 non-null   int64         \n",
            " 94   pl_insol           7562 non-null   float64       \n",
            " 95   pl_eqt             7562 non-null   float64       \n",
            " 96   st_tmag            7562 non-null   float64       \n",
            " 97   st_tmaglim         7562 non-null   int64         \n",
            " 98   st_tmagsymerr      7562 non-null   int64         \n",
            " 99   st_dist            7562 non-null   float64       \n",
            " 100  st_distlim         7562 non-null   int64         \n",
            " 101  st_distsymerr      7562 non-null   int64         \n",
            " 102  st_teff            7562 non-null   float64       \n",
            " 103  st_tefflim         7562 non-null   int64         \n",
            " 104  st_teffsymerr      7562 non-null   int64         \n",
            " 105  st_logg            7562 non-null   float64       \n",
            " 106  st_logglim         7562 non-null   int64         \n",
            " 107  st_loggsymerr      7562 non-null   int64         \n",
            " 108  st_rad             7562 non-null   float64       \n",
            " 109  st_radlim          7562 non-null   int64         \n",
            " 110  st_radsymerr       7562 non-null   int64         \n",
            " 111  toi_created        7562 non-null   datetime64[ns]\n",
            " 112  rowupdate          7562 non-null   datetime64[ns]\n",
            " 113  st_pmraerr         7562 non-null   float64       \n",
            " 114  st_pmdecerr        7562 non-null   float64       \n",
            " 115  pl_tranmiderr      7562 non-null   float64       \n",
            " 116  pl_orbpererr       7562 non-null   float64       \n",
            " 117  pl_trandurherr     7562 non-null   float64       \n",
            " 118  pl_trandeperr      7562 non-null   float64       \n",
            " 119  pl_radeerr         7562 non-null   float64       \n",
            " 120  st_tmagerr         7562 non-null   float64       \n",
            " 121  st_disterr         7562 non-null   float64       \n",
            " 122  st_tefferr         7562 non-null   float64       \n",
            " 123  st_loggerr         7562 non-null   float64       \n",
            " 124  st_raderr          7562 non-null   float64       \n",
            " 125  disp_APC           7562 non-null   int64         \n",
            " 126  disp_CP            7562 non-null   int64         \n",
            " 127  disp_FA            7562 non-null   int64         \n",
            " 128  disp_FP            7562 non-null   int64         \n",
            " 129  disp_KP            7562 non-null   int64         \n",
            " 130  disp_PC            7562 non-null   int64         \n",
            "dtypes: datetime64[ns](4), float64(64), int64(48), object(15)\n",
            "memory usage: 7.6+ MB\n",
            "None\n"
          ]
        }
      ],
      "source": [
        "# Same goes to the scaled csv\n",
        "df_scaled = pd.concat([df_scaled, dummy_variables_disp], axis=1)\n",
        "print(df_scaled.info())"
      ]
    },
    {
      "cell_type": "code",
      "execution_count": null,
      "id": "096bf47e",
      "metadata": {
        "id": "096bf47e",
        "outputId": "3097a861-7a3d-47e4-f8af-4b4e3c232ad4"
      },
      "outputs": [
        {
          "name": "stdout",
          "output_type": "stream",
          "text": [
            "<class 'pandas.core.frame.DataFrame'>\n",
            "RangeIndex: 7562 entries, 0 to 7561\n",
            "Data columns (total 131 columns):\n",
            " #    Column             Non-Null Count  Dtype         \n",
            "---   ------             --------------  -----         \n",
            " 0    rowid              7562 non-null   object        \n",
            " 1    toi                7562 non-null   object        \n",
            " 2    toipfx             7562 non-null   object        \n",
            " 3    tid                7562 non-null   object        \n",
            " 4    ctoi_alias         7562 non-null   object        \n",
            " 5    pl_pnum            7562 non-null   int64         \n",
            " 6    tfopwg_disp        7562 non-null   object        \n",
            " 7    rastr              7562 non-null   object        \n",
            " 8    ra                 7562 non-null   float64       \n",
            " 9    decstr             7562 non-null   object        \n",
            " 10   dec                7562 non-null   float64       \n",
            " 11   st_pmra            7562 non-null   float64       \n",
            " 12   st_pmralim         7562 non-null   float64       \n",
            " 13   st_pmrasymerr      7562 non-null   float64       \n",
            " 14   st_pmdec           7562 non-null   float64       \n",
            " 15   st_pmdeclim        7562 non-null   float64       \n",
            " 16   st_pmdecsymerr     7562 non-null   float64       \n",
            " 17   pl_tranmid         7562 non-null   float64       \n",
            " 18   pl_tranmidlim      7562 non-null   int64         \n",
            " 19   pl_tranmidsymerr   7562 non-null   int64         \n",
            " 20   pl_orbper          7562 non-null   float64       \n",
            " 21   pl_orbperlim       7562 non-null   int64         \n",
            " 22   pl_orbpersymerr    7562 non-null   int64         \n",
            " 23   pl_trandurh        7562 non-null   float64       \n",
            " 24   pl_trandurhlim     7562 non-null   int64         \n",
            " 25   pl_trandurhsymerr  7562 non-null   int64         \n",
            " 26   pl_trandep         7562 non-null   float64       \n",
            " 27   pl_trandeplim      7562 non-null   int64         \n",
            " 28   pl_trandepsymerr   7562 non-null   int64         \n",
            " 29   pl_rade            7562 non-null   float64       \n",
            " 30   pl_radelim         7562 non-null   int64         \n",
            " 31   pl_radesymerr      7562 non-null   int64         \n",
            " 32   pl_insol           7562 non-null   float64       \n",
            " 33   pl_eqt             7562 non-null   float64       \n",
            " 34   st_tmag            7562 non-null   float64       \n",
            " 35   st_tmaglim         7562 non-null   int64         \n",
            " 36   st_tmagsymerr      7562 non-null   int64         \n",
            " 37   st_dist            7562 non-null   float64       \n",
            " 38   st_distlim         7562 non-null   int64         \n",
            " 39   st_distsymerr      7562 non-null   int64         \n",
            " 40   st_teff            7562 non-null   float64       \n",
            " 41   st_tefflim         7562 non-null   int64         \n",
            " 42   st_teffsymerr      7562 non-null   int64         \n",
            " 43   st_logg            7562 non-null   float64       \n",
            " 44   st_logglim         7562 non-null   int64         \n",
            " 45   st_loggsymerr      7562 non-null   int64         \n",
            " 46   st_rad             7562 non-null   float64       \n",
            " 47   st_radlim          7562 non-null   int64         \n",
            " 48   st_radsymerr       7562 non-null   int64         \n",
            " 49   toi_created        7562 non-null   datetime64[ns]\n",
            " 50   rowupdate          7562 non-null   datetime64[ns]\n",
            " 51   st_pmraerr         7562 non-null   float64       \n",
            " 52   st_pmdecerr        7562 non-null   float64       \n",
            " 53   pl_tranmiderr      7562 non-null   float64       \n",
            " 54   pl_orbpererr       7562 non-null   float64       \n",
            " 55   pl_trandurherr     7562 non-null   float64       \n",
            " 56   pl_trandeperr      7562 non-null   float64       \n",
            " 57   pl_radeerr         7562 non-null   float64       \n",
            " 58   st_tmagerr         7562 non-null   float64       \n",
            " 59   st_disterr         7562 non-null   float64       \n",
            " 60   st_tefferr         7562 non-null   float64       \n",
            " 61   st_loggerr         7562 non-null   float64       \n",
            " 62   st_raderr          7562 non-null   float64       \n",
            " 63   rowid              7562 non-null   object        \n",
            " 64   toi                7562 non-null   object        \n",
            " 65   toipfx             7562 non-null   object        \n",
            " 66   tid                7562 non-null   object        \n",
            " 67   ctoi_alias         7562 non-null   object        \n",
            " 68   pl_pnum            7562 non-null   int64         \n",
            " 69   rastr              7562 non-null   object        \n",
            " 70   ra                 7562 non-null   float64       \n",
            " 71   decstr             7562 non-null   object        \n",
            " 72   dec                7562 non-null   float64       \n",
            " 73   st_pmra            7562 non-null   float64       \n",
            " 74   st_pmralim         7562 non-null   float64       \n",
            " 75   st_pmrasymerr      7562 non-null   float64       \n",
            " 76   st_pmdec           7562 non-null   float64       \n",
            " 77   st_pmdeclim        7562 non-null   float64       \n",
            " 78   st_pmdecsymerr     7562 non-null   float64       \n",
            " 79   pl_tranmid         7562 non-null   float64       \n",
            " 80   pl_tranmidlim      7562 non-null   int64         \n",
            " 81   pl_tranmidsymerr   7562 non-null   int64         \n",
            " 82   pl_orbper          7562 non-null   float64       \n",
            " 83   pl_orbperlim       7562 non-null   int64         \n",
            " 84   pl_orbpersymerr    7562 non-null   int64         \n",
            " 85   pl_trandurh        7562 non-null   float64       \n",
            " 86   pl_trandurhlim     7562 non-null   int64         \n",
            " 87   pl_trandurhsymerr  7562 non-null   int64         \n",
            " 88   pl_trandep         7562 non-null   float64       \n",
            " 89   pl_trandeplim      7562 non-null   int64         \n",
            " 90   pl_trandepsymerr   7562 non-null   int64         \n",
            " 91   pl_rade            7562 non-null   float64       \n",
            " 92   pl_radelim         7562 non-null   int64         \n",
            " 93   pl_radesymerr      7562 non-null   int64         \n",
            " 94   pl_insol           7562 non-null   float64       \n",
            " 95   pl_eqt             7562 non-null   float64       \n",
            " 96   st_tmag            7562 non-null   float64       \n",
            " 97   st_tmaglim         7562 non-null   int64         \n",
            " 98   st_tmagsymerr      7562 non-null   int64         \n",
            " 99   st_dist            7562 non-null   float64       \n",
            " 100  st_distlim         7562 non-null   int64         \n",
            " 101  st_distsymerr      7562 non-null   int64         \n",
            " 102  st_teff            7562 non-null   float64       \n",
            " 103  st_tefflim         7562 non-null   int64         \n",
            " 104  st_teffsymerr      7562 non-null   int64         \n",
            " 105  st_logg            7562 non-null   float64       \n",
            " 106  st_logglim         7562 non-null   int64         \n",
            " 107  st_loggsymerr      7562 non-null   int64         \n",
            " 108  st_rad             7562 non-null   float64       \n",
            " 109  st_radlim          7562 non-null   int64         \n",
            " 110  st_radsymerr       7562 non-null   int64         \n",
            " 111  toi_created        7562 non-null   datetime64[ns]\n",
            " 112  rowupdate          7562 non-null   datetime64[ns]\n",
            " 113  st_pmraerr         7562 non-null   float64       \n",
            " 114  st_pmdecerr        7562 non-null   float64       \n",
            " 115  pl_tranmiderr      7562 non-null   float64       \n",
            " 116  pl_orbpererr       7562 non-null   float64       \n",
            " 117  pl_trandurherr     7562 non-null   float64       \n",
            " 118  pl_trandeperr      7562 non-null   float64       \n",
            " 119  pl_radeerr         7562 non-null   float64       \n",
            " 120  st_tmagerr         7562 non-null   float64       \n",
            " 121  st_disterr         7562 non-null   float64       \n",
            " 122  st_tefferr         7562 non-null   float64       \n",
            " 123  st_loggerr         7562 non-null   float64       \n",
            " 124  st_raderr          7562 non-null   float64       \n",
            " 125  disp_APC           7562 non-null   int64         \n",
            " 126  disp_CP            7562 non-null   int64         \n",
            " 127  disp_FA            7562 non-null   int64         \n",
            " 128  disp_FP            7562 non-null   int64         \n",
            " 129  disp_KP            7562 non-null   int64         \n",
            " 130  disp_PC            7562 non-null   int64         \n",
            "dtypes: datetime64[ns](4), float64(64), int64(48), object(15)\n",
            "memory usage: 7.6+ MB\n"
          ]
        }
      ],
      "source": [
        "pd.options.display.max_info_columns = 200  # or larger than your total columns\n",
        "df.info()"
      ]
    },
    {
      "cell_type": "code",
      "execution_count": null,
      "id": "c0c2ca0b",
      "metadata": {
        "id": "c0c2ca0b"
      },
      "outputs": [],
      "source": [
        "# Exporting wrangled datasets to csv\n",
        "df.to_csv(\"TOI_2025_wrangled.csv\", index=False)\n",
        "df_scaled.to_csv(\"TOI_2025_wrangled_scaled.csv\", index=False)"
      ]
    },
    {
      "cell_type": "markdown",
      "id": "8ce88408",
      "metadata": {
        "id": "8ce88408"
      },
      "source": [
        "### 3. Exploratory Data Analysis"
      ]
    },
    {
      "cell_type": "markdown",
      "id": "2b9f0ac6",
      "metadata": {
        "id": "2b9f0ac6"
      },
      "source": [
        " What appeared to be distinct is unlike business-oriented datasets that clearly outline the dependent variable(s) and indenpendent variable(s), that likely to be developed as prediction/regression pipelines, the TOI dataset is sort of like metadata + labels of the exoplanets detected which utterly used to acquire other sources of datasets."
      ]
    },
    {
      "cell_type": "code",
      "execution_count": null,
      "id": "7a1da927",
      "metadata": {
        "id": "7a1da927",
        "outputId": "4221eaff-a60f-415b-eb76-e9ce1417abd7"
      },
      "outputs": [
        {
          "data": {
            "text/html": [
              "<div>\n",
              "<style scoped>\n",
              "    .dataframe tbody tr th:only-of-type {\n",
              "        vertical-align: middle;\n",
              "    }\n",
              "\n",
              "    .dataframe tbody tr th {\n",
              "        vertical-align: top;\n",
              "    }\n",
              "\n",
              "    .dataframe thead th {\n",
              "        text-align: right;\n",
              "    }\n",
              "</style>\n",
              "<table border=\"1\" class=\"dataframe\">\n",
              "  <thead>\n",
              "    <tr style=\"text-align: right;\">\n",
              "      <th></th>\n",
              "      <th>rowid</th>\n",
              "      <th>toi</th>\n",
              "      <th>toipfx</th>\n",
              "      <th>tid</th>\n",
              "      <th>ctoi_alias</th>\n",
              "      <th>pl_pnum</th>\n",
              "      <th>tfopwg_disp</th>\n",
              "      <th>rastr</th>\n",
              "      <th>ra</th>\n",
              "      <th>decstr</th>\n",
              "      <th>...</th>\n",
              "      <th>st_disterr.1</th>\n",
              "      <th>st_tefferr.1</th>\n",
              "      <th>st_loggerr.1</th>\n",
              "      <th>st_raderr.1</th>\n",
              "      <th>disp_APC</th>\n",
              "      <th>disp_CP</th>\n",
              "      <th>disp_FA</th>\n",
              "      <th>disp_FP</th>\n",
              "      <th>disp_KP</th>\n",
              "      <th>disp_PC</th>\n",
              "    </tr>\n",
              "  </thead>\n",
              "  <tbody>\n",
              "    <tr>\n",
              "      <th>0</th>\n",
              "      <td>1</td>\n",
              "      <td>1000.01</td>\n",
              "      <td>1000</td>\n",
              "      <td>50365310</td>\n",
              "      <td>5.036531e+07</td>\n",
              "      <td>1</td>\n",
              "      <td>FP</td>\n",
              "      <td>07h29m25.85s</td>\n",
              "      <td>112.357708</td>\n",
              "      <td>-12d41m45.46s</td>\n",
              "      <td>...</td>\n",
              "      <td>11.9515</td>\n",
              "      <td>264.7</td>\n",
              "      <td>0.07000</td>\n",
              "      <td>0.072573</td>\n",
              "      <td>0</td>\n",
              "      <td>0</td>\n",
              "      <td>0</td>\n",
              "      <td>1</td>\n",
              "      <td>0</td>\n",
              "      <td>0</td>\n",
              "    </tr>\n",
              "    <tr>\n",
              "      <th>1</th>\n",
              "      <td>2</td>\n",
              "      <td>1001.01</td>\n",
              "      <td>1001</td>\n",
              "      <td>88863718</td>\n",
              "      <td>8.886372e+07</td>\n",
              "      <td>1</td>\n",
              "      <td>PC</td>\n",
              "      <td>08h10m19.31s</td>\n",
              "      <td>122.580465</td>\n",
              "      <td>-05d30m49.87s</td>\n",
              "      <td>...</td>\n",
              "      <td>5.9100</td>\n",
              "      <td>126.4</td>\n",
              "      <td>0.09000</td>\n",
              "      <td>0.090000</td>\n",
              "      <td>0</td>\n",
              "      <td>0</td>\n",
              "      <td>0</td>\n",
              "      <td>0</td>\n",
              "      <td>0</td>\n",
              "      <td>1</td>\n",
              "    </tr>\n",
              "    <tr>\n",
              "      <th>2</th>\n",
              "      <td>3</td>\n",
              "      <td>1002.01</td>\n",
              "      <td>1002</td>\n",
              "      <td>124709665</td>\n",
              "      <td>1.247097e+08</td>\n",
              "      <td>1</td>\n",
              "      <td>FP</td>\n",
              "      <td>06h58m54.47s</td>\n",
              "      <td>104.726966</td>\n",
              "      <td>-10d34m49.64s</td>\n",
              "      <td>...</td>\n",
              "      <td>106.3330</td>\n",
              "      <td>124.0</td>\n",
              "      <td>0.08504</td>\n",
              "      <td>0.060000</td>\n",
              "      <td>0</td>\n",
              "      <td>0</td>\n",
              "      <td>0</td>\n",
              "      <td>1</td>\n",
              "      <td>0</td>\n",
              "      <td>0</td>\n",
              "    </tr>\n",
              "    <tr>\n",
              "      <th>3</th>\n",
              "      <td>4</td>\n",
              "      <td>1003.01</td>\n",
              "      <td>1003</td>\n",
              "      <td>106997505</td>\n",
              "      <td>1.069975e+08</td>\n",
              "      <td>1</td>\n",
              "      <td>FP</td>\n",
              "      <td>07h22m14.39s</td>\n",
              "      <td>110.559945</td>\n",
              "      <td>-25d12m25.26s</td>\n",
              "      <td>...</td>\n",
              "      <td>1899.5700</td>\n",
              "      <td>567.0</td>\n",
              "      <td>1.64000</td>\n",
              "      <td>0.060000</td>\n",
              "      <td>0</td>\n",
              "      <td>0</td>\n",
              "      <td>0</td>\n",
              "      <td>1</td>\n",
              "      <td>0</td>\n",
              "      <td>0</td>\n",
              "    </tr>\n",
              "    <tr>\n",
              "      <th>4</th>\n",
              "      <td>5</td>\n",
              "      <td>1004.01</td>\n",
              "      <td>1004</td>\n",
              "      <td>238597883</td>\n",
              "      <td>2.385979e+08</td>\n",
              "      <td>1</td>\n",
              "      <td>FP</td>\n",
              "      <td>08h08m42.77s</td>\n",
              "      <td>122.178195</td>\n",
              "      <td>-48d48m10.12s</td>\n",
              "      <td>...</td>\n",
              "      <td>4.6175</td>\n",
              "      <td>171.1</td>\n",
              "      <td>0.07000</td>\n",
              "      <td>0.060000</td>\n",
              "      <td>0</td>\n",
              "      <td>0</td>\n",
              "      <td>0</td>\n",
              "      <td>1</td>\n",
              "      <td>0</td>\n",
              "      <td>0</td>\n",
              "    </tr>\n",
              "  </tbody>\n",
              "</table>\n",
              "<p>5 rows × 131 columns</p>\n",
              "</div>"
            ],
            "text/plain": [
              "   rowid      toi  toipfx        tid    ctoi_alias  pl_pnum tfopwg_disp  \\\n",
              "0      1  1000.01    1000   50365310  5.036531e+07        1          FP   \n",
              "1      2  1001.01    1001   88863718  8.886372e+07        1          PC   \n",
              "2      3  1002.01    1002  124709665  1.247097e+08        1          FP   \n",
              "3      4  1003.01    1003  106997505  1.069975e+08        1          FP   \n",
              "4      5  1004.01    1004  238597883  2.385979e+08        1          FP   \n",
              "\n",
              "          rastr          ra         decstr  ...  st_disterr.1  st_tefferr.1  \\\n",
              "0  07h29m25.85s  112.357708  -12d41m45.46s  ...       11.9515         264.7   \n",
              "1  08h10m19.31s  122.580465  -05d30m49.87s  ...        5.9100         126.4   \n",
              "2  06h58m54.47s  104.726966  -10d34m49.64s  ...      106.3330         124.0   \n",
              "3  07h22m14.39s  110.559945  -25d12m25.26s  ...     1899.5700         567.0   \n",
              "4  08h08m42.77s  122.178195  -48d48m10.12s  ...        4.6175         171.1   \n",
              "\n",
              "   st_loggerr.1  st_raderr.1  disp_APC  disp_CP  disp_FA  disp_FP  disp_KP  \\\n",
              "0       0.07000     0.072573         0        0        0        1        0   \n",
              "1       0.09000     0.090000         0        0        0        0        0   \n",
              "2       0.08504     0.060000         0        0        0        1        0   \n",
              "3       1.64000     0.060000         0        0        0        1        0   \n",
              "4       0.07000     0.060000         0        0        0        1        0   \n",
              "\n",
              "   disp_PC  \n",
              "0        0  \n",
              "1        1  \n",
              "2        0  \n",
              "3        0  \n",
              "4        0  \n",
              "\n",
              "[5 rows x 131 columns]"
            ]
          },
          "execution_count": 3,
          "metadata": {},
          "output_type": "execute_result"
        }
      ],
      "source": [
        "# Load the wrangled datasets\n",
        "df = pd.read_csv('TOI_2025_wrangled_scaled.csv', header=0)\n",
        "df.head()"
      ]
    },
    {
      "cell_type": "code",
      "execution_count": null,
      "id": "a95fa803",
      "metadata": {
        "id": "a95fa803",
        "outputId": "7fe93578-ba26-4d76-c7d4-0feee730a22f"
      },
      "outputs": [
        {
          "data": {
            "text/plain": [
              "rowid           int64\n",
              "toi           float64\n",
              "toipfx          int64\n",
              "tid             int64\n",
              "ctoi_alias    float64\n",
              "               ...   \n",
              "disp_CP         int64\n",
              "disp_FA         int64\n",
              "disp_FP         int64\n",
              "disp_KP         int64\n",
              "disp_PC         int64\n",
              "Length: 131, dtype: object"
            ]
          },
          "execution_count": 4,
          "metadata": {},
          "output_type": "execute_result"
        }
      ],
      "source": [
        "# List the data types of the columns\n",
        "df.dtypes"
      ]
    },
    {
      "cell_type": "code",
      "execution_count": null,
      "id": "acd11937",
      "metadata": {
        "id": "acd11937",
        "outputId": "5ad8f846-0317-419c-ed85-adb94846df1e"
      },
      "outputs": [
        {
          "name": "stdout",
          "output_type": "stream",
          "text": [
            "Shape: (7562, 131)\n",
            "\n",
            "Basic Info:\n",
            "<class 'pandas.core.frame.DataFrame'>\n",
            "RangeIndex: 7562 entries, 0 to 7561\n",
            "Columns: 131 entries, rowid to disp_PC\n",
            "dtypes: float64(68), int64(54), object(9)\n",
            "memory usage: 7.6+ MB\n",
            "None\n",
            "\n",
            "Missing Values:\n",
            " rowid               0\n",
            "toi                 0\n",
            "toipfx              0\n",
            "tid                 0\n",
            "ctoi_alias          0\n",
            "pl_pnum             0\n",
            "tfopwg_disp         0\n",
            "rastr               0\n",
            "ra                  0\n",
            "decstr              0\n",
            "dec                 0\n",
            "st_pmra             0\n",
            "st_pmralim          0\n",
            "st_pmrasymerr       0\n",
            "st_pmdec            0\n",
            "st_pmdeclim         0\n",
            "st_pmdecsymerr      0\n",
            "pl_tranmid          0\n",
            "pl_tranmidlim       0\n",
            "pl_tranmidsymerr    0\n",
            "dtype: int64\n"
          ]
        }
      ],
      "source": [
        "# Datasets Overview\n",
        "print(\"Shape:\", df.shape)\n",
        "print(\"\\nBasic Info:\")\n",
        "print(df.info())\n",
        "print(\"\\nMissing Values:\\n\", df.isna().sum().sort_values(ascending=False).head(20))"
      ]
    },
    {
      "cell_type": "markdown",
      "id": "f469bf55",
      "metadata": {
        "id": "f469bf55"
      },
      "source": [
        "##### Categorical & Numerical Analysis and Visualization"
      ]
    },
    {
      "cell_type": "code",
      "execution_count": null,
      "id": "38dd2a5a",
      "metadata": {
        "id": "38dd2a5a",
        "outputId": "aac9e6e3-f444-4274-c818-47d0c440e1c6"
      },
      "outputs": [
        {
          "name": "stdout",
          "output_type": "stream",
          "text": [
            "\n",
            "Descriptive Stats (Continuous):\n",
            "               count          mean       std        min       25%       50%  \\\n",
            "st_pmra      7562.0  9.396228e-18  1.000066 -21.890201 -0.131788 -0.012297   \n",
            "st_pmdec     7562.0 -1.127547e-17  1.000066 -18.453412 -0.076606  0.081598   \n",
            "pl_orbper    7562.0  3.382642e-17  1.000066  -0.180240 -0.156418 -0.139994   \n",
            "pl_trandurh  7562.0  2.067170e-16  1.000066  -1.682255 -0.674565 -0.163451   \n",
            "pl_trandep   7562.0 -5.637737e-18  1.000066  -0.469233 -0.389508 -0.198420   \n",
            "pl_rade      7562.0  1.879246e-16  1.000066  -1.181338 -0.648186  0.026087   \n",
            "pl_insol     7562.0  3.006793e-17  1.000066  -0.205523 -0.196896 -0.170977   \n",
            "pl_eqt       7562.0 -1.202717e-16  1.000066  -1.863352 -0.660251 -0.143777   \n",
            "st_tmag      7562.0 -1.383125e-15  1.000066  -4.280737 -0.721899  0.174732   \n",
            "st_dist      7562.0  1.879246e-18  1.000066  -0.860253 -0.535701 -0.171700   \n",
            "st_teff      7562.0  2.931623e-16  1.000066  -2.018859 -0.386306  0.006165   \n",
            "st_logg      7562.0  5.863246e-16  1.000066 -14.634365 -0.535789  0.000000   \n",
            "st_rad       7562.0 -3.006793e-17  1.000066  -0.823205 -0.306070 -0.100544   \n",
            "\n",
            "                  75%        max  \n",
            "st_pmra      0.110516  27.976442  \n",
            "st_pmdec     0.207719  15.981459  \n",
            "pl_orbper   -0.100698  18.581806  \n",
            "pl_trandurh  0.442879  15.712251  \n",
            "pl_trandep   0.117502  43.090482  \n",
            "pl_rade      0.406267  34.383271  \n",
            "pl_insol    -0.099893  25.599197  \n",
            "pl_eqt       0.429852   7.629299  \n",
            "st_tmag      0.793867   4.155761  \n",
            "st_dist      0.291126  25.747745  \n",
            "st_teff      0.333593  30.028282  \n",
            "st_logg      0.612984   5.767320  \n",
            "st_rad       0.143517  64.633463  \n"
          ]
        }
      ],
      "source": [
        "# Display and handle dummy variables\n",
        "dummy_cols = [c for c in df.columns if c.startswith(\"disp_\")]\n",
        "eda_cont_cols = [\n",
        "    \"st_pmra\", \"st_pmdec\", \"pl_orbper\", \"pl_trandurh\", \"pl_trandep\",\n",
        "    \"pl_rade\", \"pl_insol\", \"pl_eqt\", \"st_tmag\", \"st_dist\",\n",
        "    \"st_teff\", \"st_logg\", \"st_rad\"\n",
        "]\n",
        "\n",
        "# Descriptive statistics of datasets\n",
        "print(\"\\nDescriptive Stats (Continuous):\\n\", df[eda_cont_cols].describe().T)"
      ]
    },
    {
      "cell_type": "code",
      "execution_count": null,
      "id": "3e23d56d",
      "metadata": {
        "id": "3e23d56d",
        "outputId": "cb45d632-4833-458f-9a9b-d51bbe6c4d45"
      },
      "outputs": [
        {
          "data": {
            "image/png": "[encoded data removed]",
            "text/plain": [
              "<Figure size 600x400 with 1 Axes>"
            ]
          },
          "metadata": {},
          "output_type": "display_data"
        },
        {
          "data": {
            "image/png": "[encoded data removed]",
            "text/plain": [
              "<Figure size 600x400 with 1 Axes>"
            ]
          },
          "metadata": {},
          "output_type": "display_data"
        },
        {
          "data": {
            "image/png": "[encoded data removed]",
            "text/plain": [
              "<Figure size 600x400 with 1 Axes>"
            ]
          },
          "metadata": {},
          "output_type": "display_data"
        },
        {
          "data": {
            "image/png": "[encoded data removed]",
            "text/plain": [
              "<Figure size 600x400 with 1 Axes>"
            ]
          },
          "metadata": {},
          "output_type": "display_data"
        },
        {
          "data": {
            "image/png": "[encoded data removed]",
            "text/plain": [
              "<Figure size 600x400 with 1 Axes>"
            ]
          },
          "metadata": {},
          "output_type": "display_data"
        },
        {
          "data": {
            "image/png": "[encoded data removed]",
            "text/plain": [
              "<Figure size 600x400 with 1 Axes>"
            ]
          },
          "metadata": {},
          "output_type": "display_data"
        },
        {
          "data": {
            "image/png": "[encoded data removed]",
            "text/plain": [
              "<Figure size 600x400 with 1 Axes>"
            ]
          },
          "metadata": {},
          "output_type": "display_data"
        },
        {
          "data": {
            "image/png": "[encoded data removed]",
            "text/plain": [
              "<Figure size 600x400 with 1 Axes>"
            ]
          },
          "metadata": {},
          "output_type": "display_data"
        },
        {
          "data": {
            "image/png": "[encoded data removed]",
            "text/plain": [
              "<Figure size 600x400 with 1 Axes>"
            ]
          },
          "metadata": {},
          "output_type": "display_data"
        },
        {
          "data": {
            "image/png": "[encoded data removed]",
            "text/plain": [
              "<Figure size 600x400 with 1 Axes>"
            ]
          },
          "metadata": {},
          "output_type": "display_data"
        }
      ],
      "source": [
        "# Histogram - Distribution plots\n",
        "for col in eda_cont_cols[:10]:  # limit to first 10 for speed\n",
        "    plt.figure(figsize=(6, 4))\n",
        "    sns.histplot(df[col], bins=40, kde=True)\n",
        "    plt.title(f\"Distribution of {col}\")\n",
        "    plt.show()"
      ]
    },
    {
      "cell_type": "code",
      "execution_count": null,
      "id": "32a2c92f",
      "metadata": {
        "id": "32a2c92f",
        "outputId": "e75dfe45-0190-470c-d7dc-43bfdf771835"
      },
      "outputs": [
        {
          "data": {
            "image/png": "[encoded data removed]",
            "text/plain": [
              "<Figure size 1200x1000 with 2 Axes>"
            ]
          },
          "metadata": {},
          "output_type": "display_data"
        }
      ],
      "source": [
        "# Correlation heatmap (continuous only)\n",
        "plt.figure(figsize=(12, 10))\n",
        "sns.heatmap(df[eda_cont_cols].corr(), cmap=\"coolwarm\", center=0, cbar=True)\n",
        "plt.title(\"Correlation Heatmap (Continuous Features)\")\n",
        "plt.show()"
      ]
    },
    {
      "cell_type": "code",
      "execution_count": null,
      "id": "93de78e5",
      "metadata": {
        "id": "93de78e5",
        "outputId": "9a9d400b-9212-4117-88ac-053a853ca015"
      },
      "outputs": [
        {
          "name": "stderr",
          "output_type": "stream",
          "text": [
            "C:\\Users\\USER\\AppData\\Local\\Temp\\ipykernel_28864\\1712850953.py:5: FutureWarning: \n",
            "\n",
            "Passing `palette` without assigning `hue` is deprecated and will be removed in v0.14.0. Assign the `x` variable to `hue` and set `legend=False` for the same effect.\n",
            "\n",
            "  sns.barplot(x=class_counts.index, y=class_counts.values, palette=\"viridis\")\n"
          ]
        },
        {
          "data": {
            "image/png": "[encoded data removed]",
            "text/plain": [
              "<Figure size 600x400 with 1 Axes>"
            ]
          },
          "metadata": {},
          "output_type": "display_data"
        }
      ],
      "source": [
        "# Class Balance Visualization\n",
        "class_counts = df[dummy_cols].sum().sort_values(ascending=False)\n",
        "\n",
        "plt.figure(figsize=(6,4))\n",
        "sns.barplot(x=class_counts.index, y=class_counts.values, palette=\"viridis\")\n",
        "plt.title(\"TFOPWG Disp Class Distribution\")\n",
        "plt.ylabel(\"Count\")\n",
        "plt.xlabel(\"TFOPWG Disp\")\n",
        "plt.xticks(rotation=45)\n",
        "plt.show()"
      ]
    },
    {
      "cell_type": "code",
      "execution_count": null,
      "id": "046bd380",
      "metadata": {
        "id": "046bd380",
        "outputId": "73d0b5b0-865e-448c-f029-0ede17c3d8a3"
      },
      "outputs": [
        {
          "data": {
            "image/png": "[encoded data removed]",
            "text/plain": [
              "<Figure size 640x480 with 1 Axes>"
            ]
          },
          "metadata": {},
          "output_type": "display_data"
        }
      ],
      "source": [
        "# Feature Relationships by Class\n",
        "sns.scatterplot(\n",
        "    data=df, x=\"pl_orbper\", y=\"pl_rade\",\n",
        "    hue=df[dummy_cols].idxmax(axis=1), alpha=0.6\n",
        ")\n",
        "plt.xscale(\"log\")\n",
        "plt.yscale(\"log\")\n",
        "plt.title(\"Orbital Period vs Planet Radius by Class\")\n",
        "plt.show()"
      ]
    },
    {
      "cell_type": "code",
      "execution_count": null,
      "id": "4d5ea50a",
      "metadata": {
        "id": "4d5ea50a",
        "outputId": "5d285fbe-5360-4eda-cf2c-752e067ac061"
      },
      "outputs": [
        {
          "name": "stdout",
          "output_type": "stream",
          "text": [
            "           pl_rade  pl_trandep   st_teff\n",
            "disp_APC  0.349814    0.173037  0.187939\n",
            "disp_CP  -0.506285   -0.071548 -0.505283\n",
            "disp_FA  -0.513411   -0.270675 -0.188294\n",
            "disp_FP   0.208204   -0.008816  0.309360\n",
            "disp_KP   0.183471    0.174939 -0.091581\n",
            "disp_PC  -0.025815   -0.019965 -0.009400\n"
          ]
        }
      ],
      "source": [
        "# Group-by Analysis\n",
        "grouped = df.groupby(df[dummy_cols].idxmax(axis=1))[[\"pl_rade\", \"pl_trandep\", \"st_teff\"]].mean()\n",
        "print(grouped)"
      ]
    },
    {
      "cell_type": "code",
      "execution_count": null,
      "id": "8029bd22",
      "metadata": {
        "id": "8029bd22",
        "outputId": "ec90c318-cc59-49b2-cbe6-2524c54adb8c"
      },
      "outputs": [
        {
          "data": {
            "image/png": "[encoded data removed]",
            "text/plain": [
              "<Figure size 640x480 with 1 Axes>"
            ]
          },
          "metadata": {},
          "output_type": "display_data"
        }
      ],
      "source": [
        "# Dimensionality Reduction (PCA)\n",
        "from sklearn.decomposition import PCA\n",
        "\n",
        "X = df[eda_cont_cols].fillna(0)\n",
        "pca = PCA(n_components=2)\n",
        "X_pca = pca.fit_transform(X)\n",
        "\n",
        "df_pca = pd.DataFrame(X_pca, columns=[\"PC1\", \"PC2\"])\n",
        "df_pca[\"class\"] = df[dummy_cols].idxmax(axis=1)\n",
        "\n",
        "sns.scatterplot(data=df_pca, x=\"PC1\", y=\"PC2\", hue=\"class\", alpha=0.6)\n",
        "plt.title(\"PCA Projection of TOI Metadata\")\n",
        "plt.show()\n"
      ]
    },
    {
      "cell_type": "markdown",
      "id": "8ffde59a",
      "metadata": {
        "id": "8ffde59a"
      },
      "source": [
        "Conclusion: From the series of plots, it becomes evident that the dataset functions more as a collection of metadata and categorical labels rather than a conventional structure exhibiting clear independent–dependent variable relationships. The observed variations are driven primarily by discrete features and identifiers, underscoring the importance of classification-oriented attributes over continuous trends. Notably, the Positive Candidate class emerges as the dominant category across the dummy variables, exhibiting the most compact and consistent distributions. This dominance highlights its central role in shaping the dataset’s statistical profile and suggests that future modeling efforts may need to account for class imbalance and the strong influence of categorical encodings."
      ]
    },
    {
      "cell_type": "markdown",
      "id": "80e19b38",
      "metadata": {
        "id": "80e19b38"
      },
      "source": [
        "### Borneo ExoHunters Pipeline\n",
        "\n",
        "<p style=\"text-align:center\">\n",
        "    <img src=\"https://github.com/nathanyap17/ssac_2025/blob/master/assets/Flow_chart.jpg?raw=1\" alt=\"Data Pipeline: CNN Model\"  />\n",
        "    </a>\n",
        "</p>"
      ]
    },
    {
      "cell_type": "markdown",
      "id": "4bc23bb0",
      "metadata": {
        "id": "4bc23bb0"
      },
      "source": [
        "##### Import Dependencies"
      ]
    },
    {
      "cell_type": "code",
      "execution_count": null,
      "id": "6d9792e9",
      "metadata": {
        "id": "6d9792e9",
        "outputId": "16cff1a9-059b-4c2c-f8a3-54d8875843b8"
      },
      "outputs": [
        {
          "name": "stdout",
          "output_type": "stream",
          "text": [
            "Requirement already satisfied: lightkurve in c:\\users\\user\\anaconda3\\lib\\site-packages (2.5.1)\n",
            "Requirement already satisfied: astropy>=5.0 in c:\\users\\user\\anaconda3\\lib\\site-packages (from lightkurve) (7.0.0)\n",
            "Requirement already satisfied: astroquery>=0.3.10 in c:\\users\\user\\anaconda3\\lib\\site-packages (from lightkurve) (0.4.11)\n",
            "Requirement already satisfied: beautifulsoup4>=4.6.0 in c:\\users\\user\\anaconda3\\lib\\site-packages (from lightkurve) (4.13.4)\n",
            "Requirement already satisfied: bokeh>=2.3.2 in c:\\users\\user\\anaconda3\\lib\\site-packages (from lightkurve) (3.6.2)\n",
            "Requirement already satisfied: fbpca>=1.0 in c:\\users\\user\\anaconda3\\lib\\site-packages (from lightkurve) (1.0)\n",
            "Requirement already satisfied: matplotlib>=3.1 in c:\\users\\user\\anaconda3\\lib\\site-packages (from lightkurve) (3.10.0)\n",
            "Requirement already satisfied: memoization>=0.3.1 in c:\\users\\user\\anaconda3\\lib\\site-packages (from lightkurve) (0.4.0)\n",
            "Requirement already satisfied: numpy>=1.26 in c:\\users\\user\\anaconda3\\lib\\site-packages (from lightkurve) (2.1.3)\n",
            "Requirement already satisfied: pandas>=1.3.6 in c:\\users\\user\\anaconda3\\lib\\site-packages (from lightkurve) (2.3.2)\n",
            "Requirement already satisfied: patsy>=0.5.0 in c:\\users\\user\\anaconda3\\lib\\site-packages (from lightkurve) (1.0.1)\n",
            "Requirement already satisfied: requests>=2.22.0 in c:\\users\\user\\anaconda3\\lib\\site-packages (from lightkurve) (2.32.3)\n",
            "Requirement already satisfied: s3fs>=2024.6.1 in c:\\users\\user\\anaconda3\\lib\\site-packages (from lightkurve) (2025.3.2)\n",
            "Requirement already satisfied: scikit-learn>=0.24.0 in c:\\users\\user\\appdata\\roaming\\python\\python313\\site-packages (from lightkurve) (1.7.2)\n",
            "Requirement already satisfied: scipy>=1.7 in c:\\users\\user\\anaconda3\\lib\\site-packages (from lightkurve) (1.15.3)\n",
            "Requirement already satisfied: tqdm>=4.25.0 in c:\\users\\user\\anaconda3\\lib\\site-packages (from lightkurve) (4.67.1)\n",
            "Requirement already satisfied: uncertainties>=3.1.4 in c:\\users\\user\\anaconda3\\lib\\site-packages (from lightkurve) (3.2.3)\n",
            "Requirement already satisfied: urllib3>=1.23 in c:\\users\\user\\anaconda3\\lib\\site-packages (from lightkurve) (1.26.20)\n",
            "Requirement already satisfied: pyerfa>=2.0.1.1 in c:\\users\\user\\anaconda3\\lib\\site-packages (from astropy>=5.0->lightkurve) (2.0.1.5)\n",
            "Requirement already satisfied: astropy-iers-data>=0.2024.10.28.0.34.7 in c:\\users\\user\\anaconda3\\lib\\site-packages (from astropy>=5.0->lightkurve) (0.2025.1.13.0.34.51)\n",
            "Requirement already satisfied: PyYAML>=6.0.0 in c:\\users\\user\\anaconda3\\lib\\site-packages (from astropy>=5.0->lightkurve) (6.0.2)\n",
            "Requirement already satisfied: packaging>=22.0.0 in c:\\users\\user\\anaconda3\\lib\\site-packages (from astropy>=5.0->lightkurve) (24.2)\n",
            "Requirement already satisfied: html5lib>=0.999 in c:\\users\\user\\anaconda3\\lib\\site-packages (from astroquery>=0.3.10->lightkurve) (1.1)\n",
            "Requirement already satisfied: keyring>=15.0 in c:\\users\\user\\anaconda3\\lib\\site-packages (from astroquery>=0.3.10->lightkurve) (25.6.0)\n",
            "Requirement already satisfied: pyvo>=1.5 in c:\\users\\user\\anaconda3\\lib\\site-packages (from astroquery>=0.3.10->lightkurve) (1.7)\n",
            "Requirement already satisfied: soupsieve>1.2 in c:\\users\\user\\anaconda3\\lib\\site-packages (from beautifulsoup4>=4.6.0->lightkurve) (2.5)\n",
            "Requirement already satisfied: typing-extensions>=4.0.0 in c:\\users\\user\\anaconda3\\lib\\site-packages (from beautifulsoup4>=4.6.0->lightkurve) (4.12.2)\n",
            "Requirement already satisfied: Jinja2>=2.9 in c:\\users\\user\\anaconda3\\lib\\site-packages (from bokeh>=2.3.2->lightkurve) (3.1.6)\n",
            "Requirement already satisfied: contourpy>=1.2 in c:\\users\\user\\anaconda3\\lib\\site-packages (from bokeh>=2.3.2->lightkurve) (1.3.1)\n",
            "Requirement already satisfied: pillow>=7.1.0 in c:\\users\\user\\anaconda3\\lib\\site-packages (from bokeh>=2.3.2->lightkurve) (11.1.0)\n",
            "Requirement already satisfied: tornado>=6.2 in c:\\users\\user\\anaconda3\\lib\\site-packages (from bokeh>=2.3.2->lightkurve) (6.5.1)\n",
            "Requirement already satisfied: xyzservices>=2021.09.1 in c:\\users\\user\\anaconda3\\lib\\site-packages (from bokeh>=2.3.2->lightkurve) (2022.9.0)\n",
            "Requirement already satisfied: six>=1.9 in c:\\users\\user\\anaconda3\\lib\\site-packages (from html5lib>=0.999->astroquery>=0.3.10->lightkurve) (1.17.0)\n",
            "Requirement already satisfied: webencodings in c:\\users\\user\\anaconda3\\lib\\site-packages (from html5lib>=0.999->astroquery>=0.3.10->lightkurve) (0.5.1)\n",
            "Requirement already satisfied: MarkupSafe>=2.0 in c:\\users\\user\\anaconda3\\lib\\site-packages (from Jinja2>=2.9->bokeh>=2.3.2->lightkurve) (3.0.2)\n",
            "Requirement already satisfied: pywin32-ctypes>=0.2.0 in c:\\users\\user\\anaconda3\\lib\\site-packages (from keyring>=15.0->astroquery>=0.3.10->lightkurve) (0.2.2)\n",
            "Requirement already satisfied: jaraco.classes in c:\\users\\user\\anaconda3\\lib\\site-packages (from keyring>=15.0->astroquery>=0.3.10->lightkurve) (3.2.1)\n",
            "Requirement already satisfied: jaraco.functools in c:\\users\\user\\anaconda3\\lib\\site-packages (from keyring>=15.0->astroquery>=0.3.10->lightkurve) (4.1.0)\n",
            "Requirement already satisfied: jaraco.context in c:\\users\\user\\anaconda3\\lib\\site-packages (from keyring>=15.0->astroquery>=0.3.10->lightkurve) (0.0.0)\n",
            "Requirement already satisfied: cycler>=0.10 in c:\\users\\user\\anaconda3\\lib\\site-packages (from matplotlib>=3.1->lightkurve) (0.11.0)\n",
            "Requirement already satisfied: fonttools>=4.22.0 in c:\\users\\user\\anaconda3\\lib\\site-packages (from matplotlib>=3.1->lightkurve) (4.55.3)\n",
            "Requirement already satisfied: kiwisolver>=1.3.1 in c:\\users\\user\\anaconda3\\lib\\site-packages (from matplotlib>=3.1->lightkurve) (1.4.8)\n",
            "Requirement already satisfied: pyparsing>=2.3.1 in c:\\users\\user\\anaconda3\\lib\\site-packages (from matplotlib>=3.1->lightkurve) (3.2.0)\n",
            "Requirement already satisfied: python-dateutil>=2.7 in c:\\users\\user\\anaconda3\\lib\\site-packages (from matplotlib>=3.1->lightkurve) (2.9.0.post0)\n",
            "Requirement already satisfied: pytz>=2020.1 in c:\\users\\user\\anaconda3\\lib\\site-packages (from pandas>=1.3.6->lightkurve) (2024.1)\n",
            "Requirement already satisfied: tzdata>=2022.7 in c:\\users\\user\\anaconda3\\lib\\site-packages (from pandas>=1.3.6->lightkurve) (2025.2)\n",
            "Requirement already satisfied: charset-normalizer<4,>=2 in c:\\users\\user\\anaconda3\\lib\\site-packages (from requests>=2.22.0->lightkurve) (3.4.3)\n",
            "Requirement already satisfied: idna<4,>=2.5 in c:\\users\\user\\anaconda3\\lib\\site-packages (from requests>=2.22.0->lightkurve) (3.7)\n",
            "Requirement already satisfied: certifi>=2017.4.17 in c:\\users\\user\\anaconda3\\lib\\site-packages (from requests>=2.22.0->lightkurve) (2025.7.14)\n",
            "Requirement already satisfied: aiobotocore<3.0.0,>=2.5.4 in c:\\users\\user\\anaconda3\\lib\\site-packages (from s3fs>=2024.6.1->lightkurve) (2.19.0)\n",
            "Requirement already satisfied: fsspec==2025.3.2.* in c:\\users\\user\\anaconda3\\lib\\site-packages (from s3fs>=2024.6.1->lightkurve) (2025.3.2)\n",
            "Requirement already satisfied: aiohttp!=4.0.0a0,!=4.0.0a1 in c:\\users\\user\\anaconda3\\lib\\site-packages (from s3fs>=2024.6.1->lightkurve) (3.11.10)\n",
            "Requirement already satisfied: aioitertools<1.0.0,>=0.5.1 in c:\\users\\user\\anaconda3\\lib\\site-packages (from aiobotocore<3.0.0,>=2.5.4->s3fs>=2024.6.1->lightkurve) (0.7.1)\n",
            "Requirement already satisfied: botocore<1.36.4,>=1.36.0 in c:\\users\\user\\anaconda3\\lib\\site-packages (from aiobotocore<3.0.0,>=2.5.4->s3fs>=2024.6.1->lightkurve) (1.36.3)\n",
            "Requirement already satisfied: jmespath<2.0.0,>=0.7.1 in c:\\users\\user\\anaconda3\\lib\\site-packages (from aiobotocore<3.0.0,>=2.5.4->s3fs>=2024.6.1->lightkurve) (1.0.1)\n",
            "Requirement already satisfied: multidict<7.0.0,>=6.0.0 in c:\\users\\user\\anaconda3\\lib\\site-packages (from aiobotocore<3.0.0,>=2.5.4->s3fs>=2024.6.1->lightkurve) (6.1.0)\n",
            "Requirement already satisfied: wrapt<2.0.0,>=1.10.10 in c:\\users\\user\\anaconda3\\lib\\site-packages (from aiobotocore<3.0.0,>=2.5.4->s3fs>=2024.6.1->lightkurve) (1.17.0)\n",
            "Requirement already satisfied: aiohappyeyeballs>=2.3.0 in c:\\users\\user\\anaconda3\\lib\\site-packages (from aiohttp!=4.0.0a0,!=4.0.0a1->s3fs>=2024.6.1->lightkurve) (2.4.4)\n",
            "Requirement already satisfied: aiosignal>=1.1.2 in c:\\users\\user\\anaconda3\\lib\\site-packages (from aiohttp!=4.0.0a0,!=4.0.0a1->s3fs>=2024.6.1->lightkurve) (1.2.0)\n",
            "Requirement already satisfied: attrs>=17.3.0 in c:\\users\\user\\anaconda3\\lib\\site-packages (from aiohttp!=4.0.0a0,!=4.0.0a1->s3fs>=2024.6.1->lightkurve) (24.3.0)\n",
            "Requirement already satisfied: frozenlist>=1.1.1 in c:\\users\\user\\anaconda3\\lib\\site-packages (from aiohttp!=4.0.0a0,!=4.0.0a1->s3fs>=2024.6.1->lightkurve) (1.5.0)\n",
            "Requirement already satisfied: propcache>=0.2.0 in c:\\users\\user\\anaconda3\\lib\\site-packages (from aiohttp!=4.0.0a0,!=4.0.0a1->s3fs>=2024.6.1->lightkurve) (0.3.1)\n",
            "Requirement already satisfied: yarl<2.0,>=1.17.0 in c:\\users\\user\\anaconda3\\lib\\site-packages (from aiohttp!=4.0.0a0,!=4.0.0a1->s3fs>=2024.6.1->lightkurve) (1.18.0)\n",
            "Requirement already satisfied: joblib>=1.2.0 in c:\\users\\user\\anaconda3\\lib\\site-packages (from scikit-learn>=0.24.0->lightkurve) (1.4.2)\n",
            "Requirement already satisfied: threadpoolctl>=3.1.0 in c:\\users\\user\\anaconda3\\lib\\site-packages (from scikit-learn>=0.24.0->lightkurve) (3.5.0)\n",
            "Requirement already satisfied: colorama in c:\\users\\user\\anaconda3\\lib\\site-packages (from tqdm>=4.25.0->lightkurve) (0.4.6)\n",
            "Requirement already satisfied: more-itertools in c:\\users\\user\\anaconda3\\lib\\site-packages (from jaraco.classes->keyring>=15.0->astroquery>=0.3.10->lightkurve) (10.3.0)\n",
            "Note: you may need to restart the kernel to use updated packages.\n"
          ]
        },
        {
          "name": "stderr",
          "output_type": "stream",
          "text": [
            "WARNING: Ignoring invalid distribution ~harset-normalizer (c:\\Users\\USER\\anaconda3\\Lib\\site-packages)\n",
            "WARNING: Ignoring invalid distribution ~harset-normalizer (c:\\Users\\USER\\anaconda3\\Lib\\site-packages)\n",
            "WARNING: Ignoring invalid distribution ~harset-normalizer (c:\\Users\\USER\\anaconda3\\Lib\\site-packages)\n"
          ]
        }
      ],
      "source": [
        "%pip install lightkurve"
      ]
    },
    {
      "cell_type": "markdown",
      "id": "e01c806e",
      "metadata": {
        "id": "e01c806e"
      },
      "source": [
        "##### Understanding Data"
      ]
    },
    {
      "cell_type": "code",
      "execution_count": null,
      "id": "2fb10fc8",
      "metadata": {
        "id": "2fb10fc8",
        "outputId": "496c2ddf-41e6-4c4c-8d50-e0fa34d08bce"
      },
      "outputs": [
        {
          "name": "stderr",
          "output_type": "stream",
          "text": [
            "c:\\Users\\USER\\anaconda3\\Lib\\site-packages\\lightkurve\\prf\\__init__.py:7: UserWarning: Warning: the tpfmodel submodule is not available without oktopus installed, which requires a current version of autograd. See #1452 for details.\n",
            "  warnings.warn(\n"
          ]
        }
      ],
      "source": [
        "# Light curves - dependencies for MAST Light Curves\n",
        "import pandas as pd\n",
        "import lightkurve as lk"
      ]
    },
    {
      "cell_type": "code",
      "execution_count": null,
      "id": "ac423dd6",
      "metadata": {
        "id": "ac423dd6"
      },
      "outputs": [],
      "source": [
        "# Import and parse the tid column\n",
        "df = pd.read_csv('TOI_2025_wrangled_scaled.csv', header=0)\n",
        "tids = df['tid'].dropna().astype(int).unique()"
      ]
    },
    {
      "cell_type": "code",
      "execution_count": null,
      "id": "3d4c343c",
      "metadata": {
        "id": "3d4c343c",
        "outputId": "008c42fb-7eb6-4256-fd41-970638d39ae0"
      },
      "outputs": [
        {
          "name": "stdout",
          "output_type": "stream",
          "text": [
            "Searching TIC 50365310...\n",
            "Downloaded TIC 50365310, length: 121694\n",
            "Searching TIC 88863718...\n",
            "Downloaded TIC 88863718, length: 372825\n",
            "Searching TIC 124709665...\n",
            "Downloaded TIC 124709665, length: 121953\n",
            "Searching TIC 106997505...\n",
            "Downloaded TIC 106997505, length: 17329\n",
            "Searching TIC 238597883...\n",
            "Downloaded TIC 238597883, length: 121711\n",
            "Searching TIC 169904935...\n",
            "Downloaded TIC 169904935, length: 121681\n",
            "Searching TIC 156115721...\n",
            "Downloaded TIC 156115721, length: 121643\n",
            "Searching TIC 65212867...\n",
            "Downloaded TIC 65212867, length: 120919\n",
            "Searching TIC 440801822...\n",
            "Downloaded TIC 440801822, length: 173132\n",
            "Searching TIC 107782586...\n",
            "Downloaded TIC 107782586, length: 514043\n"
          ]
        }
      ],
      "source": [
        "lightcurves = {}\n",
        "\n",
        "for tid in tids[:10]:\n",
        "    try:\n",
        "        print(f\"Searching TIC {tid}...\")\n",
        "        search_result = lk.search_lightcurve(f\"TIC {tid}\", mission=\"TESS\", author=\"SPOC\")\n",
        "\n",
        "        if len(search_result) == 0:\n",
        "            print(f\"No light curve found for TIC {tid}\")\n",
        "            continue\n",
        "\n",
        "        # Download and filter quality before stitching\n",
        "        lc_collection = search_result.download_all()\n",
        "        for lc in lc_collection:\n",
        "            lc = lc[lc.quality == 0]  # Keep only good quality data\n",
        "        lc = lc_collection.stitch()  # Stitch filtered curves\n",
        "        lightcurves[tid] = lc\n",
        "\n",
        "        print(f\"Downloaded TIC {tid}, length: {len(lc.flux)}\")\n",
        "\n",
        "    except Exception as e:\n",
        "        print(f\"Error with TIC {tid}: {e}\")"
      ]
    },
    {
      "cell_type": "code",
      "execution_count": null,
      "id": "e05841b5",
      "metadata": {
        "id": "e05841b5",
        "outputId": "1f438c03-8ea8-414d-bc21-5842a923b90d"
      },
      "outputs": [
        {
          "data": {
            "text/plain": [
              "{np.int64(50365310): <TessLightCurve length=121694 LABEL=\"TIC 50365310\" SECTOR=34 AUTHOR=SPOC FLUX_ORIGIN=pdcsap_flux>\n",
              "        time             flux      ...   pos_corr1      pos_corr2   \n",
              "                                   ...      pix            pix      \n",
              "        Time           float32     ...    float32        float32    \n",
              " ------------------ -------------- ... -------------- --------------\n",
              " 2228.7552925312602            ——— ... -1.8168574e-03  7.6097287e-02\n",
              "  2228.755524014501            ——— ... -9.1880206e-03  6.5594152e-02\n",
              " 2228.7557554972773            ——— ...  9.3199303e-03  4.6777599e-02\n",
              "  2228.755986980519            ——— ...  1.7408178e-03  3.4673970e-02\n",
              "   2228.75621846376            ——— ... -1.3915600e-02  8.0682434e-02\n",
              "  2228.756449946536            ——— ...  9.5078936e-03  3.3296466e-02\n",
              "  2228.756681429778            ——— ... -8.3514787e-03  8.4124021e-02\n",
              " 2228.7569129130193            ——— ...  7.1365661e-03  4.5930989e-02\n",
              "  2228.757144395795            ——— ... -1.2440769e-02  5.5915903e-02\n",
              "                ...            ... ...            ...            ...\n",
              "  2254.058050794649  1.0001233e+00 ...  6.0372584e-02 -1.1322778e-01\n",
              " 2254.0594396302968  1.0001179e+00 ...  6.7914031e-02 -9.4601721e-02\n",
              "  2254.060828465478  1.0009776e+00 ...  6.5946944e-02 -1.0464729e-01\n",
              "  2254.062217301125  1.0010052e+00 ...  5.2951392e-02 -1.1900053e-01\n",
              " 2254.0636061367723  1.0001478e+00 ...  6.7322120e-02 -9.8022595e-02\n",
              " 2254.0649949724198  9.9889457e-01 ...  6.0379751e-02 -1.0619748e-01\n",
              " 2254.0663838076016  9.9884522e-01 ...  6.4307638e-02 -1.0311214e-01\n",
              " 2254.0677726432486  1.0011475e+00 ...  6.3718550e-02 -9.5165394e-02\n",
              "  2254.069161478896  9.9977702e-01 ...  7.1093976e-02 -1.0496107e-01,\n",
              " np.int64(88863718): <TessLightCurve length=372825 LABEL=\"TIC 88863718\" SECTOR=88 AUTHOR=SPOC FLUX_ORIGIN=pdcsap_flux>\n",
              "        time             flux      ...   pos_corr1      pos_corr2   \n",
              "                                   ...      pix            pix      \n",
              "        Time           float32     ...    float32        float32    \n",
              " ------------------ -------------- ... -------------- --------------\n",
              "  2228.757466156099            ——— ...            ———            ———\n",
              " 2228.7576976426003            ——— ...            ———            ———\n",
              " 2228.7623273698323            ——— ...            ———            ———\n",
              "  2228.762558856333            ——— ...            ———            ———\n",
              " 2228.7627903428347            ——— ...            ———            ———\n",
              "   2228.76302182887            ——— ...            ———            ———\n",
              "  2228.763253315371            ——— ...            ———            ———\n",
              " 2228.7634848018733            ——— ...            ———            ———\n",
              " 2228.7637162879096            ——— ...            ———            ———\n",
              "                ...            ... ...            ...            ...\n",
              " 3717.2186132506763            ——— ... -1.5611840e-02  3.6168624e-02\n",
              " 3717.2200021054073            ——— ...  6.7905672e-03  5.5732515e-02\n",
              " 3717.2213909601373            ——— ... -1.2348335e-02  4.0112667e-02\n",
              "  3717.226946378594            ——— ... -1.6578572e-02  2.7703123e-02\n",
              " 3717.2283352333247            ——— ... -1.7992419e-03  5.4995302e-02\n",
              "  3717.229724087591            ——— ... -4.0361942e-03  4.1545410e-02\n",
              " 3717.2311129423215            ——— ...  1.5466658e-03  5.5188619e-02\n",
              " 3717.2325017970516            ——— ... -5.5202162e-03  4.2667881e-02\n",
              "  3717.233890651782            ——— ... -3.2567938e-03  5.0089754e-02,\n",
              " np.int64(124709665): <TessLightCurve length=121953 LABEL=\"TIC 124709665\" SECTOR=33 AUTHOR=SPOC FLUX_ORIGIN=pdcsap_flux>\n",
              "        time             flux      ...   pos_corr1      pos_corr2   \n",
              "                                   ...      pix            pix      \n",
              "        Time           float32     ...    float32        float32    \n",
              " ------------------ -------------- ... -------------- --------------\n",
              "  2201.736763504536  1.0005897e+00 ...  7.2911149e-03  6.6277280e-02\n",
              " 2201.7369949938306  1.0016600e+00 ...  3.2925092e-02  5.1026840e-02\n",
              " 2201.7372264835903  9.9938399e-01 ...  1.3066759e-02  7.6986998e-02\n",
              " 2201.7374579728844  9.9910498e-01 ... -1.8425234e-02  5.3371541e-02\n",
              "  2201.737689462179  9.9846232e-01 ...  2.3085484e-02  4.7299664e-02\n",
              "  2201.737920951939  9.9795270e-01 ... -2.8845857e-04  7.8285851e-02\n",
              "  2201.738152441233  9.9727041e-01 ... -9.2249084e-04  8.7113544e-02\n",
              " 2201.7386154202873  9.9879265e-01 ...  3.5108786e-02  7.3875017e-02\n",
              " 2201.7388469095818  9.9950457e-01 ...  1.9555376e-03  9.8709971e-02\n",
              "                ...            ... ...            ...            ...\n",
              " 2227.5653990205624  9.9922073e-01 ... -2.7055116e-04 -6.0463332e-02\n",
              "  2227.566787889739  1.0000315e+00 ...  3.3156746e-03 -6.0042914e-02\n",
              "  2227.568176759381  1.0005484e+00 ...  6.3530123e-03 -5.5050697e-02\n",
              " 2227.5695656285566  1.0000626e+00 ... -2.6130618e-03 -5.7727300e-02\n",
              " 2227.5709544977335  1.0002166e+00 ... -1.0840709e-03 -5.9487466e-02\n",
              " 2227.5723433669104  9.9987781e-01 ...  8.0278497e-03 -5.0765526e-02\n",
              "  2227.573732236087  9.9943930e-01 ... -2.0475485e-03 -6.6768624e-02\n",
              "  2227.575121105264  9.9934810e-01 ...  2.7587099e-04 -5.6263581e-02\n",
              "  2227.576509974441  1.0001050e+00 ...  3.5836168e-03 -5.6196995e-02,\n",
              " np.int64(106997505): <TessLightCurve length=17329 LABEL=\"TIC 106997505\" SECTOR=34 AUTHOR=SPOC FLUX_ORIGIN=pdcsap_flux>\n",
              "        time             flux      ...   pos_corr1      pos_corr2   \n",
              "                                   ...      pix            pix      \n",
              "        Time           float32     ...    float32        float32    \n",
              " ------------------ -------------- ... -------------- --------------\n",
              "  2228.771488597632            ——— ...  1.3668847e-02 -7.5265118e-03\n",
              " 2228.7728774975476            ——— ...  1.3869689e-02 -4.0987241e-03\n",
              " 2228.7742663969975            ——— ...  1.5634743e-02 -4.5691766e-03\n",
              "  2228.775655296913            ——— ...  1.2473982e-02 -6.2342677e-03\n",
              "  2228.777044196362            ——— ...  1.5156574e-02 -6.3922349e-03\n",
              "  2228.778433096278            ——— ...  1.7149448e-02 -6.0381475e-03\n",
              " 2228.7798219961946            ——— ...  1.5832396e-02 -2.3530514e-03\n",
              "  2228.781210895645            ——— ...  1.4979205e-02 -4.1170362e-03\n",
              " 2228.7825997955606            ——— ...  1.5734728e-02 -7.6347296e-03\n",
              "                ...            ... ...            ...            ...\n",
              "  2254.057322920745  1.0009981e+00 ... -4.6058688e-02  8.2655683e-02\n",
              " 2254.0587117661717  9.9921203e-01 ... -5.4252651e-02  6.3258529e-02\n",
              " 2254.0601006118304  1.0005670e+00 ... -5.2229356e-02  7.1848579e-02\n",
              " 2254.0614894572564  9.9857789e-01 ... -3.9534003e-02  8.7220356e-02\n",
              "  2254.062878302915  9.9933535e-01 ... -5.2509975e-02  6.7616872e-02\n",
              " 2254.0642671483415  1.0000377e+00 ... -4.6710528e-02  7.5327158e-02\n",
              " 2254.0656559940007  1.0001589e+00 ... -5.0207015e-02  7.2040573e-02\n",
              " 2254.0670448394267  9.9962103e-01 ... -4.8396453e-02  6.4270705e-02\n",
              "  2254.068433685086  9.9977243e-01 ... -5.8344346e-02  7.2796203e-02,\n",
              " np.int64(238597883): <TessLightCurve length=121711 LABEL=\"TIC 238597883\" SECTOR=34 AUTHOR=SPOC FLUX_ORIGIN=pdcsap_flux>\n",
              "        time             flux      ...   pos_corr1      pos_corr2   \n",
              "                                   ...      pix            pix      \n",
              "        Time           float32     ...    float32        float32    \n",
              " ------------------ -------------- ... -------------- --------------\n",
              " 2228.7522433500167            ——— ... -4.3937381e-02  5.9317794e-02\n",
              "   2228.75247483745            ——— ... -4.1102968e-02  4.2766102e-02\n",
              " 2228.7527063247653            ——— ... -2.8709825e-02  4.9850851e-02\n",
              " 2228.7529378120817            ——— ... -3.8711447e-02  7.7028230e-02\n",
              "  2228.753169299398            ——— ... -2.4193415e-02  8.3681241e-02\n",
              " 2228.7534007867134            ——— ... -2.8122557e-02  3.9013099e-02\n",
              " 2228.7536322740298            ——— ... -2.7113061e-02  9.5047921e-02\n",
              "  2228.753863761346            ——— ... -3.6300745e-02  3.0437501e-02\n",
              " 2228.7540952487784            ——— ... -3.7405338e-02  7.6212741e-02\n",
              "                ...            ... ...            ...            ...\n",
              " 2254.0559857395147  1.0000426e+00 ... -1.1771593e-02  2.9435327e-02\n",
              "  2254.057374632206  9.9979359e-01 ... -1.7932240e-02  1.2262325e-02\n",
              " 2254.0587635248967  9.9953711e-01 ... -1.8818447e-02  1.8300598e-02\n",
              " 2254.0601524175872  9.9905777e-01 ... -7.7326098e-03  3.4131926e-02\n",
              "  2254.061541310278  9.9970341e-01 ... -1.6647484e-02  1.5109151e-02\n",
              "  2254.062930202969  1.0006754e+00 ... -1.4615757e-02  2.1535695e-02\n",
              "   2254.06431909566  1.0009614e+00 ... -1.8212821e-02  2.2209084e-02\n",
              " 2254.0657079883504  9.9955523e-01 ... -1.0435204e-02  1.3649528e-02\n",
              " 2254.0670968810414  9.9993819e-01 ... -2.4808399e-02  2.1238465e-02,\n",
              " np.int64(169904935): <TessLightCurve length=121681 LABEL=\"TIC 169904935\" SECTOR=34 AUTHOR=SPOC FLUX_ORIGIN=pdcsap_flux>\n",
              "        time             flux      ...   pos_corr1      pos_corr2   \n",
              "                                   ...      pix            pix      \n",
              "        Time           float32     ...    float32        float32    \n",
              " ------------------ -------------- ... -------------- --------------\n",
              "  2228.755373812438            ——— ...  1.9688750e-02  8.0410510e-02\n",
              "  2228.755605298473            ——— ...  1.3506956e-02  6.8460800e-02\n",
              " 2228.7558367845086            ——— ...  3.1314772e-02  4.9652684e-02\n",
              " 2228.7560682705443            ——— ...  2.4459314e-02  3.7004672e-02\n",
              "  2228.756299756579            ——— ...  7.9427697e-03  8.3435915e-02\n",
              "  2228.756531242615            ——— ...  3.3918578e-02  3.3763569e-02\n",
              " 2228.7567627286508            ——— ...  1.1380144e-02  8.8455930e-02\n",
              "  2228.756994214686            ——— ...  3.0569866e-02  4.8785876e-02\n",
              " 2228.7572257002557            ——— ...  8.7395143e-03  5.8253031e-02\n",
              "                ...            ... ...            ...            ...\n",
              " 2254.0584623805535  1.0002753e+00 ...  3.8554218e-02 -1.2511367e-01\n",
              "  2254.059851232034  9.9978942e-01 ...  4.5367129e-02 -1.0678673e-01\n",
              " 2254.0612400835134  9.9949515e-01 ...  4.2358644e-02 -1.1631064e-01\n",
              " 2254.0626289354586  9.9878520e-01 ...  3.0028988e-02 -1.3040787e-01\n",
              "  2254.064017786938  9.9962097e-01 ...  4.5102574e-02 -1.1054145e-01\n",
              "  2254.065406638884  9.9974167e-01 ...  3.8260482e-02 -1.1861891e-01\n",
              "  2254.066795490364  9.9939567e-01 ...  4.3213736e-02 -1.1496215e-01\n",
              " 2254.0681843418433  1.0002708e+00 ...  4.1597832e-02 -1.0795734e-01\n",
              "  2254.069573193789  9.9988633e-01 ...  4.8338301e-02 -1.1691670e-01,\n",
              " np.int64(156115721): <TessLightCurve length=121643 LABEL=\"TIC 156115721\" SECTOR=34 AUTHOR=SPOC FLUX_ORIGIN=pdcsap_flux>\n",
              "        time             flux      ...   pos_corr1      pos_corr2   \n",
              "                                   ...      pix            pix      \n",
              "        Time           float32     ...    float32        float32    \n",
              " ------------------ -------------- ... -------------- --------------\n",
              "  2228.754295737312            ——— ... -3.9520234e-02 -4.6516225e-02\n",
              " 2228.7545272252096            ——— ... -2.8317960e-02 -3.1523343e-02\n",
              "  2228.754758713108            ——— ... -4.5283515e-02 -1.3800268e-02\n",
              " 2228.7549902010064            ——— ... -3.4571685e-02 -1.8047709e-04\n",
              "  2228.755221688904            ——— ... -2.5280965e-02 -4.7055960e-02\n",
              " 2228.7554531768023            ——— ... -4.2214185e-02  4.5073661e-03\n",
              " 2228.7556846647008            ——— ... -3.3268441e-02 -5.3554211e-02\n",
              " 2228.7559161525987            ——— ... -4.2955030e-02 -1.2918996e-02\n",
              " 2228.7561476404967            ——— ... -2.3671033e-02 -2.1635182e-02\n",
              "                ...            ... ...            ...            ...\n",
              " 2254.0576960603044  9.9908072e-01 ... -2.6039882e-02  8.4455103e-02\n",
              "  2254.059084935068  9.9902046e-01 ... -3.3763714e-02  6.7239776e-02\n",
              " 2254.0604738098305  9.9993640e-01 ... -3.1810425e-02  7.5970680e-02\n",
              "  2254.061862684593  9.9859697e-01 ... -1.9375606e-02  8.9421600e-02\n",
              "   2254.06325155889  1.0007906e+00 ... -3.2066245e-02  7.0979737e-02\n",
              "  2254.064640433653  9.9806565e-01 ... -2.6775282e-02  7.7576809e-02\n",
              "  2254.066029308416  1.0008577e+00 ... -3.0806769e-02  7.4838616e-02\n",
              "  2254.067418182713  1.0010762e+00 ... -2.7791893e-02  7.0128739e-02\n",
              "  2254.068807057476  1.0001231e+00 ... -3.8405094e-02  7.6272033e-02,\n",
              " np.int64(65212867): <TessLightCurve length=120919 LABEL=\"TIC 65212867\" SECTOR=34 AUTHOR=SPOC FLUX_ORIGIN=pdcsap_flux>\n",
              "        time             flux      ...   pos_corr1      pos_corr2   \n",
              "                                   ...      pix            pix      \n",
              "        Time           float32     ...    float32        float32    \n",
              " ------------------ -------------- ... -------------- --------------\n",
              "  2228.757537561532            ——— ...            ———            ———\n",
              "  2228.757769044308            ——— ...            ———            ———\n",
              " 2228.7623986979656            ——— ...            ———            ———\n",
              "  2228.762630180741            ——— ...            ———            ———\n",
              " 2228.7628616635175            ——— ...            ———            ———\n",
              "  2228.763093146293            ——— ...            ———            ———\n",
              "  2228.763324629069            ——— ...            ———            ———\n",
              " 2228.7635561113802            ——— ...            ———            ———\n",
              "  2228.763787594157            ——— ...            ———            ———\n",
              "                ...            ... ...            ...            ...\n",
              " 2254.0583650773638  9.9989712e-01 ... -4.4704698e-02  1.4555153e-01\n",
              "  2254.059753906027  9.9918926e-01 ... -5.3691503e-02  1.2428303e-01\n",
              " 2254.0611427351546  9.9980414e-01 ... -5.8331303e-02  1.2701349e-01\n",
              " 2254.0625315638167  9.9889189e-01 ... -3.3520341e-02  1.5351814e-01\n",
              " 2254.0639203929445  1.0002857e+00 ... -5.4625187e-02  1.2927632e-01\n",
              "  2254.065309221607  9.9970317e-01 ... -5.0492372e-02  1.3365002e-01\n",
              " 2254.0666980502697  1.0008715e+00 ... -5.0432965e-02  1.3974635e-01\n",
              " 2254.0680868793975  1.0006170e+00 ... -5.0968729e-02  1.2413304e-01\n",
              "   2254.06947570806  9.9978393e-01 ... -5.9450991e-02  1.3470729e-01,\n",
              " np.int64(440801822): <TessLightCurve length=173132 LABEL=\"TIC 440801822\" SECTOR=46 AUTHOR=SPOC FLUX_ORIGIN=pdcsap_flux>\n",
              "        time             flux      ...   pos_corr1      pos_corr2   \n",
              "                                   ...      pix            pix      \n",
              "        Time           float32     ...    float32        float32    \n",
              " ------------------ -------------- ... -------------- --------------\n",
              " 2201.7374925952095  1.0005726e+00 ...  5.5475451e-02  1.8846534e-01\n",
              " 2201.7377240868323  1.0005215e+00 ...  8.4339797e-02  1.6219346e-01\n",
              "  2201.737955577989  9.9923521e-01 ...  5.5693224e-02  1.9478583e-01\n",
              " 2201.7381870691456  1.0029844e+00 ...  2.7373660e-02  1.6326617e-01\n",
              " 2201.7384185603028  1.0013628e+00 ...  8.6914316e-02  1.5895332e-01\n",
              "   2201.73865005146  1.0001218e+00 ...  4.1029800e-02  1.8677506e-01\n",
              " 2201.7388815426166  9.9990875e-01 ...  3.6749952e-02  1.8859895e-01\n",
              " 2201.7393445249304  1.0009284e+00 ...  7.7536665e-02  1.8868396e-01\n",
              " 2201.7395760160875  1.0010762e+00 ...  4.4629388e-02  2.1080144e-01\n",
              "                ...            ... ...            ...            ...\n",
              "  2578.695164816699  1.0002558e+00 ...  4.4565830e-02 -1.2795787e-01\n",
              "   2578.69655372266  1.0010607e+00 ...  3.9375428e-02 -1.2851849e-01\n",
              " 2578.6979426286216  1.0001292e+00 ...  4.1087478e-02 -1.2485298e-01\n",
              " 2578.6993315345817  9.9829590e-01 ...  2.8575441e-02 -1.3776623e-01\n",
              " 2578.7007204410083  1.0000834e+00 ...  4.2647768e-02 -1.2535422e-01\n",
              " 2578.7021093469693  9.9962258e-01 ...  4.8303675e-02 -1.2097190e-01\n",
              "   2578.70349825293  9.9898612e-01 ...  4.4723626e-02 -1.2503584e-01\n",
              "  2578.704887159357  1.0008026e+00 ...  4.2265523e-02 -1.1633685e-01\n",
              "  2578.706276065319  1.0002667e+00 ...  4.2817518e-02 -1.3405803e-01,\n",
              " np.int64(107782586): <TessLightCurve length=514043 LABEL=\"TIC 107782586\" SECTOR=88 AUTHOR=SPOC FLUX_ORIGIN=pdcsap_flux>\n",
              "        time             flux      ...   pos_corr1      pos_corr2   \n",
              "                                   ...      pix            pix      \n",
              "        Time           float32     ...    float32        float32    \n",
              " ------------------ -------------- ... -------------- --------------\n",
              " 2228.7556936537894            ——— ... -1.6174071e-02 -1.1207849e-02\n",
              "  2228.755925137497            ——— ... -6.2747751e-03 -6.1712302e-02\n",
              "  2228.756156621204            ——— ... -1.5868459e-02 -2.4057414e-02\n",
              "  2228.756388104911            ——— ...  3.4032981e-03 -3.2020476e-02\n",
              " 2228.7566195881527            ——— ... -1.9061141e-02 -4.8626672e-02\n",
              "   2228.75685107186            ——— ...  7.8996150e-03 -5.3758821e-03\n",
              " 2228.7570825555667            ——— ... -5.6034485e-03 -4.2244717e-02\n",
              " 2228.7573140392747            ——— ... -1.1036684e-02 -1.3322599e-02\n",
              "  2228.757545522517            ——— ... -6.4822920e-03 -2.6410073e-02\n",
              "                ...            ... ...            ...            ...\n",
              "  3717.910342827793  9.9934804e-01 ... -3.5258643e-02 -3.6476234e-03\n",
              "  3717.911731673443  9.9903530e-01 ... -3.4956768e-02 -1.4305376e-02\n",
              " 3717.9131205190934  1.0000341e+00 ... -2.8798476e-02 -1.1095156e-02\n",
              "  3717.914509364744  9.9965668e-01 ... -3.9296355e-02 -1.3111826e-02\n",
              " 3717.9158982103936  9.9979967e-01 ... -3.3509545e-02 -1.7363548e-03\n",
              "  3717.917287056044  9.9975443e-01 ... -3.7619241e-02 -1.2979571e-02\n",
              " 3717.9200647473454  9.9975616e-01 ... -3.2012574e-02 -9.5143775e-03\n",
              "  3717.925620129946  1.0007975e+00 ... -3.2592401e-02 -9.6887834e-03\n",
              " 3717.9270089755964  9.9952406e-01 ... -4.2170200e-02 -2.2479070e-02}"
            ]
          },
          "execution_count": 6,
          "metadata": {},
          "output_type": "execute_result"
        }
      ],
      "source": [
        "lightcurves"
      ]
    },
    {
      "cell_type": "code",
      "execution_count": null,
      "id": "32e8a791",
      "metadata": {
        "id": "32e8a791"
      },
      "outputs": [],
      "source": [
        "# Pre-processing Light Curves\n",
        "lc = lc.remove_nans()\n",
        "lc = lc.normalize()\n",
        "lc = lc.flatten(window_length=401)\n",
        "lc = lc.remove_outliers(sigma=5)\n"
      ]
    },
    {
      "cell_type": "code",
      "execution_count": null,
      "id": "d9ce4015",
      "metadata": {
        "id": "d9ce4015",
        "outputId": "847724e6-26d1-4cf9-8e0c-6a99e100f88a"
      },
      "outputs": [
        {
          "data": {
            "text/plain": [
              "<Axes: xlabel='Time - 2457000 [BTJD days]', ylabel='Normalized Flux'>"
            ]
          },
          "execution_count": 8,
          "metadata": {},
          "output_type": "execute_result"
        },
        {
          "data": {
            "image/png": "[encoded data removed]",
            "text/plain": [
              "<Figure size 848.5x400 with 1 Axes>"
            ]
          },
          "metadata": {},
          "output_type": "display_data"
        }
      ],
      "source": [
        "lc.plot()"
      ]
    },
    {
      "cell_type": "code",
      "execution_count": null,
      "id": "69fb048e",
      "metadata": {
        "id": "69fb048e"
      },
      "outputs": [],
      "source": [
        "import numpy as np"
      ]
    },
    {
      "cell_type": "code",
      "execution_count": null,
      "id": "b8c26a3e",
      "metadata": {
        "id": "b8c26a3e",
        "outputId": "9248cdf3-6918-493c-ab6f-9854f1f4f8a3"
      },
      "outputs": [
        {
          "name": "stderr",
          "output_type": "stream",
          "text": [
            "`period` contains 8645598 points.Periodogram is likely to be large, and slow to evaluate. Consider setting `frequency_factor` to a higher value.\n"
          ]
        },
        {
          "data": {
            "text/plain": [
              "<Axes: xlabel='Period [$\\\\mathrm{d}$]', ylabel='BLS Power'>"
            ]
          },
          "execution_count": 10,
          "metadata": {},
          "output_type": "execute_result"
        }
      ],
      "source": [
        "pg = lc.to_periodogram(method=\"bls\", period=np.linspace(0.5, 20, 10000))\n",
        "pg.plot()"
      ]
    },
    {
      "cell_type": "markdown",
      "id": "6775eec1",
      "metadata": {
        "id": "6775eec1"
      },
      "source": [
        "##### Define & Initialise Data Pre-Processing Pipelines"
      ]
    },
    {
      "cell_type": "code",
      "execution_count": null,
      "id": "ac0aefcb",
      "metadata": {
        "id": "ac0aefcb"
      },
      "outputs": [],
      "source": [
        "# Storing lightcurves data in arrays - for 1D Convolutional Neural Networks\n",
        "def saveLightCurves(lightcurves, labels, filename='lightcurve_dataset.npz'):\n",
        "    x, time, y, tids = [], [], [], []\n",
        "    for tid, lc in lightcurves.items():\n",
        "        # Store arrays\n",
        "        x.append(lc.flux.value)\n",
        "        time.append(lc.time.value)\n",
        "        y.append(labels.get(tid, None))\n",
        "        tids.append(tid)\n",
        "\n",
        "    # Convert to numpy arrays\n",
        "    x = np.array(x, dtype=object) # use dtype=object if lengths differ\n",
        "    time = np.array(time, dtype=object)\n",
        "    y = np.array(y)\n",
        "    tids = np.array(tids)\n",
        "\n",
        "    np.savez(filename, x=x, time=time, y=y, tids=tids)\n",
        "    print(f'✅ Saved {len(X)} lightcurves to {filename}')"
      ]
    },
    {
      "cell_type": "markdown",
      "id": "84b64304",
      "metadata": {
        "id": "84b64304"
      },
      "source": [
        "##### Load the Dataset Later"
      ]
    },
    {
      "cell_type": "code",
      "execution_count": null,
      "id": "080daa78",
      "metadata": {
        "id": "080daa78"
      },
      "outputs": [],
      "source": [
        "# Load the dataset later\n",
        "def writeLightCurves(filename='lightcurve_dataset.npz'):\n",
        "    data = np.load(filename, allow_pickle=True)\n",
        "    x = data['x']\n",
        "    time = data['time']\n",
        "    y = data['y']\n",
        "    tids = data['tids']\n",
        "    print(f'✅ Loaded {len(x)} lightcurves from {filename}')\n",
        "    return x, time, y, tids"
      ]
    },
    {
      "cell_type": "markdown",
      "id": "ca2f21e1",
      "metadata": {
        "id": "ca2f21e1"
      },
      "source": [
        "##### Visualisation Function (Optional)"
      ]
    },
    {
      "cell_type": "code",
      "execution_count": null,
      "id": "c7d247c0",
      "metadata": {
        "id": "c7d247c0"
      },
      "outputs": [],
      "source": [
        "import matplotlib.pyplot as plt\n",
        "\n",
        "def plotLightCurves(time, flux, tid=None, label=None):\n",
        "    plt.figure(figsize=(10, 4))\n",
        "    plt.plot(time, flux, \"k.\", markersize=1)\n",
        "    plt.xlabel(\"Time (BTJD days)\")\n",
        "    plt.ylabel(\"Normalized Flux\")\n",
        "    title = f\"TIC {tid}\" if tid else \"Light Curve\"\n",
        "    if label is not None:\n",
        "        title += f\" (Label: {label})\"\n",
        "    plt.title(title)\n",
        "    plt.show()\n"
      ]
    },
    {
      "cell_type": "markdown",
      "id": "4e9faabd",
      "metadata": {
        "id": "4e9faabd"
      },
      "source": [
        "##### Collecting TESS Light Curves Data"
      ]
    },
    {
      "cell_type": "code",
      "execution_count": null,
      "id": "4067d11b",
      "metadata": {
        "id": "4067d11b"
      },
      "outputs": [],
      "source": [
        "from tqdm import tqdm\n",
        "\n",
        "lightcurves = {}\n",
        "\n",
        "for tid in tqdm(tids[:200], desc=\"Downloading lightcurves\"):\n",
        "    try:\n",
        "        search_result = lk.search_lightcurve(f\"TIC {tid}\", mission=\"TESS\", author=\"SPOC\")\n",
        "\n",
        "        if len(search_result) == 0:\n",
        "            print(f\"No light curve found for TIC {tid}\")\n",
        "            continue\n",
        "\n",
        "        # Download one at a time instead of all at once\n",
        "        lc_list = []\n",
        "        for sr in search_result:\n",
        "            try:\n",
        "                lc = sr.download()\n",
        "                if lc is not None:\n",
        "                    lc = lc[lc.quality == 0]  # Keep only good quality data\n",
        "                    lc_list.append(lc)\n",
        "            except Exception as sub_e:\n",
        "                print(f\"  Skipped one sector for TIC {tid}: {sub_e}\")\n",
        "\n",
        "        # Stitch all downloaded light curves for this TIC\n",
        "        if len(lc_list) > 0:\n",
        "            stitched = lc_list[0]\n",
        "            if len(lc_list) > 1:\n",
        "                stitched = lc_list[0].stitch(lc_list[1:])\n",
        "            lightcurves[tid] = stitched\n",
        "\n",
        "    except Exception as e:\n",
        "        print(f\"Error with TIC {tid}: {e}\")"
      ]
    },
    {
      "cell_type": "code",
      "execution_count": null,
      "id": "c77fbfa2",
      "metadata": {
        "id": "c77fbfa2"
      },
      "outputs": [],
      "source": [
        "# Save dataset\n",
        "saveLightCurves()"
      ]
    },
    {
      "cell_type": "markdown",
      "id": "601ec68c",
      "metadata": {
        "id": "601ec68c"
      },
      "source": [
        "<hr>\n",
        "\n",
        "## <h4 align='center'>Borneo Data Pioneers - NASA Space Apps Challenge 2025. </h3>"
      ]
    }
  ],
  "metadata": {
    "kernelspec": {
      "display_name": "base",
      "language": "python",
      "name": "python3"
    },
    "language_info": {
      "codemirror_mode": {
        "name": "ipython",
        "version": 3
      },
      "file_extension": ".py",
      "mimetype": "text/x-python",
      "name": "python",
      "nbconvert_exporter": "python",
      "pygments_lexer": "ipython3",
      "version": "3.13.5"
    },
    "colab": {
      "provenance": [],
      "include_colab_link": true
    }
  },
  "nbformat": 4,
  "nbformat_minor": 5
}